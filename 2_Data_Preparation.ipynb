{
  "nbformat": 4,
  "nbformat_minor": 0,
  "metadata": {
    "colab": {
      "provenance": [],
      "authorship_tag": "ABX9TyM04k7pMu4vTvYf5Zboxhna",
      "include_colab_link": true
    },
    "kernelspec": {
      "name": "python3",
      "display_name": "Python 3"
    },
    "language_info": {
      "name": "python"
    }
  },
  "cells": [
    {
      "cell_type": "markdown",
      "metadata": {
        "id": "view-in-github",
        "colab_type": "text"
      },
      "source": [
        "<a href=\"https://colab.research.google.com/github/Ryong1998/snowball/blob/main/2_Data_Preparation.ipynb\" target=\"_parent\"><img src=\"https://colab.research.google.com/assets/colab-badge.svg\" alt=\"Open In Colab\"/></a>"
      ]
    },
    {
      "cell_type": "markdown",
      "source": [
        "# 1. 초기 데이터 수집 보고서"
      ],
      "metadata": {
        "id": "V8xCv6z9EbdD"
      }
    },
    {
      "cell_type": "markdown",
      "source": [
        "## 1-1. DART 재무제표 데이터 수집"
      ],
      "metadata": {
        "id": "-f185zTgF4YC"
      }
    },
    {
      "cell_type": "markdown",
      "source": [
        "### 1-1-1. 파일 다운로드 방법"
      ],
      "metadata": {
        "id": "qNBP64Ermsqq"
      }
    },
    {
      "cell_type": "markdown",
      "source": [
        "1. https://dart.fss.or.kr/ 전자공시시스템 사이트 접속\n",
        "2. OpenDART(위쪽 메뉴) -> 재무정보일괄다운로드(좌측 메뉴) 선택\n",
        "3. 2015~2022년 재무상태표, 손익계산서, 현금흐름표를 클릭하여 파일들 다운로드\n",
        "4. 해당 파일들은 zip 파일로 되어 있어서 압축해제 실행\n",
        "5. 압축 해제한 파일은 'data > Finance_report_txt' 폴더에 저장"
      ],
      "metadata": {
        "id": "bSFFcPnDingq"
      }
    },
    {
      "cell_type": "markdown",
      "source": [
        "### 1-1-2. 저장한 파일 정리"
      ],
      "metadata": {
        "id": "URBHjTiymwe1"
      }
    },
    {
      "cell_type": "markdown",
      "source": [
        "1. 저장한 파일들에서 PL은 손익계산서를, BS는 재무상태표를, CF는 현금흐름표를 의미함\n",
        "2. Q는 분기를 의미함(1Q는 1분기, 2Q는 2분기)\n",
        "3. 'Finance_report_txt' 폴더에 있는 각 파일들에 접근하기 위해서는 폴더들을 여러번 왔다갔다 해야 함으로, 파일명을 알기 쉽게 변경해서 손익계산서 파일들은 'PL_report_txt'폴더에, 재무상태표 파일들은 'BS_report_txt'폴더에 복사\n",
        "4. 'PL_report_txt'에 있는 파일들 중 '_1'은 '손익계산서-별도재무제표', '_2'는 '손익계산서-연결재무제표', '_3'은 '포괄손익계산서-별도재무제표', '_4'는 '포괄손익계산서-연결재무제표' 를 뜻함\n",
        "5. 'BS_report_txt'에 있는 파일들 중 '_1'은 '재무상태표-별도재무제표', '_2'는 '재무상태표-연결재무제표'를 뜻함"
      ],
      "metadata": {
        "id": "OulROokonyVv"
      }
    },
    {
      "cell_type": "markdown",
      "source": [
        "\n",
        "## 1-2. 금융지주회사 재무제표 데이터 수집"
      ],
      "metadata": {
        "id": "UfTBCXNhvKuO"
      }
    },
    {
      "cell_type": "markdown",
      "source": [
        "1. https://fisis.fss.or.kr/fss/fsiview/indexw.html 금융통계정보시스템 사이트 접속\n",
        "2. '경영정보(위쪽 메뉴) -> 단순 통계표 조회(하위 메뉴)' 선택\n",
        "3. '금융지주회사(왼쪽 메뉴) -> 재무현황(중간 메뉴) -> 요약연결재무상태표(부채 및 자본), 요약연결손익계산서, 요약연결현금흐름표'를 각각 클릭해서 데이터 조회\n",
        "4. 조회기간은 2015년 3월 ~ 2023년 3월, 모든 지주회사 체크\n",
        "5. 재무상태표는 '부채총계, 자본총계, 자산총계'를 클릭해서 추출한 후 '금융지주 연결재무상태표.xls' 파일로 저장\n",
        "6. 손익계산서는 '영업수익, 영업이익, 연결당기순이익'를 클릭해서 추출한 후 '금융지주 연결손익계산서.xls' 파일로 저장\n",
        "7. 현금흐름표는 '영업활동으로 인한 현금흐름, 투자활동으로 인한 현금흐름, 재무활동으로 인한 현금흐름' 를 클릭해서 추출한 후 '금융지주 현금흐름표.xls' 파일로 저장\n",
        "8. 우리은행의 경우, 2019년 이전의 데이터가 존재하지 않음으로, '경영정보(위쪽 메뉴) -> 단순 통계표 조회(하위 메뉴) -> 국내은(왼쪽 메뉴) -> 재무현황(중간 메뉴) -> 연결재무상태표(부채 및 자본), 연결손익계산서'를 클릭해서 데이터 조회\n",
        "9. 재무상태표는 '부채총계, 자본총계, 자산총계'를 클릭해서 추출한 후 '우리은행 연결재무상태표.xls'로 저장, 손익계산서는 '영업수익, 영업이익, 연결당기순이익'를 클릭해서 추가적으로 추출한 후 '우리은행 연결손익계산서.xls'로 저장\n",
        "10. 금융지주회사들은 네이버 증권을 활용해서 주식코드를 찾은 후 '금융지주 주식코드.csv' 파일로 정리하여서 저장\n",
        "11. 다운로드 받은 파일들은 'Bank_holding' 폴더에 저장\n"
      ],
      "metadata": {
        "id": "Un_k5-BKvXB4"
      }
    },
    {
      "cell_type": "markdown",
      "source": [
        "## 1-3. ETF 기본정보 데이터 수집"
      ],
      "metadata": {
        "id": "G8nC205AF82W"
      }
    },
    {
      "cell_type": "markdown",
      "source": [
        "1. http://data.krx.co.kr/contents/MDC/MAIN/main/index.cmd krx 정보데이터 시스템 사이트 접속\n",
        "2. '증권상품(좌측메뉴) -> ETF -> 전종목기본정보' 선택\n",
        "3. 'data > ETF_base_info' 폴더에 다운로드 받은 파일을 저장(파일명 : 전종목기본정보.csv , 2023년 4월 13일 기준)"
      ],
      "metadata": {
        "id": "dEwSk-U8hWN9"
      }
    },
    {
      "cell_type": "markdown",
      "source": [
        "## 1-4. PDF 데이터 수집(크롤링)"
      ],
      "metadata": {
        "id": "DscpV3eJF858"
      }
    },
    {
      "cell_type": "markdown",
      "source": [
        "### 1-4-1. getDateinfo.py"
      ],
      "metadata": {
        "id": "htvSu0m2wJ4V"
      }
    },
    {
      "cell_type": "code",
      "source": [],
      "metadata": {
        "id": "LkAihFV8OxeE"
      },
      "execution_count": null,
      "outputs": []
    },
    {
      "cell_type": "markdown",
      "source": [
        "### 1-4-2. krx_selenium_download.py"
      ],
      "metadata": {
        "id": "IDfsFdxzwW2R"
      }
    },
    {
      "cell_type": "code",
      "source": [],
      "metadata": {
        "id": "LDc7fRLKOyCC"
      },
      "execution_count": null,
      "outputs": []
    },
    {
      "cell_type": "markdown",
      "source": [
        "## 1-5. ETF 가격 데이터 수집(크롤링)"
      ],
      "metadata": {
        "id": "jPyPzZZJF89G"
      }
    },
    {
      "cell_type": "markdown",
      "source": [],
      "metadata": {
        "id": "4ekic9SrF9AG"
      }
    },
    {
      "cell_type": "markdown",
      "source": [],
      "metadata": {
        "id": "xGWxQIAUF9Uc"
      }
    },
    {
      "cell_type": "markdown",
      "source": [],
      "metadata": {
        "id": "eIcPO1jmF9Xm"
      }
    },
    {
      "cell_type": "markdown",
      "source": [],
      "metadata": {
        "id": "vUXkfH0yF9a-"
      }
    },
    {
      "cell_type": "markdown",
      "source": [
        "# 2. 데이터 설명 리포트"
      ],
      "metadata": {
        "id": "_XmXN6WhEnyt"
      }
    },
    {
      "cell_type": "markdown",
      "source": [
        "## 2-1. 제무제표 데이터 설명"
      ],
      "metadata": {
        "id": "MRuoH2lGIG_c"
      }
    },
    {
      "cell_type": "markdown",
      "source": [
        "### 2-1-1. 재무제표 원본 데이터 설명"
      ],
      "metadata": {
        "id": "THtWzp-AIHCc"
      }
    },
    {
      "cell_type": "markdown",
      "source": [
        "### 2-1-2. 재무제표 데이터 데이터프레임화"
      ],
      "metadata": {
        "id": "LdvWKgCyIHFW"
      }
    },
    {
      "cell_type": "markdown",
      "source": [
        "## 2-2. ETF 기본정보 데이터 설명"
      ],
      "metadata": {
        "id": "EQcGQnzGImz9"
      }
    },
    {
      "cell_type": "markdown",
      "source": [
        "## 2-3. PDF 데이터 설명"
      ],
      "metadata": {
        "id": "nEkR3LxZIm24"
      }
    },
    {
      "cell_type": "markdown",
      "source": [
        "## 2-4. ETF 가격 데이터 설명"
      ],
      "metadata": {
        "id": "FWCA73m-Im5y"
      }
    },
    {
      "cell_type": "markdown",
      "source": [
        "# 3.  데이터 탐색 보고서"
      ],
      "metadata": {
        "id": "yC-66M9qFbmJ"
      }
    },
    {
      "cell_type": "markdown",
      "source": [
        "# 4. 데이터 품질 보고서"
      ],
      "metadata": {
        "id": "ilBI9SAKFcL8"
      }
    }
  ]
}