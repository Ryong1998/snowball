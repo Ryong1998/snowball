{
  "nbformat": 4,
  "nbformat_minor": 0,
  "metadata": {
    "colab": {
      "provenance": [],
      "toc_visible": true,
      "mount_file_id": "1dQbu2UunQrTzidL2MoPWjz2Auq1LsIkT",
      "authorship_tag": "ABX9TyPQUXKW+VEZrTWNv9pMCDOz",
      "include_colab_link": true
    },
    "kernelspec": {
      "name": "python3",
      "display_name": "Python 3"
    },
    "language_info": {
      "name": "python"
    }
  },
  "cells": [
    {
      "cell_type": "markdown",
      "metadata": {
        "id": "view-in-github",
        "colab_type": "text"
      },
      "source": [
        "<a href=\"https://colab.research.google.com/github/Ryong1998/snowball/blob/main/2_Data_Preparation.ipynb\" target=\"_parent\"><img src=\"https://colab.research.google.com/assets/colab-badge.svg\" alt=\"Open In Colab\"/></a>"
      ]
    },
    {
      "cell_type": "code",
      "source": [
        "# 드라이브 마운트\n",
        "from google.colab import drive\n",
        "drive.mount('/content/drive')"
      ],
      "metadata": {
        "colab": {
          "base_uri": "https://localhost:8080/"
        },
        "id": "W6UJDFLoPDTh",
        "outputId": "7664dfe2-b1ad-40dd-ff72-63d8a3e138f9"
      },
      "execution_count": 1,
      "outputs": [
        {
          "output_type": "stream",
          "name": "stdout",
          "text": [
            "Drive already mounted at /content/drive; to attempt to forcibly remount, call drive.mount(\"/content/drive\", force_remount=True).\n"
          ]
        }
      ]
    },
    {
      "cell_type": "markdown",
      "source": [
        "# 1. 초기 데이터 수집 보고서"
      ],
      "metadata": {
        "id": "V8xCv6z9EbdD"
      }
    },
    {
      "cell_type": "markdown",
      "source": [
        "## 1-1. DART 재무제표 데이터 수집"
      ],
      "metadata": {
        "id": "-f185zTgF4YC"
      }
    },
    {
      "cell_type": "markdown",
      "source": [
        "### 1-1-1. 파일 다운로드 방법"
      ],
      "metadata": {
        "id": "qNBP64Ermsqq"
      }
    },
    {
      "cell_type": "markdown",
      "source": [
        "1. https://dart.fss.or.kr/ 전자공시시스템 사이트 접속\n",
        "2. OpenDART(위쪽 메뉴) -> 재무정보일괄다운로드(좌측 메뉴) 선택\n",
        "3. 2015~2022년 재무상태표, 손익계산서, 현금흐름표를 클릭하여 파일들 다운로드\n",
        "4. 해당 파일들은 zip 파일로 되어 있어서 압축해제 실행\n",
        "5. 압축 해제한 파일은 'data > Finance_report_txt' 폴더에 저장"
      ],
      "metadata": {
        "id": "bSFFcPnDingq"
      }
    },
    {
      "cell_type": "markdown",
      "source": [
        "### 1-1-2. 저장한 파일 정리"
      ],
      "metadata": {
        "id": "URBHjTiymwe1"
      }
    },
    {
      "cell_type": "markdown",
      "source": [
        "1. 저장한 파일들에서 PL은 손익계산서를, BS는 재무상태표를, CF는 현금흐름표를 의미함\n",
        "2. Q는 분기를 의미함(1Q는 1분기, 2Q는 2분기)\n",
        "3. 'Finance_report_txt' 폴더에 있는 각 파일들에 접근하기 위해서는 폴더들을 여러번 왔다갔다 해야 함으로, 파일명을 알기 쉽게 변경해서 손익계산서 파일들은 'PL_report_txt'폴더에, 재무상태표 파일들은 'BS_report_txt'폴더에 복사\n",
        "4. 'PL_report_txt'에 있는 파일들 중 '_1'은 '손익계산서-별도재무제표', '_2'는 '손익계산서-연결재무제표', '_3'은 '포괄손익계산서-별도재무제표', '_4'는 '포괄손익계산서-연결재무제표' 를 뜻함\n",
        "5. 'BS_report_txt'에 있는 파일들 중 '_1'은 '재무상태표-별도재무제표', '_2'는 '재무상태표-연결재무제표'를 뜻함"
      ],
      "metadata": {
        "id": "OulROokonyVv"
      }
    },
    {
      "cell_type": "markdown",
      "source": [
        "\n",
        "## 1-2. 금융지주회사 재무제표 데이터 수집"
      ],
      "metadata": {
        "id": "UfTBCXNhvKuO"
      }
    },
    {
      "cell_type": "markdown",
      "source": [
        "1. https://fisis.fss.or.kr/fss/fsiview/indexw.html 금융통계정보시스템 사이트 접속\n",
        "2. '경영정보(위쪽 메뉴) -> 단순 통계표 조회(하위 메뉴)' 선택\n",
        "3. '금융지주회사(왼쪽 메뉴) -> 재무현황(중간 메뉴) -> 요약연결재무상태표(부채 및 자본), 요약연결손익계산서, 요약연결현금흐름표'를 각각 클릭해서 데이터 조회\n",
        "4. 조회기간은 2015년 3월 ~ 2023년 3월, 모든 지주회사 체크\n",
        "5. 재무상태표는 '부채총계, 자본총계, 자산총계'를 클릭해서 추출한 후 '금융지주 연결재무상태표.xls' 파일로 저장\n",
        "6. 손익계산서는 '영업수익, 영업이익, 연결당기순이익'를 클릭해서 추출한 후 '금융지주 연결손익계산서.xls' 파일로 저장\n",
        "7. 현금흐름표는 '영업활동으로 인한 현금흐름, 투자활동으로 인한 현금흐름, 재무활동으로 인한 현금흐름' 를 클릭해서 추출한 후 '금융지주 현금흐름표.xls' 파일로 저장\n",
        "8. 우리은행의 경우, 2019년 이전의 데이터가 존재하지 않음으로, '경영정보(위쪽 메뉴) -> 단순 통계표 조회(하위 메뉴) -> 국내은(왼쪽 메뉴) -> 재무현황(중간 메뉴) -> 연결재무상태표(부채 및 자본), 연결손익계산서'를 클릭해서 데이터 조회\n",
        "9. 재무상태표는 '부채총계, 자본총계, 자산총계'를 클릭해서 추출한 후 '우리은행 연결재무상태표.xls'로 저장, 손익계산서는 '영업수익, 영업이익, 연결당기순이익'를 클릭해서 추가적으로 추출한 후 '우리은행 연결손익계산서.xls'로 저장\n",
        "10. 금융지주회사들은 네이버 증권을 활용해서 주식코드를 찾은 후 '금융지주 주식코드.csv' 파일로 정리하여서 저장\n",
        "11. 다운로드 받은 파일들은 'Bank_holding' 폴더에 저장\n"
      ],
      "metadata": {
        "id": "Un_k5-BKvXB4"
      }
    },
    {
      "cell_type": "markdown",
      "source": [
        "## 1-3. ETF 기본정보 데이터 수집"
      ],
      "metadata": {
        "id": "G8nC205AF82W"
      }
    },
    {
      "cell_type": "markdown",
      "source": [
        "1. http://data.krx.co.kr/contents/MDC/MAIN/main/index.cmd krx 정보데이터 시스템 사이트 접속\n",
        "2. '증권상품(좌측메뉴) -> ETF -> 전종목기본정보' 선택\n",
        "3. 'data > ETF_base_info' 폴더에 다운로드 받은 파일을 저장(파일명 : 전종목기본정보.csv , 2023년 4월 13일 기준)"
      ],
      "metadata": {
        "id": "dEwSk-U8hWN9"
      }
    },
    {
      "cell_type": "markdown",
      "source": [
        "## 1-4. PDF 데이터 수집(크롤링)"
      ],
      "metadata": {
        "id": "DscpV3eJF858"
      }
    },
    {
      "cell_type": "markdown",
      "source": [
        "1. 각 ETF를 구성하는 주식들의 비율을 ETF 내 기준에 따라 계속해서 변할 것임으로 각 ETF별 PDF 파일들이 필요\n",
        "2. ETF를 구성하는 주식들의 비율이 정확히 언제 변하는지 알기 어려움으로, 각 ETF의 매달 첫번째 개장일의 PDF 파일들을 사용할 예정\n",
        "3. '1. 개장일 추출 -> 2. 매달 첫번째 개장일 조회 -> 3. 해당 일의 PDF 파일 다운' 순으로 진행\n"
      ],
      "metadata": {
        "id": "T8TwS_KztA5l"
      }
    },
    {
      "cell_type": "markdown",
      "source": [
        "### 1-4-1. 개장일 추출"
      ],
      "metadata": {
        "id": "L5E7SnHasg27"
      }
    },
    {
      "cell_type": "markdown",
      "source": [
        "1. http://open.krx.co.kr/contents/MKD/01/0110/01100305/MKD01100305.jsp 사이트로 부터 2015~2023년의 연도별 휴장일들을 추출한뒤 'ETC'폴더에 'krx_holiday.csv' 파일로 저장\n",
        "2.'krx_holiday.csv'을 활용해서 개장일 들을 구한 다음 'ETC'폴더에 'openDate.csv'파일로 저장"
      ],
      "metadata": {
        "id": "IsjB-8YPq-pu"
      }
    },
    {
      "cell_type": "code",
      "source": [
        "import pandas as pd\n",
        "\n",
        "# 휴장일 파일 읽기\n",
        "holiday_df = pd.read_csv(\"/content/drive/MyDrive/snowball/data/ETC/krx_holiday.csv\")\n",
        "print(holiday_df.info())\n",
        "holiday_df.head(10)"
      ],
      "metadata": {
        "colab": {
          "base_uri": "https://localhost:8080/",
          "height": 526
        },
        "id": "U4FG9-vGwxRF",
        "outputId": "1afca84b-3e71-46ad-8897-71a68da06fee"
      },
      "execution_count": null,
      "outputs": [
        {
          "output_type": "stream",
          "name": "stdout",
          "text": [
            "<class 'pandas.core.frame.DataFrame'>\n",
            "RangeIndex: 132 entries, 0 to 131\n",
            "Data columns (total 1 columns):\n",
            " #   Column  Non-Null Count  Dtype \n",
            "---  ------  --------------  ----- \n",
            " 0   Date    132 non-null    object\n",
            "dtypes: object(1)\n",
            "memory usage: 1.2+ KB\n",
            "None\n"
          ]
        },
        {
          "output_type": "execute_result",
          "data": {
            "text/plain": [
              "         Date\n",
              "0  2015-01-01\n",
              "1  2015-02-18\n",
              "2  2015-02-19\n",
              "3  2015-02-20\n",
              "4  2015-05-01\n",
              "5  2015-05-05\n",
              "6  2015-05-25\n",
              "7  2015-08-14\n",
              "8  2015-09-28\n",
              "9  2015-09-29"
            ],
            "text/html": [
              "\n",
              "\n",
              "  <div id=\"df-2866d8df-3275-4798-8695-0da928294560\">\n",
              "    <div class=\"colab-df-container\">\n",
              "      <div>\n",
              "<style scoped>\n",
              "    .dataframe tbody tr th:only-of-type {\n",
              "        vertical-align: middle;\n",
              "    }\n",
              "\n",
              "    .dataframe tbody tr th {\n",
              "        vertical-align: top;\n",
              "    }\n",
              "\n",
              "    .dataframe thead th {\n",
              "        text-align: right;\n",
              "    }\n",
              "</style>\n",
              "<table border=\"1\" class=\"dataframe\">\n",
              "  <thead>\n",
              "    <tr style=\"text-align: right;\">\n",
              "      <th></th>\n",
              "      <th>Date</th>\n",
              "    </tr>\n",
              "  </thead>\n",
              "  <tbody>\n",
              "    <tr>\n",
              "      <th>0</th>\n",
              "      <td>2015-01-01</td>\n",
              "    </tr>\n",
              "    <tr>\n",
              "      <th>1</th>\n",
              "      <td>2015-02-18</td>\n",
              "    </tr>\n",
              "    <tr>\n",
              "      <th>2</th>\n",
              "      <td>2015-02-19</td>\n",
              "    </tr>\n",
              "    <tr>\n",
              "      <th>3</th>\n",
              "      <td>2015-02-20</td>\n",
              "    </tr>\n",
              "    <tr>\n",
              "      <th>4</th>\n",
              "      <td>2015-05-01</td>\n",
              "    </tr>\n",
              "    <tr>\n",
              "      <th>5</th>\n",
              "      <td>2015-05-05</td>\n",
              "    </tr>\n",
              "    <tr>\n",
              "      <th>6</th>\n",
              "      <td>2015-05-25</td>\n",
              "    </tr>\n",
              "    <tr>\n",
              "      <th>7</th>\n",
              "      <td>2015-08-14</td>\n",
              "    </tr>\n",
              "    <tr>\n",
              "      <th>8</th>\n",
              "      <td>2015-09-28</td>\n",
              "    </tr>\n",
              "    <tr>\n",
              "      <th>9</th>\n",
              "      <td>2015-09-29</td>\n",
              "    </tr>\n",
              "  </tbody>\n",
              "</table>\n",
              "</div>\n",
              "      <button class=\"colab-df-convert\" onclick=\"convertToInteractive('df-2866d8df-3275-4798-8695-0da928294560')\"\n",
              "              title=\"Convert this dataframe to an interactive table.\"\n",
              "              style=\"display:none;\">\n",
              "\n",
              "  <svg xmlns=\"http://www.w3.org/2000/svg\" height=\"24px\"viewBox=\"0 0 24 24\"\n",
              "       width=\"24px\">\n",
              "    <path d=\"M0 0h24v24H0V0z\" fill=\"none\"/>\n",
              "    <path d=\"M18.56 5.44l.94 2.06.94-2.06 2.06-.94-2.06-.94-.94-2.06-.94 2.06-2.06.94zm-11 1L8.5 8.5l.94-2.06 2.06-.94-2.06-.94L8.5 2.5l-.94 2.06-2.06.94zm10 10l.94 2.06.94-2.06 2.06-.94-2.06-.94-.94-2.06-.94 2.06-2.06.94z\"/><path d=\"M17.41 7.96l-1.37-1.37c-.4-.4-.92-.59-1.43-.59-.52 0-1.04.2-1.43.59L10.3 9.45l-7.72 7.72c-.78.78-.78 2.05 0 2.83L4 21.41c.39.39.9.59 1.41.59.51 0 1.02-.2 1.41-.59l7.78-7.78 2.81-2.81c.8-.78.8-2.07 0-2.86zM5.41 20L4 18.59l7.72-7.72 1.47 1.35L5.41 20z\"/>\n",
              "  </svg>\n",
              "      </button>\n",
              "\n",
              "\n",
              "\n",
              "    <div id=\"df-dc13b257-53ef-45ef-a75a-cae5f5345821\">\n",
              "      <button class=\"colab-df-quickchart\" onclick=\"quickchart('df-dc13b257-53ef-45ef-a75a-cae5f5345821')\"\n",
              "              title=\"Suggest charts.\"\n",
              "              style=\"display:none;\">\n",
              "\n",
              "<svg xmlns=\"http://www.w3.org/2000/svg\" height=\"24px\"viewBox=\"0 0 24 24\"\n",
              "     width=\"24px\">\n",
              "    <g>\n",
              "        <path d=\"M19 3H5c-1.1 0-2 .9-2 2v14c0 1.1.9 2 2 2h14c1.1 0 2-.9 2-2V5c0-1.1-.9-2-2-2zM9 17H7v-7h2v7zm4 0h-2V7h2v10zm4 0h-2v-4h2v4z\"/>\n",
              "    </g>\n",
              "</svg>\n",
              "      </button>\n",
              "    </div>\n",
              "\n",
              "<style>\n",
              "  .colab-df-quickchart {\n",
              "    background-color: #E8F0FE;\n",
              "    border: none;\n",
              "    border-radius: 50%;\n",
              "    cursor: pointer;\n",
              "    display: none;\n",
              "    fill: #1967D2;\n",
              "    height: 32px;\n",
              "    padding: 0 0 0 0;\n",
              "    width: 32px;\n",
              "  }\n",
              "\n",
              "  .colab-df-quickchart:hover {\n",
              "    background-color: #E2EBFA;\n",
              "    box-shadow: 0px 1px 2px rgba(60, 64, 67, 0.3), 0px 1px 3px 1px rgba(60, 64, 67, 0.15);\n",
              "    fill: #174EA6;\n",
              "  }\n",
              "\n",
              "  [theme=dark] .colab-df-quickchart {\n",
              "    background-color: #3B4455;\n",
              "    fill: #D2E3FC;\n",
              "  }\n",
              "\n",
              "  [theme=dark] .colab-df-quickchart:hover {\n",
              "    background-color: #434B5C;\n",
              "    box-shadow: 0px 1px 3px 1px rgba(0, 0, 0, 0.15);\n",
              "    filter: drop-shadow(0px 1px 2px rgba(0, 0, 0, 0.3));\n",
              "    fill: #FFFFFF;\n",
              "  }\n",
              "</style>\n",
              "\n",
              "    <script>\n",
              "      async function quickchart(key) {\n",
              "        const containerElement = document.querySelector('#' + key);\n",
              "        const charts = await google.colab.kernel.invokeFunction(\n",
              "            'suggestCharts', [key], {});\n",
              "      }\n",
              "    </script>\n",
              "\n",
              "      <script>\n",
              "\n",
              "function displayQuickchartButton(domScope) {\n",
              "  let quickchartButtonEl =\n",
              "    domScope.querySelector('#df-dc13b257-53ef-45ef-a75a-cae5f5345821 button.colab-df-quickchart');\n",
              "  quickchartButtonEl.style.display =\n",
              "    google.colab.kernel.accessAllowed ? 'block' : 'none';\n",
              "}\n",
              "\n",
              "        displayQuickchartButton(document);\n",
              "      </script>\n",
              "      <style>\n",
              "    .colab-df-container {\n",
              "      display:flex;\n",
              "      flex-wrap:wrap;\n",
              "      gap: 12px;\n",
              "    }\n",
              "\n",
              "    .colab-df-convert {\n",
              "      background-color: #E8F0FE;\n",
              "      border: none;\n",
              "      border-radius: 50%;\n",
              "      cursor: pointer;\n",
              "      display: none;\n",
              "      fill: #1967D2;\n",
              "      height: 32px;\n",
              "      padding: 0 0 0 0;\n",
              "      width: 32px;\n",
              "    }\n",
              "\n",
              "    .colab-df-convert:hover {\n",
              "      background-color: #E2EBFA;\n",
              "      box-shadow: 0px 1px 2px rgba(60, 64, 67, 0.3), 0px 1px 3px 1px rgba(60, 64, 67, 0.15);\n",
              "      fill: #174EA6;\n",
              "    }\n",
              "\n",
              "    [theme=dark] .colab-df-convert {\n",
              "      background-color: #3B4455;\n",
              "      fill: #D2E3FC;\n",
              "    }\n",
              "\n",
              "    [theme=dark] .colab-df-convert:hover {\n",
              "      background-color: #434B5C;\n",
              "      box-shadow: 0px 1px 3px 1px rgba(0, 0, 0, 0.15);\n",
              "      filter: drop-shadow(0px 1px 2px rgba(0, 0, 0, 0.3));\n",
              "      fill: #FFFFFF;\n",
              "    }\n",
              "  </style>\n",
              "\n",
              "      <script>\n",
              "        const buttonEl =\n",
              "          document.querySelector('#df-2866d8df-3275-4798-8695-0da928294560 button.colab-df-convert');\n",
              "        buttonEl.style.display =\n",
              "          google.colab.kernel.accessAllowed ? 'block' : 'none';\n",
              "\n",
              "        async function convertToInteractive(key) {\n",
              "          const element = document.querySelector('#df-2866d8df-3275-4798-8695-0da928294560');\n",
              "          const dataTable =\n",
              "            await google.colab.kernel.invokeFunction('convertToInteractive',\n",
              "                                                     [key], {});\n",
              "          if (!dataTable) return;\n",
              "\n",
              "          const docLinkHtml = 'Like what you see? Visit the ' +\n",
              "            '<a target=\"_blank\" href=https://colab.research.google.com/notebooks/data_table.ipynb>data table notebook</a>'\n",
              "            + ' to learn more about interactive tables.';\n",
              "          element.innerHTML = '';\n",
              "          dataTable['output_type'] = 'display_data';\n",
              "          await google.colab.output.renderOutput(dataTable, element);\n",
              "          const docLink = document.createElement('div');\n",
              "          docLink.innerHTML = docLinkHtml;\n",
              "          element.appendChild(docLink);\n",
              "        }\n",
              "      </script>\n",
              "    </div>\n",
              "  </div>\n"
            ]
          },
          "metadata": {},
          "execution_count": 2
        }
      ]
    },
    {
      "cell_type": "code",
      "source": [
        "# 'Date' 열을 날짜 형식으로 변환\n",
        "holiday_df['Date'] = pd.to_datetime(holiday_df['Date'])\n",
        "print(holiday_df.info())"
      ],
      "metadata": {
        "colab": {
          "base_uri": "https://localhost:8080/"
        },
        "id": "zyA74JTyw8AD",
        "outputId": "2215169b-1532-4da6-ee87-809b55b064ec"
      },
      "execution_count": null,
      "outputs": [
        {
          "output_type": "stream",
          "name": "stdout",
          "text": [
            "<class 'pandas.core.frame.DataFrame'>\n",
            "RangeIndex: 132 entries, 0 to 131\n",
            "Data columns (total 1 columns):\n",
            " #   Column  Non-Null Count  Dtype         \n",
            "---  ------  --------------  -----         \n",
            " 0   Date    132 non-null    datetime64[ns]\n",
            "dtypes: datetime64[ns](1)\n",
            "memory usage: 1.2 KB\n",
            "None\n"
          ]
        }
      ]
    },
    {
      "cell_type": "code",
      "source": [
        "# 2015년부터 2023년까지의 날짜 범위 생성\n",
        "date_range = pd.date_range(start='2015-01-01', end='2023-12-31', freq='B')\n",
        "date_range"
      ],
      "metadata": {
        "colab": {
          "base_uri": "https://localhost:8080/"
        },
        "id": "bLXiiKx3xFN0",
        "outputId": "6c53e5ac-34ca-419b-c25a-fb9222f9268a"
      },
      "execution_count": null,
      "outputs": [
        {
          "output_type": "execute_result",
          "data": {
            "text/plain": [
              "DatetimeIndex(['2015-01-01', '2015-01-02', '2015-01-05', '2015-01-06',\n",
              "               '2015-01-07', '2015-01-08', '2015-01-09', '2015-01-12',\n",
              "               '2015-01-13', '2015-01-14',\n",
              "               ...\n",
              "               '2023-12-18', '2023-12-19', '2023-12-20', '2023-12-21',\n",
              "               '2023-12-22', '2023-12-25', '2023-12-26', '2023-12-27',\n",
              "               '2023-12-28', '2023-12-29'],\n",
              "              dtype='datetime64[ns]', length=2347, freq='B')"
            ]
          },
          "metadata": {},
          "execution_count": 4
        }
      ]
    },
    {
      "cell_type": "code",
      "source": [
        "# 주말 제외\n",
        "date_range = date_range[date_range.weekday < 5]\n",
        "\n",
        "# 휴일 제외\n",
        "date_range = date_range[~date_range.isin(holiday_df['Date'])]\n",
        "\n",
        "date_range # 주말과 공휴일을 제외해서 개장일들을 생성"
      ],
      "metadata": {
        "colab": {
          "base_uri": "https://localhost:8080/"
        },
        "id": "230F7REyxFQW",
        "outputId": "a3666b4f-fd37-4e5c-e52c-b2f10113de5b"
      },
      "execution_count": null,
      "outputs": [
        {
          "output_type": "execute_result",
          "data": {
            "text/plain": [
              "DatetimeIndex(['2015-01-02', '2015-01-05', '2015-01-06', '2015-01-07',\n",
              "               '2015-01-08', '2015-01-09', '2015-01-12', '2015-01-13',\n",
              "               '2015-01-14', '2015-01-15',\n",
              "               ...\n",
              "               '2023-12-14', '2023-12-15', '2023-12-18', '2023-12-19',\n",
              "               '2023-12-20', '2023-12-21', '2023-12-22', '2023-12-26',\n",
              "               '2023-12-27', '2023-12-28'],\n",
              "              dtype='datetime64[ns]', length=2215, freq=None)"
            ]
          },
          "metadata": {},
          "execution_count": 5
        }
      ]
    },
    {
      "cell_type": "code",
      "source": [
        "# 날짜로 DataFrame 생성\n",
        "opening_days_df = pd.DataFrame({'Date': date_range})\n",
        "print(opening_days_df.info())\n",
        "opening_days_df.head(5)"
      ],
      "metadata": {
        "colab": {
          "base_uri": "https://localhost:8080/",
          "height": 370
        },
        "id": "-zG3N1bfxNzx",
        "outputId": "84093bcf-1bf1-4c47-9271-458f657e4a1c"
      },
      "execution_count": null,
      "outputs": [
        {
          "output_type": "stream",
          "name": "stdout",
          "text": [
            "<class 'pandas.core.frame.DataFrame'>\n",
            "RangeIndex: 2215 entries, 0 to 2214\n",
            "Data columns (total 1 columns):\n",
            " #   Column  Non-Null Count  Dtype         \n",
            "---  ------  --------------  -----         \n",
            " 0   Date    2215 non-null   datetime64[ns]\n",
            "dtypes: datetime64[ns](1)\n",
            "memory usage: 17.4 KB\n",
            "None\n"
          ]
        },
        {
          "output_type": "execute_result",
          "data": {
            "text/plain": [
              "        Date\n",
              "0 2015-01-02\n",
              "1 2015-01-05\n",
              "2 2015-01-06\n",
              "3 2015-01-07\n",
              "4 2015-01-08"
            ],
            "text/html": [
              "\n",
              "\n",
              "  <div id=\"df-b9164125-d9be-4b4c-bcc8-497744ddb184\">\n",
              "    <div class=\"colab-df-container\">\n",
              "      <div>\n",
              "<style scoped>\n",
              "    .dataframe tbody tr th:only-of-type {\n",
              "        vertical-align: middle;\n",
              "    }\n",
              "\n",
              "    .dataframe tbody tr th {\n",
              "        vertical-align: top;\n",
              "    }\n",
              "\n",
              "    .dataframe thead th {\n",
              "        text-align: right;\n",
              "    }\n",
              "</style>\n",
              "<table border=\"1\" class=\"dataframe\">\n",
              "  <thead>\n",
              "    <tr style=\"text-align: right;\">\n",
              "      <th></th>\n",
              "      <th>Date</th>\n",
              "    </tr>\n",
              "  </thead>\n",
              "  <tbody>\n",
              "    <tr>\n",
              "      <th>0</th>\n",
              "      <td>2015-01-02</td>\n",
              "    </tr>\n",
              "    <tr>\n",
              "      <th>1</th>\n",
              "      <td>2015-01-05</td>\n",
              "    </tr>\n",
              "    <tr>\n",
              "      <th>2</th>\n",
              "      <td>2015-01-06</td>\n",
              "    </tr>\n",
              "    <tr>\n",
              "      <th>3</th>\n",
              "      <td>2015-01-07</td>\n",
              "    </tr>\n",
              "    <tr>\n",
              "      <th>4</th>\n",
              "      <td>2015-01-08</td>\n",
              "    </tr>\n",
              "  </tbody>\n",
              "</table>\n",
              "</div>\n",
              "      <button class=\"colab-df-convert\" onclick=\"convertToInteractive('df-b9164125-d9be-4b4c-bcc8-497744ddb184')\"\n",
              "              title=\"Convert this dataframe to an interactive table.\"\n",
              "              style=\"display:none;\">\n",
              "\n",
              "  <svg xmlns=\"http://www.w3.org/2000/svg\" height=\"24px\"viewBox=\"0 0 24 24\"\n",
              "       width=\"24px\">\n",
              "    <path d=\"M0 0h24v24H0V0z\" fill=\"none\"/>\n",
              "    <path d=\"M18.56 5.44l.94 2.06.94-2.06 2.06-.94-2.06-.94-.94-2.06-.94 2.06-2.06.94zm-11 1L8.5 8.5l.94-2.06 2.06-.94-2.06-.94L8.5 2.5l-.94 2.06-2.06.94zm10 10l.94 2.06.94-2.06 2.06-.94-2.06-.94-.94-2.06-.94 2.06-2.06.94z\"/><path d=\"M17.41 7.96l-1.37-1.37c-.4-.4-.92-.59-1.43-.59-.52 0-1.04.2-1.43.59L10.3 9.45l-7.72 7.72c-.78.78-.78 2.05 0 2.83L4 21.41c.39.39.9.59 1.41.59.51 0 1.02-.2 1.41-.59l7.78-7.78 2.81-2.81c.8-.78.8-2.07 0-2.86zM5.41 20L4 18.59l7.72-7.72 1.47 1.35L5.41 20z\"/>\n",
              "  </svg>\n",
              "      </button>\n",
              "\n",
              "\n",
              "\n",
              "    <div id=\"df-ffd674db-0b8c-4901-b5bb-6f61b9312edc\">\n",
              "      <button class=\"colab-df-quickchart\" onclick=\"quickchart('df-ffd674db-0b8c-4901-b5bb-6f61b9312edc')\"\n",
              "              title=\"Suggest charts.\"\n",
              "              style=\"display:none;\">\n",
              "\n",
              "<svg xmlns=\"http://www.w3.org/2000/svg\" height=\"24px\"viewBox=\"0 0 24 24\"\n",
              "     width=\"24px\">\n",
              "    <g>\n",
              "        <path d=\"M19 3H5c-1.1 0-2 .9-2 2v14c0 1.1.9 2 2 2h14c1.1 0 2-.9 2-2V5c0-1.1-.9-2-2-2zM9 17H7v-7h2v7zm4 0h-2V7h2v10zm4 0h-2v-4h2v4z\"/>\n",
              "    </g>\n",
              "</svg>\n",
              "      </button>\n",
              "    </div>\n",
              "\n",
              "<style>\n",
              "  .colab-df-quickchart {\n",
              "    background-color: #E8F0FE;\n",
              "    border: none;\n",
              "    border-radius: 50%;\n",
              "    cursor: pointer;\n",
              "    display: none;\n",
              "    fill: #1967D2;\n",
              "    height: 32px;\n",
              "    padding: 0 0 0 0;\n",
              "    width: 32px;\n",
              "  }\n",
              "\n",
              "  .colab-df-quickchart:hover {\n",
              "    background-color: #E2EBFA;\n",
              "    box-shadow: 0px 1px 2px rgba(60, 64, 67, 0.3), 0px 1px 3px 1px rgba(60, 64, 67, 0.15);\n",
              "    fill: #174EA6;\n",
              "  }\n",
              "\n",
              "  [theme=dark] .colab-df-quickchart {\n",
              "    background-color: #3B4455;\n",
              "    fill: #D2E3FC;\n",
              "  }\n",
              "\n",
              "  [theme=dark] .colab-df-quickchart:hover {\n",
              "    background-color: #434B5C;\n",
              "    box-shadow: 0px 1px 3px 1px rgba(0, 0, 0, 0.15);\n",
              "    filter: drop-shadow(0px 1px 2px rgba(0, 0, 0, 0.3));\n",
              "    fill: #FFFFFF;\n",
              "  }\n",
              "</style>\n",
              "\n",
              "    <script>\n",
              "      async function quickchart(key) {\n",
              "        const containerElement = document.querySelector('#' + key);\n",
              "        const charts = await google.colab.kernel.invokeFunction(\n",
              "            'suggestCharts', [key], {});\n",
              "      }\n",
              "    </script>\n",
              "\n",
              "      <script>\n",
              "\n",
              "function displayQuickchartButton(domScope) {\n",
              "  let quickchartButtonEl =\n",
              "    domScope.querySelector('#df-ffd674db-0b8c-4901-b5bb-6f61b9312edc button.colab-df-quickchart');\n",
              "  quickchartButtonEl.style.display =\n",
              "    google.colab.kernel.accessAllowed ? 'block' : 'none';\n",
              "}\n",
              "\n",
              "        displayQuickchartButton(document);\n",
              "      </script>\n",
              "      <style>\n",
              "    .colab-df-container {\n",
              "      display:flex;\n",
              "      flex-wrap:wrap;\n",
              "      gap: 12px;\n",
              "    }\n",
              "\n",
              "    .colab-df-convert {\n",
              "      background-color: #E8F0FE;\n",
              "      border: none;\n",
              "      border-radius: 50%;\n",
              "      cursor: pointer;\n",
              "      display: none;\n",
              "      fill: #1967D2;\n",
              "      height: 32px;\n",
              "      padding: 0 0 0 0;\n",
              "      width: 32px;\n",
              "    }\n",
              "\n",
              "    .colab-df-convert:hover {\n",
              "      background-color: #E2EBFA;\n",
              "      box-shadow: 0px 1px 2px rgba(60, 64, 67, 0.3), 0px 1px 3px 1px rgba(60, 64, 67, 0.15);\n",
              "      fill: #174EA6;\n",
              "    }\n",
              "\n",
              "    [theme=dark] .colab-df-convert {\n",
              "      background-color: #3B4455;\n",
              "      fill: #D2E3FC;\n",
              "    }\n",
              "\n",
              "    [theme=dark] .colab-df-convert:hover {\n",
              "      background-color: #434B5C;\n",
              "      box-shadow: 0px 1px 3px 1px rgba(0, 0, 0, 0.15);\n",
              "      filter: drop-shadow(0px 1px 2px rgba(0, 0, 0, 0.3));\n",
              "      fill: #FFFFFF;\n",
              "    }\n",
              "  </style>\n",
              "\n",
              "      <script>\n",
              "        const buttonEl =\n",
              "          document.querySelector('#df-b9164125-d9be-4b4c-bcc8-497744ddb184 button.colab-df-convert');\n",
              "        buttonEl.style.display =\n",
              "          google.colab.kernel.accessAllowed ? 'block' : 'none';\n",
              "\n",
              "        async function convertToInteractive(key) {\n",
              "          const element = document.querySelector('#df-b9164125-d9be-4b4c-bcc8-497744ddb184');\n",
              "          const dataTable =\n",
              "            await google.colab.kernel.invokeFunction('convertToInteractive',\n",
              "                                                     [key], {});\n",
              "          if (!dataTable) return;\n",
              "\n",
              "          const docLinkHtml = 'Like what you see? Visit the ' +\n",
              "            '<a target=\"_blank\" href=https://colab.research.google.com/notebooks/data_table.ipynb>data table notebook</a>'\n",
              "            + ' to learn more about interactive tables.';\n",
              "          element.innerHTML = '';\n",
              "          dataTable['output_type'] = 'display_data';\n",
              "          await google.colab.output.renderOutput(dataTable, element);\n",
              "          const docLink = document.createElement('div');\n",
              "          docLink.innerHTML = docLinkHtml;\n",
              "          element.appendChild(docLink);\n",
              "        }\n",
              "      </script>\n",
              "    </div>\n",
              "  </div>\n"
            ]
          },
          "metadata": {},
          "execution_count": 6
        }
      ]
    },
    {
      "cell_type": "code",
      "source": [
        "# DataFrame을 CSV 파일로 저장\n",
        "opening_days_df.to_csv('/content/drive/MyDrive/snowball/data/ETC/openDate.csv', index=False)"
      ],
      "metadata": {
        "id": "A-Xt9R0AxR6r"
      },
      "execution_count": null,
      "outputs": []
    },
    {
      "cell_type": "markdown",
      "source": [
        "### 1-4-1. '매달 첫번째 개장일 조회' 함수 생성 (by 태현)"
      ],
      "metadata": {
        "id": "htvSu0m2wJ4V"
      }
    },
    {
      "cell_type": "markdown",
      "source": [
        "1. 시작일자, 끝일자, 월초/월말(택1) 3개의 인자를 input으로 입력하면, '시작일자' 와 '끝일자' 사이에 있는 매달 월초/월말 일자를 list 타입으로 return 해주는 함수\n",
        "2. 이를 통해서 ETF의 (상장일자, 현재날짜, 0)을 입력하면 그 기간동안 매월 첫번째 날 ETF의 PDF의 정보를 얻을 수 있음"
      ],
      "metadata": {
        "id": "AftduyPE0Xwu"
      }
    },
    {
      "cell_type": "code",
      "source": [
        "from dateutil.parser import *\n",
        "from dateutil.relativedelta import *\n",
        "from dateutil.rrule import *\n",
        "import warnings\n",
        "import time\n",
        "import pandas as pd\n",
        "from datetime import datetime\n",
        "from datetime import timedelta\n",
        "warnings.simplefilter(action='ignore', category=FutureWarning)  # FutureWaring 제거\n",
        "\n",
        "opendf = pd.read_csv('/content/drive/MyDrive/snowball/data/ETC/openDate.csv')   # 2002-09-13~2023-03-31까지의 개장일 csv파일 읽기\n",
        "opendf['Opendate'] = pd.to_datetime(opendf['Date'], format='%Y-%m-%d', errors='raise')  # 원소를 datetime타입으로 변경\n",
        "datetimeList = []\n",
        "for date in opendf['Opendate']:\n",
        "   date = pd.Timestamp(date).strftime('%Y-%m-%d')\n",
        "   datetimeList.append(datetime.strptime(date, '%Y-%m-%d'))\n",
        "\n",
        "def getPayInDateInfo(start_date, end_date, month_type):  # month_type으로 월초/월말 선택 (월초: 0, 월말: 1)\n",
        "\n",
        "    rtList = []\n",
        "\n",
        "    if month_type == '0':\n",
        "        a = list(rrule(MONTHLY,\n",
        "                       byweekday=(MO, TU, WE, TH, FR),\n",
        "                       bysetpos=1,\n",
        "                       dtstart=parse(start_date),\n",
        "                       until=parse(end_date)))  # 지정된 기간의 매월 첫 평일\n",
        "\n",
        "        for day in a:\n",
        "            while 1: # 개장일 까지\n",
        "                if day not in datetimeList:  # 개장일이 아니면\n",
        "                    day = day + timedelta(days=1) # 하루 +\n",
        "                else: # 개장일인 경우 빠져나감\n",
        "                    break\n",
        "            rtList.append(day.strftime('%Y-%m-%d'))  # yyyy-mm-dd 형식 변환\n",
        "\n",
        "    elif month_type == '1':\n",
        "        a = list(rrule(MONTHLY,\n",
        "                       byweekday=(MO, TU, WE, TH, FR),\n",
        "                       bysetpos=-1,\n",
        "                       dtstart=parse(start_date),\n",
        "                       until=parse(end_date)))  # 지정된 기간의 매월 마지막 평일\n",
        "\n",
        "        for day in a:\n",
        "            while 1:  # 개장일 까지\n",
        "                if day not in datetimeList:  # 개장일이 아니면\n",
        "                    day = day + timedelta(days=-1)  # 하루 +\n",
        "                else:  # 개장일인 경우 빠져나감\n",
        "                    break\n",
        "            rtList.append(day.strftime('%Y-%m-%d'))  # yyyy-mm-dd 형식 변환\n",
        "\n",
        "    return rtList  # 납입 예정일 리스트 출력"
      ],
      "metadata": {
        "id": "LkAihFV8OxeE"
      },
      "execution_count": null,
      "outputs": []
    },
    {
      "cell_type": "markdown",
      "source": [
        "### 1-4-2. 해당 일의 PDF 파일 다운(by 환룡)"
      ],
      "metadata": {
        "id": "IDfsFdxzwW2R"
      }
    },
    {
      "cell_type": "markdown",
      "source": [
        "1. 'http://data.krx.co.kr/contents/MDC/MDI/mdiLoader/index.cmd?menuId=MDC0201030108 사이트 접속 -> 종목명, 조회일자 설정 -> '조회'버튼 클릭 -> '다운로드' 버튼을 클릭하여 csv 파일로 다운' 과정으로 PDF 파일들을 다운로드 함\n",
        "2. ETF들의 PDF 파일들을 다운로드 받으려면 매우 많은 파일들을 다운로드 해야함\n",
        "3. 일일히 다운로드를 하기는 어려움으로 크롤링 기법을 사용\n",
        "4. 동적 웹사이트를 크롤링함으로 selenium 라이브러리 활용\n",
        "5. 기존에는 사이트를 조회한 후, 사이트의 정보를 스크랩해서 정보를 가져오려 했으나, 스크랩 할 경우 PDF의 모든 데이터를 가져올 수 없어서 PDF파일을 직접 다운로드 하는 식으로 파일을 다운로드\n",
        "6. 매우 많은 파일들을 조회해서 다운로드 해야 함으로 멀티쓰레딩을 활용해서 크롤링 코드를 작성\n",
        "7. 파일을 다운로드할 때, 저장되는 파일명이 '랜덤의 파일명'으로 저장이 되서 다운로드한 파일이 어떤 PDF 파일인지 식별이 불가능한 문제 발생 -> Lock()을 활용해서 다운로드한 파일 순서대로 파일명(PDF 파일 식별 가능한 파일명)을 수정하는 기능을 추가\n",
        "8. 'ad.csv' 파일은 '전종목기본정보.csv' 파일에서 '종목코드'와 '상장일자' 만을 추출한 파일\n",
        "9. 크롤링한 PDF 파일들은 'data > PDF_files' 폴더에 저장\n",
        "\n",
        "10. 해당 코드는 로컬 pc 에서 'vscode' ~~~ 에서 실행을 한 코드, 사용한 'chromedriver.exe' 파일은 'ETC' 폴더에 위치\n"
      ],
      "metadata": {
        "id": "_MkX2d6HRQaY"
      }
    },
    {
      "cell_type": "code",
      "source": [
        "from selenium import webdriver\n",
        "from selenium.webdriver.common.keys import Keys\n",
        "# [2022.06.30] find_element_by_() 함수는 find_element(By., ) 과 같은 형태로 함수가 변경됨에 따른 추가 코드\n",
        "from selenium.webdriver.common.by import By\n",
        "from selenium.webdriver.chrome.service import Service\n",
        "from webdriver_manager.chrome import ChromeDriverManager\n",
        "import time\n",
        "import os\n",
        "import shutil\n",
        "import pandas as pd\n",
        "from datetime import datetime\n",
        "from concurrent.futures import ThreadPoolExecutor\n",
        "import csv\n",
        "import threading\n",
        "import random\n",
        "\n",
        "\n",
        "\n",
        "# 여기에 PDF 파일을 저장할 폴더의 경로' 수정!!!\n",
        "Initial_path=\"/content/drive/MyDrive/snowball/data/PDF_files\"\n",
        "\n",
        "# 크롬 드라이버가 설치된 파일경로 설정\n",
        "chromedriver = '/content/drive/MyDrive/snowball/data/ETC/chromedriver.exe' # 윈도우\n",
        "\n",
        "# 파일 다운로드 위치 설정을 위한 코드\n",
        "chromeOptions = webdriver.ChromeOptions() # 크롬 드라이버 옵션 설정\n",
        "prefs = {\"download.default_directory\" : Initial_path} # 파일다운로드 경로 설정\n",
        "chromeOptions.add_experimental_option(\"prefs\",prefs) # 옵션 정의\n",
        "\n",
        "# 크롤링하는 기능을 함수로 선언\n",
        "def crawling_selenium(product_code,product_date):\n",
        "    driver_chrome = webdriver.Chrome(service=Service(chromedriver), options=chromeOptions)  # 설정 반영\n",
        "    driver_chrome.get(\"http://data.krx.co.kr/contents/MDC/MDI/mdiLoader/index.cmd?menuId=MDC0201030108\") # 웹사이트 접속\n",
        "\n",
        "    # 랜덤으로 sleep\n",
        "    rand = random.randrange(3, 6)\n",
        "    time.sleep(rand)\n",
        "\n",
        "\n",
        "    # 금융상품명 검색 버튼 클릭\n",
        "    search_btn = driver_chrome.find_element(By.ID, 'btnisuCd_finder_secuprodisu1_0') # 검색 태그 선택\n",
        "    search_btn.click() # 태그 클릭\n",
        "    # 랜덤으로 sleep\n",
        "    rand = random.randrange(3, 6)\n",
        "    time.sleep(rand)\n",
        "\n",
        "    # 금융상품코드를 통해서 금융상품 선택\n",
        "    search_bar = driver_chrome.find_element(By.CSS_SELECTOR,'#searchText__finder_secuprodisu1_0') # 검색 창 선택\n",
        "    search_bar.clear()\n",
        "    search_bar.send_keys(product_code)\n",
        "    search_bar.send_keys(Keys.RETURN)\n",
        "    # 랜덤으로 sleep\n",
        "    rand = random.randrange(3, 6)\n",
        "    time.sleep(rand)\n",
        "\n",
        "\n",
        "    # 조회날짜 선택\n",
        "    elem = driver_chrome.find_element(By.ID, 'trdDd') # 검색 태그 선택\n",
        "    for _ in range(8):\n",
        "        elem.send_keys(Keys.BACK_SPACE) # clear() 를 입력하면 조회일자가 이상하게 초기화되기에 backspace로 지우는 과정 추가!\n",
        "    elem.send_keys(product_date)\n",
        "    elem.send_keys(Keys.RETURN)\n",
        "    # 랜덤으로 sleep\n",
        "    rand = random.randrange(3, 6)\n",
        "    time.sleep(rand)\n",
        "\n",
        "\n",
        "    # 조회 버튼 클릭\n",
        "    search_btn = driver_chrome.find_element(By.ID, 'jsSearchButton') # 검색 태그 선택\n",
        "    search_btn.click() # 태그 클릭\n",
        "    # 랜덤으로 sleep\n",
        "    rand = random.randrange(3, 6)\n",
        "    time.sleep(rand)\n",
        "\n",
        "\n",
        "    # 조회 버튼 클릭\n",
        "    search_btn = driver_chrome.find_element(By.ID, 'jsSearchButton') # 검색 태그 선택\n",
        "    search_btn.click() # 태그 클릭\n",
        "    # 랜덤으로 sleep\n",
        "    rand = random.randrange(3, 6)\n",
        "    time.sleep(rand)\n",
        "\n",
        "    # 다운로드 버튼 클릭\n",
        "    search_btn = driver_chrome.find_element(By.CLASS_NAME, 'CI-MDI-UNIT-DOWNLOAD') # 검색 태그 선택\n",
        "    search_btn.click() # 태그 클릭\n",
        "    # 랜덤으로 sleep\n",
        "    rand = random.randrange(3, 6)\n",
        "    time.sleep(rand)\n",
        "\n",
        "\n",
        "    product_date = ''.join(product_date.split('-')) # 저장할 '파일명'을 만들기 위해서 변수 선언\n",
        "\n",
        "    # csv 파일 다운로드 클릭 - Lock()기능 구현\n",
        "    _lock.acquire() # 락 키 얻음 - 동기화 이슈로 인해서 lock 필요\n",
        "    search_btn = driver_chrome.find_elements(By.CLASS_NAME, 'ico_filedown') # 검색 태그 선택\n",
        "    search_btn[1].click() # 태그 클릭\n",
        "    time.sleep(2)\n",
        "    # 파일명 수정\n",
        "    filename = max([Initial_path + \"\\\\\" + f for f in os.listdir(Initial_path)],key=os.path.getctime)\n",
        "    shutil.move(filename,os.path.join(Initial_path,str(product_code)+\"_\"+product_date+\".csv\"))\n",
        "    time.sleep(1)\n",
        "    # 드라이버 종료\n",
        "    driver_chrome.quit()\n",
        "\n",
        "    _lock.release() # 락 키 반환 - 동기화 이슈로 인해서 lock 필요\n",
        "\n",
        "\n",
        "\n",
        "\n",
        "\n",
        "\n",
        "if __name__ == '__main__':\n",
        "\n",
        "    # ad.csv 파일이 있는 경로로 수정 필요!\n",
        "    df = pd.read_csv(\"/content/drive/MyDrive/snowball/data/ETC/ad.csv\")\n",
        "    code_list = list(df['code'])\n",
        "    date_list = list(df['date'])\n",
        "    payinDate_dict_bm = dict()\n",
        "    # print('after ad.csv')\n",
        "    for i in range(len(code_list)):\n",
        "        payinDate_dict_bm[code_list[i]] = getPayInDateInfo(date_list[i],\n",
        "                                                                       datetime.today().strftime('%Y-%m-%d'), '0')\n",
        "    product_code_list = []\n",
        "    product_date_list = []\n",
        "    for stock_code in payinDate_dict_bm.keys():\n",
        "        for search_date in payinDate_dict_bm[stock_code]:\n",
        "            product_code_list.append(stock_code)\n",
        "            product_date_list.append(search_date)\n",
        "\n",
        "\n",
        "    _lock = threading.Lock() # lock을 사용하기 위해서 선언\n",
        "    # max_workers의 개수는 컴퓨터 사양에 맞게 수정\n",
        "    # max_workers의 개수가 많을 수록 동시에 띄우는 창이 많아짐!\n",
        "    with ThreadPoolExecutor(max_workers=5) as executor: # 멀티스레드 실행\n",
        "        # produt_code_list[] 와 product_date_list[] 슬라이싱들은 범위를 같게해서 해야함\n",
        "        executor.map(crawling_selenium, product_code_list, product_date_list)\n"
      ],
      "metadata": {
        "id": "l00wog7RUtLc"
      },
      "execution_count": null,
      "outputs": []
    },
    {
      "cell_type": "markdown",
      "source": [
        "## 1-5. ETF 가격 데이터 수집(크롤링) - 수정 필요"
      ],
      "metadata": {
        "id": "jPyPzZZJF89G"
      }
    },
    {
      "cell_type": "markdown",
      "source": [
        "- '기간 내 모든 일자(개장 일자들) 조회' -> '모든 일자에 대응하는 모든 ETF 들의 가격'을 추출하는 순서로 진행"
      ],
      "metadata": {
        "id": "kCmmeOFNGMk7"
      }
    },
    {
      "cell_type": "markdown",
      "source": [
        "#### 1-5-1. '기간 내 모든 일자 조회' 함수 생성(by 태현)"
      ],
      "metadata": {
        "id": "wDTq-w99G7n6"
      }
    },
    {
      "cell_type": "markdown",
      "source": [
        "- pd.Timestamp와 'openDate.csv' 파일을 참조해서 기간내 모든 일자들을 추출"
      ],
      "metadata": {
        "id": "SwGC4OUWH-lz"
      }
    },
    {
      "cell_type": "code",
      "source": [
        "from dateutil.parser import *\n",
        "from dateutil.relativedelta import *\n",
        "from dateutil.rrule import *\n",
        "import warnings\n",
        "import time\n",
        "import pandas as pd\n",
        "from datetime import datetime\n",
        "from datetime import timedelta\n",
        "warnings.simplefilter(action='ignore', category=FutureWarning)  # FutureWaring 제거\n",
        "\n",
        "opendf = pd.read_csv('/content/drive/MyDrive/snowball/data/ETC/openDate.csv')   # 2002-09-13~2023-03-31까지의 개장일 csv파일 읽기\n",
        "opendf['Opendate'] = pd.to_datetime(opendf['Date'], format='%Y-%m-%d', errors='raise')  # 원소를 datetime타입으로 변경\n",
        "datetimeList = []\n",
        "for date in opendf['Opendate']:\n",
        "   date = pd.Timestamp(date).strftime('%Y-%m-%d')\n",
        "   datetimeList.append(datetime.strptime(date, '%Y-%m-%d'))\n",
        "\n",
        "\n",
        "def getDailyDateInfo(start_date, end_date):\n",
        "    rtList = []\n",
        "\n",
        "    for day in opendf['Opendate'][start_date:end_date]:\n",
        "        rtList.append(pd.Timestamp(day).strftime('%Y-%m-%d'))\n",
        "\n",
        "    return rtList\n"
      ],
      "metadata": {
        "id": "XLuekiKPGpbn"
      },
      "execution_count": null,
      "outputs": []
    },
    {
      "cell_type": "markdown",
      "source": [
        "#### 1-5-2. '모든 일자에 대응하는 모든 ETF 들의 가격' 추출"
      ],
      "metadata": {
        "id": "WiCPDG3yG7E4"
      }
    },
    {
      "cell_type": "markdown",
      "source": [
        "1. '1-4-2 해당 일의 PDF 파일 다운' 코드를 대부분 참조(사이트와 클릭 태그만 일부분 수정)\n",
        "2. 'http://data.krx.co.kr/contents/MDC/MDI/mdiLoader/index.cmd?menuId=MDC0201030101' 홈페이지가 동적 홈페이지 임으로,  셀레니움을 통해 ETF들의 종가를 추출\n",
        "3. 크폴링한 파일들은 'data > ETF_closing_price' 폴더에 저장"
      ],
      "metadata": {
        "id": "dOII4h3kIfWz"
      }
    },
    {
      "cell_type": "code",
      "source": [
        "from selenium import webdriver\n",
        "from selenium.webdriver.common.keys import Keys\n",
        "# [2022.06.30] find_element_by_() 함수는 find_element(By., ) 과 같은 형태로 함수가 변경됨에 따른 추가 코드\n",
        "from selenium.webdriver.common.by import By\n",
        "from selenium.webdriver.chrome.service import Service\n",
        "from webdriver_manager.chrome import ChromeDriverManager\n",
        "import time\n",
        "import os\n",
        "import shutil\n",
        "import pandas as pd\n",
        "from datetime import datetime\n",
        "from concurrent.futures import ThreadPoolExecutor\n",
        "import csv\n",
        "import threading\n",
        "import random\n",
        "\n",
        "# 필독!!!!!!!!!!!\n",
        "# 여기에 '파일을 저장할 폴더의 경로' 수정!!!\n",
        "Initial_path = \"/content/drive/MyDrive/snowball/data/ETF_closing_price\"\n",
        "\n",
        "# # 필독!!!!!!!!!!!\n",
        "# # 크롬 드라이버가 설치된 파일경로 설정\n",
        "chromedriver ='/content/drive/MyDrive/snowball/data/ETC/chromedriver.exe'  # 윈도우\n",
        "\n",
        "# 파일 다운로드 위치 설정을 위한 코드\n",
        "chromeOptions = webdriver.ChromeOptions()  # 크롬 드라이버 옵션 설정\n",
        "prefs = {\"download.default_directory\": Initial_path}  # 파일다운로드 경로 설정\n",
        "chromeOptions.add_experimental_option(\"prefs\", prefs)  # 옵션 정의\n",
        "\n",
        "def crawling_selenium(product_date):\n",
        "    driver_chrome = webdriver.Chrome(service=Service(chromedriver), options=chromeOptions)  # 설정 반영\n",
        "    driver_chrome.get(\"http://data.krx.co.kr/contents/MDC/MDI/mdiLoader/index.cmd?menuId=MDC0201030101\")\n",
        "\n",
        "    # 랜덤으로 sleep\n",
        "    rand = random.randrange(3, 6)\n",
        "    time.sleep(rand)\n",
        "\n",
        "    # 조회날짜 선택\n",
        "    elem = driver_chrome.find_element(By.ID, 'trdDd')  # 검색 태그 선택\n",
        "    for _ in range(8):\n",
        "        elem.send_keys(Keys.BACK_SPACE)  # clear() 를 입력하면 조회일자가 이상하게 초기화되기에 backspace로 지우는 과정 추가!\n",
        "    elem.send_keys(product_date)\n",
        "    elem.send_keys(Keys.RETURN)\n",
        "    # 랜덤으로 sleep\n",
        "    rand = random.randrange(3, 6)\n",
        "    time.sleep(rand)\n",
        "\n",
        "    # 조회 버튼 클릭\n",
        "    search_btn = driver_chrome.find_element(By.ID, 'jsSearchButton')  # 검색 태그 선택\n",
        "    search_btn.click()  # 태그 클릭\n",
        "    # 랜덤으로 sleep\n",
        "    rand = random.randrange(3, 6)\n",
        "    time.sleep(rand)\n",
        "\n",
        "    # 조회 버튼 클릭\n",
        "    search_btn = driver_chrome.find_element(By.ID, 'jsSearchButton')  # 검색 태그 선택\n",
        "    search_btn.click()  # 태그 클릭\n",
        "    # 랜덤으로 sleep\n",
        "    rand = random.randrange(3, 6)\n",
        "    time.sleep(rand)\n",
        "\n",
        "    # 다운로드 버튼 클릭\n",
        "    search_btn = driver_chrome.find_element(By.CLASS_NAME, 'CI-MDI-UNIT-DOWNLOAD')  # 검색 태그 선택\n",
        "    search_btn.click()  # 태그 클릭\n",
        "    # 랜덤으로 sleep\n",
        "    rand = random.randrange(3, 6)\n",
        "    time.sleep(rand)\n",
        "\n",
        "    product_date = ''.join(product_date.split('-'))\n",
        "\n",
        "    # csv 파일 다운로드 클릭\n",
        "    _lock.acquire()  # 락 키 얻음 - 동기화 이슈로 인해서 lock 필요\n",
        "    search_btn = driver_chrome.find_elements(By.CLASS_NAME, 'ico_filedown')  # 검색 태그 선택\n",
        "    search_btn[1].click()  # 태그 클릭\n",
        "    time.sleep(2)\n",
        "    # 파일명 수정\n",
        "    filename = max([Initial_path + \"\\\\\" + f for f in os.listdir(Initial_path)], key=os.path.getctime)\n",
        "    shutil.move(filename, os.path.join(Initial_path, \"ETF_\" + product_date + \".csv\"))\n",
        "    time.sleep(1)\n",
        "    # 드라이버 종료\n",
        "    driver_chrome.quit()\n",
        "\n",
        "    _lock.release()  # 락 키 반환 - 동기화 이슈로 인해서 lock 필요\n",
        "\n",
        "\n",
        "if __name__ == '__main__':\n",
        "    date_list = getDailyDateInfo('2015-01-01', datetime.today().strftime('%Y-%m-%d')) # ETF 종가 파일 다운받을 날짜 리스트 생성\n",
        "    print('after create date list')\n",
        "\n",
        "    _lock = threading.Lock()\n",
        "\n",
        "    # 필독!!!!\n",
        "    # max_workers의 개수는 컴퓨터 사양에 맞게 수정하면 됨!! 10개정도로 하면 될듯?\n",
        "    # max_workers의 개수가 많을 수록 동시에 띄우는 창이 많아짐!\n",
        "    with ThreadPoolExecutor(max_workers=1) as executor:\n",
        "        executor.map(crawling_selenium, date_list)\n"
      ],
      "metadata": {
        "id": "I0CSWg4VE8Fs"
      },
      "execution_count": null,
      "outputs": []
    },
    {
      "cell_type": "markdown",
      "source": [
        "## 1-6. 주식 가격 데이터 수집(크롤링)"
      ],
      "metadata": {
        "id": "4ekic9SrF9AG"
      }
    },
    {
      "cell_type": "markdown",
      "source": [
        "1. '1-5.ETF 가격 데이터 수집(크롤링)'와 거의 동일\n",
        "2. 코드가 거의 동일하기에 추가적으로 코드는 첨부X\n",
        "3. 'http://data.krx.co.kr/contents/MDC/MDI/mdiLoader/index.cmd?menuId=MDC0201020101' 홈페이지에서 '시장구분 - 전체' 주식의 모든 시세 정보를 크롤링\n",
        "4. 크롤링한 파일들은 'data > Stock_closing_price' 폴더에 저장"
      ],
      "metadata": {
        "id": "xGWxQIAUF9Uc"
      }
    },
    {
      "cell_type": "markdown",
      "source": [
        "# 2. 데이터 설명 리포트"
      ],
      "metadata": {
        "id": "_XmXN6WhEnyt"
      }
    },
    {
      "cell_type": "markdown",
      "source": [
        "_ 각 정보를 가진 파일들이 여러개가 있음으로 이 단계에서 파일들을 통합하여 하나의 파일로 만들어 'After_raw' 폴더에 파일들을 저장할 예정\n",
        "- 세부적으로 데이터들을 탐색하는 것이 아닌, 기본적으로 다운로드 받은 파일들이 누락이 된 것이 없는지 확인, 사용할 컬럼 선택과, 파일들 병합에 중점"
      ],
      "metadata": {
        "id": "v30spJJ-0Z43"
      }
    },
    {
      "cell_type": "markdown",
      "source": [
        "## 2-1. ETF 기본정보 데이터 설명"
      ],
      "metadata": {
        "id": "EQcGQnzGImz9"
      }
    },
    {
      "cell_type": "markdown",
      "source": [
        "### 2-1-1. raw 데이터 확인"
      ],
      "metadata": {
        "id": "I0jatwJpvYw8"
      }
    },
    {
      "cell_type": "markdown",
      "source": [
        "- 다운로드를 받은 '전종목기본정보.csv' 파일의 정보를 확인"
      ],
      "metadata": {
        "id": "NAA8YzJ2vfB4"
      }
    },
    {
      "cell_type": "code",
      "source": [
        "import pandas as pd\n",
        "\n",
        "df_etf_base = pd.read_csv('/content/drive/MyDrive/snowball/data/ETF_base_info/전종목기본정보.csv', encoding = 'cp949')\n",
        "print(df_etf_base.info())\n",
        "df_etf_base.head()"
      ],
      "metadata": {
        "colab": {
          "base_uri": "https://localhost:8080/",
          "height": 896
        },
        "id": "CK5fKXaOux4Q",
        "outputId": "fb02ef7d-37eb-4429-b7c9-cd50fbd95356"
      },
      "execution_count": 3,
      "outputs": [
        {
          "output_type": "stream",
          "name": "stdout",
          "text": [
            "<class 'pandas.core.frame.DataFrame'>\n",
            "RangeIndex: 694 entries, 0 to 693\n",
            "Data columns (total 17 columns):\n",
            " #   Column  Non-Null Count  Dtype  \n",
            "---  ------  --------------  -----  \n",
            " 0   표준코드    694 non-null    object \n",
            " 1   단축코드    694 non-null    int64  \n",
            " 2   한글종목명   694 non-null    object \n",
            " 3   한글종목약명  694 non-null    object \n",
            " 4   영문종목명   694 non-null    object \n",
            " 5   상장일     694 non-null    object \n",
            " 6   기초지수명   694 non-null    object \n",
            " 7   지수산출기관  694 non-null    object \n",
            " 8   추적배수    694 non-null    object \n",
            " 9   복제방법    694 non-null    object \n",
            " 10  기초시장분류  694 non-null    object \n",
            " 11  기초자산분류  694 non-null    object \n",
            " 12  상장좌수    694 non-null    int64  \n",
            " 13  운용사     694 non-null    object \n",
            " 14  CU수량    694 non-null    int64  \n",
            " 15  총보수     694 non-null    float64\n",
            " 16  과세유형    694 non-null    object \n",
            "dtypes: float64(1), int64(3), object(13)\n",
            "memory usage: 92.3+ KB\n",
            "None\n"
          ]
        },
        {
          "output_type": "execute_result",
          "data": {
            "text/plain": [
              "           표준코드    단축코드                                     한글종목명  \\\n",
              "0  KR7445690001  445690             BNK BNK 주주가치액티브증권상장지수투자신탁(주식)   \n",
              "1  KR7292340007  292340   DB 마이티 200커버드콜ATM레버리지증권상장지수투자신탁[주식-파생형]   \n",
              "2  KR7442260006  442260            DB 마이티 다이나믹퀀트액티브증권상장지수투자신탁[주식]   \n",
              "3  KR7159800002  159800                   DB마이티K100증권상장지수투자신탁(주식)   \n",
              "4  KR7361580004  361580  KB KBSTAR 200 Total Return증권상장지수투자신탁(주식)   \n",
              "\n",
              "               한글종목약명                                             영문종목명  \\\n",
              "0         BNK 주주가치액티브              BNK BNK Shareholder Yield Active ETF   \n",
              "1  마이티 200커버드콜ATM레버리지  DB Mighty KOSPI200 Covered Call ATM Leverage ETF   \n",
              "2       마이티 다이나믹퀀트액티브                DB Mighty Dynamic Quant Active ETF   \n",
              "3          마이티 코스피100                                DB Mighty K100 ETF   \n",
              "4        KBSTAR 200TR                    KB KBSTAR 200 Total Return ETF   \n",
              "\n",
              "          상장일                기초지수명   지수산출기관         추적배수     복제방법 기초시장분류  \\\n",
              "0  2022/10/27      FnGuide 주주가치 지수  FnGuide       일반 (1)  실물(액티브)     국내   \n",
              "1  2018/03/20  코스피 200 커버드콜 ATM 지수      KRX  2X 레버리지 (2)  실물(패시브)     국내   \n",
              "2  2022/10/25              코스피 200      KRX       일반 (1)  실물(액티브)     국내   \n",
              "3  2012/07/05              코스피 100      KRX       일반 (1)  실물(패시브)     국내   \n",
              "4  2020/08/21           코스피 200 TR      KRX       일반 (1)  실물(패시브)     국내   \n",
              "\n",
              "  기초자산분류      상장좌수       운용사    CU수량    총보수           과세유형  \n",
              "0     주식   1100000  비엔케이자산운용   50000  0.495  배당소득세(보유기간과세)  \n",
              "1     주식    600000    디비자산운용  100000  0.510  배당소득세(보유기간과세)  \n",
              "2     주식   1440000    디비자산운용   40000  0.300  배당소득세(보유기간과세)  \n",
              "3     주식    280000    디비자산운용   40000  0.390            비과세  \n",
              "4     주식  11600000   케이비자산운용   50000  0.012  배당소득세(보유기간과세)  "
            ],
            "text/html": [
              "\n",
              "\n",
              "  <div id=\"df-c7e6207d-a2bc-4a71-ac54-6087873a903c\">\n",
              "    <div class=\"colab-df-container\">\n",
              "      <div>\n",
              "<style scoped>\n",
              "    .dataframe tbody tr th:only-of-type {\n",
              "        vertical-align: middle;\n",
              "    }\n",
              "\n",
              "    .dataframe tbody tr th {\n",
              "        vertical-align: top;\n",
              "    }\n",
              "\n",
              "    .dataframe thead th {\n",
              "        text-align: right;\n",
              "    }\n",
              "</style>\n",
              "<table border=\"1\" class=\"dataframe\">\n",
              "  <thead>\n",
              "    <tr style=\"text-align: right;\">\n",
              "      <th></th>\n",
              "      <th>표준코드</th>\n",
              "      <th>단축코드</th>\n",
              "      <th>한글종목명</th>\n",
              "      <th>한글종목약명</th>\n",
              "      <th>영문종목명</th>\n",
              "      <th>상장일</th>\n",
              "      <th>기초지수명</th>\n",
              "      <th>지수산출기관</th>\n",
              "      <th>추적배수</th>\n",
              "      <th>복제방법</th>\n",
              "      <th>기초시장분류</th>\n",
              "      <th>기초자산분류</th>\n",
              "      <th>상장좌수</th>\n",
              "      <th>운용사</th>\n",
              "      <th>CU수량</th>\n",
              "      <th>총보수</th>\n",
              "      <th>과세유형</th>\n",
              "    </tr>\n",
              "  </thead>\n",
              "  <tbody>\n",
              "    <tr>\n",
              "      <th>0</th>\n",
              "      <td>KR7445690001</td>\n",
              "      <td>445690</td>\n",
              "      <td>BNK BNK 주주가치액티브증권상장지수투자신탁(주식)</td>\n",
              "      <td>BNK 주주가치액티브</td>\n",
              "      <td>BNK BNK Shareholder Yield Active ETF</td>\n",
              "      <td>2022/10/27</td>\n",
              "      <td>FnGuide 주주가치 지수</td>\n",
              "      <td>FnGuide</td>\n",
              "      <td>일반 (1)</td>\n",
              "      <td>실물(액티브)</td>\n",
              "      <td>국내</td>\n",
              "      <td>주식</td>\n",
              "      <td>1100000</td>\n",
              "      <td>비엔케이자산운용</td>\n",
              "      <td>50000</td>\n",
              "      <td>0.495</td>\n",
              "      <td>배당소득세(보유기간과세)</td>\n",
              "    </tr>\n",
              "    <tr>\n",
              "      <th>1</th>\n",
              "      <td>KR7292340007</td>\n",
              "      <td>292340</td>\n",
              "      <td>DB 마이티 200커버드콜ATM레버리지증권상장지수투자신탁[주식-파생형]</td>\n",
              "      <td>마이티 200커버드콜ATM레버리지</td>\n",
              "      <td>DB Mighty KOSPI200 Covered Call ATM Leverage ETF</td>\n",
              "      <td>2018/03/20</td>\n",
              "      <td>코스피 200 커버드콜 ATM 지수</td>\n",
              "      <td>KRX</td>\n",
              "      <td>2X 레버리지 (2)</td>\n",
              "      <td>실물(패시브)</td>\n",
              "      <td>국내</td>\n",
              "      <td>주식</td>\n",
              "      <td>600000</td>\n",
              "      <td>디비자산운용</td>\n",
              "      <td>100000</td>\n",
              "      <td>0.510</td>\n",
              "      <td>배당소득세(보유기간과세)</td>\n",
              "    </tr>\n",
              "    <tr>\n",
              "      <th>2</th>\n",
              "      <td>KR7442260006</td>\n",
              "      <td>442260</td>\n",
              "      <td>DB 마이티 다이나믹퀀트액티브증권상장지수투자신탁[주식]</td>\n",
              "      <td>마이티 다이나믹퀀트액티브</td>\n",
              "      <td>DB Mighty Dynamic Quant Active ETF</td>\n",
              "      <td>2022/10/25</td>\n",
              "      <td>코스피 200</td>\n",
              "      <td>KRX</td>\n",
              "      <td>일반 (1)</td>\n",
              "      <td>실물(액티브)</td>\n",
              "      <td>국내</td>\n",
              "      <td>주식</td>\n",
              "      <td>1440000</td>\n",
              "      <td>디비자산운용</td>\n",
              "      <td>40000</td>\n",
              "      <td>0.300</td>\n",
              "      <td>배당소득세(보유기간과세)</td>\n",
              "    </tr>\n",
              "    <tr>\n",
              "      <th>3</th>\n",
              "      <td>KR7159800002</td>\n",
              "      <td>159800</td>\n",
              "      <td>DB마이티K100증권상장지수투자신탁(주식)</td>\n",
              "      <td>마이티 코스피100</td>\n",
              "      <td>DB Mighty K100 ETF</td>\n",
              "      <td>2012/07/05</td>\n",
              "      <td>코스피 100</td>\n",
              "      <td>KRX</td>\n",
              "      <td>일반 (1)</td>\n",
              "      <td>실물(패시브)</td>\n",
              "      <td>국내</td>\n",
              "      <td>주식</td>\n",
              "      <td>280000</td>\n",
              "      <td>디비자산운용</td>\n",
              "      <td>40000</td>\n",
              "      <td>0.390</td>\n",
              "      <td>비과세</td>\n",
              "    </tr>\n",
              "    <tr>\n",
              "      <th>4</th>\n",
              "      <td>KR7361580004</td>\n",
              "      <td>361580</td>\n",
              "      <td>KB KBSTAR 200 Total Return증권상장지수투자신탁(주식)</td>\n",
              "      <td>KBSTAR 200TR</td>\n",
              "      <td>KB KBSTAR 200 Total Return ETF</td>\n",
              "      <td>2020/08/21</td>\n",
              "      <td>코스피 200 TR</td>\n",
              "      <td>KRX</td>\n",
              "      <td>일반 (1)</td>\n",
              "      <td>실물(패시브)</td>\n",
              "      <td>국내</td>\n",
              "      <td>주식</td>\n",
              "      <td>11600000</td>\n",
              "      <td>케이비자산운용</td>\n",
              "      <td>50000</td>\n",
              "      <td>0.012</td>\n",
              "      <td>배당소득세(보유기간과세)</td>\n",
              "    </tr>\n",
              "  </tbody>\n",
              "</table>\n",
              "</div>\n",
              "      <button class=\"colab-df-convert\" onclick=\"convertToInteractive('df-c7e6207d-a2bc-4a71-ac54-6087873a903c')\"\n",
              "              title=\"Convert this dataframe to an interactive table.\"\n",
              "              style=\"display:none;\">\n",
              "\n",
              "  <svg xmlns=\"http://www.w3.org/2000/svg\" height=\"24px\"viewBox=\"0 0 24 24\"\n",
              "       width=\"24px\">\n",
              "    <path d=\"M0 0h24v24H0V0z\" fill=\"none\"/>\n",
              "    <path d=\"M18.56 5.44l.94 2.06.94-2.06 2.06-.94-2.06-.94-.94-2.06-.94 2.06-2.06.94zm-11 1L8.5 8.5l.94-2.06 2.06-.94-2.06-.94L8.5 2.5l-.94 2.06-2.06.94zm10 10l.94 2.06.94-2.06 2.06-.94-2.06-.94-.94-2.06-.94 2.06-2.06.94z\"/><path d=\"M17.41 7.96l-1.37-1.37c-.4-.4-.92-.59-1.43-.59-.52 0-1.04.2-1.43.59L10.3 9.45l-7.72 7.72c-.78.78-.78 2.05 0 2.83L4 21.41c.39.39.9.59 1.41.59.51 0 1.02-.2 1.41-.59l7.78-7.78 2.81-2.81c.8-.78.8-2.07 0-2.86zM5.41 20L4 18.59l7.72-7.72 1.47 1.35L5.41 20z\"/>\n",
              "  </svg>\n",
              "      </button>\n",
              "\n",
              "\n",
              "\n",
              "    <div id=\"df-e8cfc16d-558f-4819-a796-43ec46a96cba\">\n",
              "      <button class=\"colab-df-quickchart\" onclick=\"quickchart('df-e8cfc16d-558f-4819-a796-43ec46a96cba')\"\n",
              "              title=\"Suggest charts.\"\n",
              "              style=\"display:none;\">\n",
              "\n",
              "<svg xmlns=\"http://www.w3.org/2000/svg\" height=\"24px\"viewBox=\"0 0 24 24\"\n",
              "     width=\"24px\">\n",
              "    <g>\n",
              "        <path d=\"M19 3H5c-1.1 0-2 .9-2 2v14c0 1.1.9 2 2 2h14c1.1 0 2-.9 2-2V5c0-1.1-.9-2-2-2zM9 17H7v-7h2v7zm4 0h-2V7h2v10zm4 0h-2v-4h2v4z\"/>\n",
              "    </g>\n",
              "</svg>\n",
              "      </button>\n",
              "    </div>\n",
              "\n",
              "<style>\n",
              "  .colab-df-quickchart {\n",
              "    background-color: #E8F0FE;\n",
              "    border: none;\n",
              "    border-radius: 50%;\n",
              "    cursor: pointer;\n",
              "    display: none;\n",
              "    fill: #1967D2;\n",
              "    height: 32px;\n",
              "    padding: 0 0 0 0;\n",
              "    width: 32px;\n",
              "  }\n",
              "\n",
              "  .colab-df-quickchart:hover {\n",
              "    background-color: #E2EBFA;\n",
              "    box-shadow: 0px 1px 2px rgba(60, 64, 67, 0.3), 0px 1px 3px 1px rgba(60, 64, 67, 0.15);\n",
              "    fill: #174EA6;\n",
              "  }\n",
              "\n",
              "  [theme=dark] .colab-df-quickchart {\n",
              "    background-color: #3B4455;\n",
              "    fill: #D2E3FC;\n",
              "  }\n",
              "\n",
              "  [theme=dark] .colab-df-quickchart:hover {\n",
              "    background-color: #434B5C;\n",
              "    box-shadow: 0px 1px 3px 1px rgba(0, 0, 0, 0.15);\n",
              "    filter: drop-shadow(0px 1px 2px rgba(0, 0, 0, 0.3));\n",
              "    fill: #FFFFFF;\n",
              "  }\n",
              "</style>\n",
              "\n",
              "    <script>\n",
              "      async function quickchart(key) {\n",
              "        const containerElement = document.querySelector('#' + key);\n",
              "        const charts = await google.colab.kernel.invokeFunction(\n",
              "            'suggestCharts', [key], {});\n",
              "      }\n",
              "    </script>\n",
              "\n",
              "      <script>\n",
              "\n",
              "function displayQuickchartButton(domScope) {\n",
              "  let quickchartButtonEl =\n",
              "    domScope.querySelector('#df-e8cfc16d-558f-4819-a796-43ec46a96cba button.colab-df-quickchart');\n",
              "  quickchartButtonEl.style.display =\n",
              "    google.colab.kernel.accessAllowed ? 'block' : 'none';\n",
              "}\n",
              "\n",
              "        displayQuickchartButton(document);\n",
              "      </script>\n",
              "      <style>\n",
              "    .colab-df-container {\n",
              "      display:flex;\n",
              "      flex-wrap:wrap;\n",
              "      gap: 12px;\n",
              "    }\n",
              "\n",
              "    .colab-df-convert {\n",
              "      background-color: #E8F0FE;\n",
              "      border: none;\n",
              "      border-radius: 50%;\n",
              "      cursor: pointer;\n",
              "      display: none;\n",
              "      fill: #1967D2;\n",
              "      height: 32px;\n",
              "      padding: 0 0 0 0;\n",
              "      width: 32px;\n",
              "    }\n",
              "\n",
              "    .colab-df-convert:hover {\n",
              "      background-color: #E2EBFA;\n",
              "      box-shadow: 0px 1px 2px rgba(60, 64, 67, 0.3), 0px 1px 3px 1px rgba(60, 64, 67, 0.15);\n",
              "      fill: #174EA6;\n",
              "    }\n",
              "\n",
              "    [theme=dark] .colab-df-convert {\n",
              "      background-color: #3B4455;\n",
              "      fill: #D2E3FC;\n",
              "    }\n",
              "\n",
              "    [theme=dark] .colab-df-convert:hover {\n",
              "      background-color: #434B5C;\n",
              "      box-shadow: 0px 1px 3px 1px rgba(0, 0, 0, 0.15);\n",
              "      filter: drop-shadow(0px 1px 2px rgba(0, 0, 0, 0.3));\n",
              "      fill: #FFFFFF;\n",
              "    }\n",
              "  </style>\n",
              "\n",
              "      <script>\n",
              "        const buttonEl =\n",
              "          document.querySelector('#df-c7e6207d-a2bc-4a71-ac54-6087873a903c button.colab-df-convert');\n",
              "        buttonEl.style.display =\n",
              "          google.colab.kernel.accessAllowed ? 'block' : 'none';\n",
              "\n",
              "        async function convertToInteractive(key) {\n",
              "          const element = document.querySelector('#df-c7e6207d-a2bc-4a71-ac54-6087873a903c');\n",
              "          const dataTable =\n",
              "            await google.colab.kernel.invokeFunction('convertToInteractive',\n",
              "                                                     [key], {});\n",
              "          if (!dataTable) return;\n",
              "\n",
              "          const docLinkHtml = 'Like what you see? Visit the ' +\n",
              "            '<a target=\"_blank\" href=https://colab.research.google.com/notebooks/data_table.ipynb>data table notebook</a>'\n",
              "            + ' to learn more about interactive tables.';\n",
              "          element.innerHTML = '';\n",
              "          dataTable['output_type'] = 'display_data';\n",
              "          await google.colab.output.renderOutput(dataTable, element);\n",
              "          const docLink = document.createElement('div');\n",
              "          docLink.innerHTML = docLinkHtml;\n",
              "          element.appendChild(docLink);\n",
              "        }\n",
              "      </script>\n",
              "    </div>\n",
              "  </div>\n"
            ]
          },
          "metadata": {},
          "execution_count": 3
        }
      ]
    },
    {
      "cell_type": "markdown",
      "source": [],
      "metadata": {
        "id": "TwA63uf3zqb0"
      }
    },
    {
      "cell_type": "markdown",
      "source": [
        "### 2-1-2. raw 데이터 수정"
      ],
      "metadata": {
        "id": "b3fvPcCkux7E"
      }
    },
    {
      "cell_type": "markdown",
      "source": [
        "- raw데이터에 있는 모든 정보들을 활용을 하는 것이 아님으로, 필요한 컬럼과, 사용할 record들만 추려서 저장\n"
      ],
      "metadata": {
        "id": "cFgNGOjHvugD"
      }
    },
    {
      "cell_type": "code",
      "source": [
        "# record들을 추릴 때, 사용하기 위해서 필요한 컬럼들의 unique()를 확인\n",
        "print('추적배수 종류 :', df_etf_base['추적배수'].unique())\n",
        "print('기초시장분류 종류 :', df_etf_base['기초시장분류'].unique())\n",
        "print('기초자산분류 종류 :', df_etf_base['기초자산분류'].unique())"
      ],
      "metadata": {
        "colab": {
          "base_uri": "https://localhost:8080/"
        },
        "id": "mHsgpfEYwvqd",
        "outputId": "31f95414-01fa-4608-ff0f-9f5e507e8fee"
      },
      "execution_count": 6,
      "outputs": [
        {
          "output_type": "stream",
          "name": "stdout",
          "text": [
            "추적배수 종류 : ['일반 (1)' '2X 레버리지 (2)' '2X 인버스 (-2)' '1X 인버스 (-1)']\n",
            "기초시장분류 종류 : ['국내' '국내&해외' '해외']\n",
            "기초자산분류 종류 : ['주식' '채권' '기타' '혼합자산' '부동산' '원자재' '통화']\n"
          ]
        }
      ]
    },
    {
      "cell_type": "markdown",
      "source": [
        "- '추적배수'가 '일반 (1)' 이고 '기초시장분류'는 '국내', '기초자산분류'는 '주식'인 record 만을 추림\n",
        "- '단축코드', '한글종목약명', '상장일, '운용사', 'CU수량'의 컬럼들 만을 추림"
      ],
      "metadata": {
        "id": "ZEU9I3KcwvtA"
      }
    },
    {
      "cell_type": "code",
      "source": [
        "# 사용할 record 만을 추린다음, 사용한 컬럼들의 정보들만을 추림\n",
        "df_etf_base_after = df_etf_base.loc[(df_etf_base['추적배수']=='일반 (1)')&(df_etf_base['기초시장분류']=='국내')&(df_etf_base['기초자산분류']=='주식'),['단축코드', '한글종목약명', '상장일', '운용사', 'CU수량']].copy()\n",
        "df_etf_base_after.reset_index(inplace=True, drop=True)\n",
        "print(df_etf_base_after.info())\n",
        "df_etf_base_after.head()"
      ],
      "metadata": {
        "colab": {
          "base_uri": "https://localhost:8080/",
          "height": 442
        },
        "id": "w0JPtKAcwvvl",
        "outputId": "d5a9ad41-3cca-43d2-a118-f8d17ff58676"
      },
      "execution_count": 11,
      "outputs": [
        {
          "output_type": "stream",
          "name": "stdout",
          "text": [
            "<class 'pandas.core.frame.DataFrame'>\n",
            "RangeIndex: 292 entries, 0 to 291\n",
            "Data columns (total 5 columns):\n",
            " #   Column  Non-Null Count  Dtype \n",
            "---  ------  --------------  ----- \n",
            " 0   단축코드    292 non-null    int64 \n",
            " 1   한글종목약명  292 non-null    object\n",
            " 2   상장일     292 non-null    object\n",
            " 3   운용사     292 non-null    object\n",
            " 4   CU수량    292 non-null    int64 \n",
            "dtypes: int64(2), object(3)\n",
            "memory usage: 11.5+ KB\n",
            "None\n"
          ]
        },
        {
          "output_type": "execute_result",
          "data": {
            "text/plain": [
              "     단축코드         한글종목약명         상장일       운용사   CU수량\n",
              "0  445690    BNK 주주가치액티브  2022/10/27  비엔케이자산운용  50000\n",
              "1  442260  마이티 다이나믹퀀트액티브  2022/10/25    디비자산운용  40000\n",
              "2  159800     마이티 코스피100  2012/07/05    디비자산운용  40000\n",
              "3  361580   KBSTAR 200TR  2020/08/21   케이비자산운용  50000\n",
              "4  285000   KBSTAR 200IT  2017/12/08   케이비자산운용  20000"
            ],
            "text/html": [
              "\n",
              "\n",
              "  <div id=\"df-e105888b-7c87-4fc7-b9e7-d8d75c1f6b1e\">\n",
              "    <div class=\"colab-df-container\">\n",
              "      <div>\n",
              "<style scoped>\n",
              "    .dataframe tbody tr th:only-of-type {\n",
              "        vertical-align: middle;\n",
              "    }\n",
              "\n",
              "    .dataframe tbody tr th {\n",
              "        vertical-align: top;\n",
              "    }\n",
              "\n",
              "    .dataframe thead th {\n",
              "        text-align: right;\n",
              "    }\n",
              "</style>\n",
              "<table border=\"1\" class=\"dataframe\">\n",
              "  <thead>\n",
              "    <tr style=\"text-align: right;\">\n",
              "      <th></th>\n",
              "      <th>단축코드</th>\n",
              "      <th>한글종목약명</th>\n",
              "      <th>상장일</th>\n",
              "      <th>운용사</th>\n",
              "      <th>CU수량</th>\n",
              "    </tr>\n",
              "  </thead>\n",
              "  <tbody>\n",
              "    <tr>\n",
              "      <th>0</th>\n",
              "      <td>445690</td>\n",
              "      <td>BNK 주주가치액티브</td>\n",
              "      <td>2022/10/27</td>\n",
              "      <td>비엔케이자산운용</td>\n",
              "      <td>50000</td>\n",
              "    </tr>\n",
              "    <tr>\n",
              "      <th>1</th>\n",
              "      <td>442260</td>\n",
              "      <td>마이티 다이나믹퀀트액티브</td>\n",
              "      <td>2022/10/25</td>\n",
              "      <td>디비자산운용</td>\n",
              "      <td>40000</td>\n",
              "    </tr>\n",
              "    <tr>\n",
              "      <th>2</th>\n",
              "      <td>159800</td>\n",
              "      <td>마이티 코스피100</td>\n",
              "      <td>2012/07/05</td>\n",
              "      <td>디비자산운용</td>\n",
              "      <td>40000</td>\n",
              "    </tr>\n",
              "    <tr>\n",
              "      <th>3</th>\n",
              "      <td>361580</td>\n",
              "      <td>KBSTAR 200TR</td>\n",
              "      <td>2020/08/21</td>\n",
              "      <td>케이비자산운용</td>\n",
              "      <td>50000</td>\n",
              "    </tr>\n",
              "    <tr>\n",
              "      <th>4</th>\n",
              "      <td>285000</td>\n",
              "      <td>KBSTAR 200IT</td>\n",
              "      <td>2017/12/08</td>\n",
              "      <td>케이비자산운용</td>\n",
              "      <td>20000</td>\n",
              "    </tr>\n",
              "  </tbody>\n",
              "</table>\n",
              "</div>\n",
              "      <button class=\"colab-df-convert\" onclick=\"convertToInteractive('df-e105888b-7c87-4fc7-b9e7-d8d75c1f6b1e')\"\n",
              "              title=\"Convert this dataframe to an interactive table.\"\n",
              "              style=\"display:none;\">\n",
              "\n",
              "  <svg xmlns=\"http://www.w3.org/2000/svg\" height=\"24px\"viewBox=\"0 0 24 24\"\n",
              "       width=\"24px\">\n",
              "    <path d=\"M0 0h24v24H0V0z\" fill=\"none\"/>\n",
              "    <path d=\"M18.56 5.44l.94 2.06.94-2.06 2.06-.94-2.06-.94-.94-2.06-.94 2.06-2.06.94zm-11 1L8.5 8.5l.94-2.06 2.06-.94-2.06-.94L8.5 2.5l-.94 2.06-2.06.94zm10 10l.94 2.06.94-2.06 2.06-.94-2.06-.94-.94-2.06-.94 2.06-2.06.94z\"/><path d=\"M17.41 7.96l-1.37-1.37c-.4-.4-.92-.59-1.43-.59-.52 0-1.04.2-1.43.59L10.3 9.45l-7.72 7.72c-.78.78-.78 2.05 0 2.83L4 21.41c.39.39.9.59 1.41.59.51 0 1.02-.2 1.41-.59l7.78-7.78 2.81-2.81c.8-.78.8-2.07 0-2.86zM5.41 20L4 18.59l7.72-7.72 1.47 1.35L5.41 20z\"/>\n",
              "  </svg>\n",
              "      </button>\n",
              "\n",
              "\n",
              "\n",
              "    <div id=\"df-c1c25269-9ddb-422a-b5ad-6481d72143bb\">\n",
              "      <button class=\"colab-df-quickchart\" onclick=\"quickchart('df-c1c25269-9ddb-422a-b5ad-6481d72143bb')\"\n",
              "              title=\"Suggest charts.\"\n",
              "              style=\"display:none;\">\n",
              "\n",
              "<svg xmlns=\"http://www.w3.org/2000/svg\" height=\"24px\"viewBox=\"0 0 24 24\"\n",
              "     width=\"24px\">\n",
              "    <g>\n",
              "        <path d=\"M19 3H5c-1.1 0-2 .9-2 2v14c0 1.1.9 2 2 2h14c1.1 0 2-.9 2-2V5c0-1.1-.9-2-2-2zM9 17H7v-7h2v7zm4 0h-2V7h2v10zm4 0h-2v-4h2v4z\"/>\n",
              "    </g>\n",
              "</svg>\n",
              "      </button>\n",
              "    </div>\n",
              "\n",
              "<style>\n",
              "  .colab-df-quickchart {\n",
              "    background-color: #E8F0FE;\n",
              "    border: none;\n",
              "    border-radius: 50%;\n",
              "    cursor: pointer;\n",
              "    display: none;\n",
              "    fill: #1967D2;\n",
              "    height: 32px;\n",
              "    padding: 0 0 0 0;\n",
              "    width: 32px;\n",
              "  }\n",
              "\n",
              "  .colab-df-quickchart:hover {\n",
              "    background-color: #E2EBFA;\n",
              "    box-shadow: 0px 1px 2px rgba(60, 64, 67, 0.3), 0px 1px 3px 1px rgba(60, 64, 67, 0.15);\n",
              "    fill: #174EA6;\n",
              "  }\n",
              "\n",
              "  [theme=dark] .colab-df-quickchart {\n",
              "    background-color: #3B4455;\n",
              "    fill: #D2E3FC;\n",
              "  }\n",
              "\n",
              "  [theme=dark] .colab-df-quickchart:hover {\n",
              "    background-color: #434B5C;\n",
              "    box-shadow: 0px 1px 3px 1px rgba(0, 0, 0, 0.15);\n",
              "    filter: drop-shadow(0px 1px 2px rgba(0, 0, 0, 0.3));\n",
              "    fill: #FFFFFF;\n",
              "  }\n",
              "</style>\n",
              "\n",
              "    <script>\n",
              "      async function quickchart(key) {\n",
              "        const containerElement = document.querySelector('#' + key);\n",
              "        const charts = await google.colab.kernel.invokeFunction(\n",
              "            'suggestCharts', [key], {});\n",
              "      }\n",
              "    </script>\n",
              "\n",
              "      <script>\n",
              "\n",
              "function displayQuickchartButton(domScope) {\n",
              "  let quickchartButtonEl =\n",
              "    domScope.querySelector('#df-c1c25269-9ddb-422a-b5ad-6481d72143bb button.colab-df-quickchart');\n",
              "  quickchartButtonEl.style.display =\n",
              "    google.colab.kernel.accessAllowed ? 'block' : 'none';\n",
              "}\n",
              "\n",
              "        displayQuickchartButton(document);\n",
              "      </script>\n",
              "      <style>\n",
              "    .colab-df-container {\n",
              "      display:flex;\n",
              "      flex-wrap:wrap;\n",
              "      gap: 12px;\n",
              "    }\n",
              "\n",
              "    .colab-df-convert {\n",
              "      background-color: #E8F0FE;\n",
              "      border: none;\n",
              "      border-radius: 50%;\n",
              "      cursor: pointer;\n",
              "      display: none;\n",
              "      fill: #1967D2;\n",
              "      height: 32px;\n",
              "      padding: 0 0 0 0;\n",
              "      width: 32px;\n",
              "    }\n",
              "\n",
              "    .colab-df-convert:hover {\n",
              "      background-color: #E2EBFA;\n",
              "      box-shadow: 0px 1px 2px rgba(60, 64, 67, 0.3), 0px 1px 3px 1px rgba(60, 64, 67, 0.15);\n",
              "      fill: #174EA6;\n",
              "    }\n",
              "\n",
              "    [theme=dark] .colab-df-convert {\n",
              "      background-color: #3B4455;\n",
              "      fill: #D2E3FC;\n",
              "    }\n",
              "\n",
              "    [theme=dark] .colab-df-convert:hover {\n",
              "      background-color: #434B5C;\n",
              "      box-shadow: 0px 1px 3px 1px rgba(0, 0, 0, 0.15);\n",
              "      filter: drop-shadow(0px 1px 2px rgba(0, 0, 0, 0.3));\n",
              "      fill: #FFFFFF;\n",
              "    }\n",
              "  </style>\n",
              "\n",
              "      <script>\n",
              "        const buttonEl =\n",
              "          document.querySelector('#df-e105888b-7c87-4fc7-b9e7-d8d75c1f6b1e button.colab-df-convert');\n",
              "        buttonEl.style.display =\n",
              "          google.colab.kernel.accessAllowed ? 'block' : 'none';\n",
              "\n",
              "        async function convertToInteractive(key) {\n",
              "          const element = document.querySelector('#df-e105888b-7c87-4fc7-b9e7-d8d75c1f6b1e');\n",
              "          const dataTable =\n",
              "            await google.colab.kernel.invokeFunction('convertToInteractive',\n",
              "                                                     [key], {});\n",
              "          if (!dataTable) return;\n",
              "\n",
              "          const docLinkHtml = 'Like what you see? Visit the ' +\n",
              "            '<a target=\"_blank\" href=https://colab.research.google.com/notebooks/data_table.ipynb>data table notebook</a>'\n",
              "            + ' to learn more about interactive tables.';\n",
              "          element.innerHTML = '';\n",
              "          dataTable['output_type'] = 'display_data';\n",
              "          await google.colab.output.renderOutput(dataTable, element);\n",
              "          const docLink = document.createElement('div');\n",
              "          docLink.innerHTML = docLinkHtml;\n",
              "          element.appendChild(docLink);\n",
              "        }\n",
              "      </script>\n",
              "    </div>\n",
              "  </div>\n"
            ]
          },
          "metadata": {},
          "execution_count": 11
        }
      ]
    },
    {
      "cell_type": "markdown",
      "source": [
        "- '상장일' 컬럼이 날짜의 정보를 가지고 있지만 object 타입이므로 컬럼의 타입을 변경"
      ],
      "metadata": {
        "id": "IaEjY3gRz51X"
      }
    },
    {
      "cell_type": "code",
      "source": [
        "# 상장일 열을 date 타입으로 변환\n",
        "df_etf_base_after['상장일'] = pd.to_datetime(df_etf_base_after['상장일'])\n",
        "print(df_etf_base_after.info())\n",
        "df_etf_base_after.head()"
      ],
      "metadata": {
        "colab": {
          "base_uri": "https://localhost:8080/",
          "height": 442
        },
        "id": "1Jyjgfjgwvxd",
        "outputId": "fd086812-2012-4c4b-c1dd-e027d0d8dc3e"
      },
      "execution_count": 12,
      "outputs": [
        {
          "output_type": "stream",
          "name": "stdout",
          "text": [
            "<class 'pandas.core.frame.DataFrame'>\n",
            "RangeIndex: 292 entries, 0 to 291\n",
            "Data columns (total 5 columns):\n",
            " #   Column  Non-Null Count  Dtype         \n",
            "---  ------  --------------  -----         \n",
            " 0   단축코드    292 non-null    int64         \n",
            " 1   한글종목약명  292 non-null    object        \n",
            " 2   상장일     292 non-null    datetime64[ns]\n",
            " 3   운용사     292 non-null    object        \n",
            " 4   CU수량    292 non-null    int64         \n",
            "dtypes: datetime64[ns](1), int64(2), object(2)\n",
            "memory usage: 11.5+ KB\n",
            "None\n"
          ]
        },
        {
          "output_type": "execute_result",
          "data": {
            "text/plain": [
              "     단축코드         한글종목약명        상장일       운용사   CU수량\n",
              "0  445690    BNK 주주가치액티브 2022-10-27  비엔케이자산운용  50000\n",
              "1  442260  마이티 다이나믹퀀트액티브 2022-10-25    디비자산운용  40000\n",
              "2  159800     마이티 코스피100 2012-07-05    디비자산운용  40000\n",
              "3  361580   KBSTAR 200TR 2020-08-21   케이비자산운용  50000\n",
              "4  285000   KBSTAR 200IT 2017-12-08   케이비자산운용  20000"
            ],
            "text/html": [
              "\n",
              "\n",
              "  <div id=\"df-d2d8efa0-3570-445d-8575-ab310eb7f6a5\">\n",
              "    <div class=\"colab-df-container\">\n",
              "      <div>\n",
              "<style scoped>\n",
              "    .dataframe tbody tr th:only-of-type {\n",
              "        vertical-align: middle;\n",
              "    }\n",
              "\n",
              "    .dataframe tbody tr th {\n",
              "        vertical-align: top;\n",
              "    }\n",
              "\n",
              "    .dataframe thead th {\n",
              "        text-align: right;\n",
              "    }\n",
              "</style>\n",
              "<table border=\"1\" class=\"dataframe\">\n",
              "  <thead>\n",
              "    <tr style=\"text-align: right;\">\n",
              "      <th></th>\n",
              "      <th>단축코드</th>\n",
              "      <th>한글종목약명</th>\n",
              "      <th>상장일</th>\n",
              "      <th>운용사</th>\n",
              "      <th>CU수량</th>\n",
              "    </tr>\n",
              "  </thead>\n",
              "  <tbody>\n",
              "    <tr>\n",
              "      <th>0</th>\n",
              "      <td>445690</td>\n",
              "      <td>BNK 주주가치액티브</td>\n",
              "      <td>2022-10-27</td>\n",
              "      <td>비엔케이자산운용</td>\n",
              "      <td>50000</td>\n",
              "    </tr>\n",
              "    <tr>\n",
              "      <th>1</th>\n",
              "      <td>442260</td>\n",
              "      <td>마이티 다이나믹퀀트액티브</td>\n",
              "      <td>2022-10-25</td>\n",
              "      <td>디비자산운용</td>\n",
              "      <td>40000</td>\n",
              "    </tr>\n",
              "    <tr>\n",
              "      <th>2</th>\n",
              "      <td>159800</td>\n",
              "      <td>마이티 코스피100</td>\n",
              "      <td>2012-07-05</td>\n",
              "      <td>디비자산운용</td>\n",
              "      <td>40000</td>\n",
              "    </tr>\n",
              "    <tr>\n",
              "      <th>3</th>\n",
              "      <td>361580</td>\n",
              "      <td>KBSTAR 200TR</td>\n",
              "      <td>2020-08-21</td>\n",
              "      <td>케이비자산운용</td>\n",
              "      <td>50000</td>\n",
              "    </tr>\n",
              "    <tr>\n",
              "      <th>4</th>\n",
              "      <td>285000</td>\n",
              "      <td>KBSTAR 200IT</td>\n",
              "      <td>2017-12-08</td>\n",
              "      <td>케이비자산운용</td>\n",
              "      <td>20000</td>\n",
              "    </tr>\n",
              "  </tbody>\n",
              "</table>\n",
              "</div>\n",
              "      <button class=\"colab-df-convert\" onclick=\"convertToInteractive('df-d2d8efa0-3570-445d-8575-ab310eb7f6a5')\"\n",
              "              title=\"Convert this dataframe to an interactive table.\"\n",
              "              style=\"display:none;\">\n",
              "\n",
              "  <svg xmlns=\"http://www.w3.org/2000/svg\" height=\"24px\"viewBox=\"0 0 24 24\"\n",
              "       width=\"24px\">\n",
              "    <path d=\"M0 0h24v24H0V0z\" fill=\"none\"/>\n",
              "    <path d=\"M18.56 5.44l.94 2.06.94-2.06 2.06-.94-2.06-.94-.94-2.06-.94 2.06-2.06.94zm-11 1L8.5 8.5l.94-2.06 2.06-.94-2.06-.94L8.5 2.5l-.94 2.06-2.06.94zm10 10l.94 2.06.94-2.06 2.06-.94-2.06-.94-.94-2.06-.94 2.06-2.06.94z\"/><path d=\"M17.41 7.96l-1.37-1.37c-.4-.4-.92-.59-1.43-.59-.52 0-1.04.2-1.43.59L10.3 9.45l-7.72 7.72c-.78.78-.78 2.05 0 2.83L4 21.41c.39.39.9.59 1.41.59.51 0 1.02-.2 1.41-.59l7.78-7.78 2.81-2.81c.8-.78.8-2.07 0-2.86zM5.41 20L4 18.59l7.72-7.72 1.47 1.35L5.41 20z\"/>\n",
              "  </svg>\n",
              "      </button>\n",
              "\n",
              "\n",
              "\n",
              "    <div id=\"df-f34ca4b5-298e-49a2-a682-fe7c0ffee197\">\n",
              "      <button class=\"colab-df-quickchart\" onclick=\"quickchart('df-f34ca4b5-298e-49a2-a682-fe7c0ffee197')\"\n",
              "              title=\"Suggest charts.\"\n",
              "              style=\"display:none;\">\n",
              "\n",
              "<svg xmlns=\"http://www.w3.org/2000/svg\" height=\"24px\"viewBox=\"0 0 24 24\"\n",
              "     width=\"24px\">\n",
              "    <g>\n",
              "        <path d=\"M19 3H5c-1.1 0-2 .9-2 2v14c0 1.1.9 2 2 2h14c1.1 0 2-.9 2-2V5c0-1.1-.9-2-2-2zM9 17H7v-7h2v7zm4 0h-2V7h2v10zm4 0h-2v-4h2v4z\"/>\n",
              "    </g>\n",
              "</svg>\n",
              "      </button>\n",
              "    </div>\n",
              "\n",
              "<style>\n",
              "  .colab-df-quickchart {\n",
              "    background-color: #E8F0FE;\n",
              "    border: none;\n",
              "    border-radius: 50%;\n",
              "    cursor: pointer;\n",
              "    display: none;\n",
              "    fill: #1967D2;\n",
              "    height: 32px;\n",
              "    padding: 0 0 0 0;\n",
              "    width: 32px;\n",
              "  }\n",
              "\n",
              "  .colab-df-quickchart:hover {\n",
              "    background-color: #E2EBFA;\n",
              "    box-shadow: 0px 1px 2px rgba(60, 64, 67, 0.3), 0px 1px 3px 1px rgba(60, 64, 67, 0.15);\n",
              "    fill: #174EA6;\n",
              "  }\n",
              "\n",
              "  [theme=dark] .colab-df-quickchart {\n",
              "    background-color: #3B4455;\n",
              "    fill: #D2E3FC;\n",
              "  }\n",
              "\n",
              "  [theme=dark] .colab-df-quickchart:hover {\n",
              "    background-color: #434B5C;\n",
              "    box-shadow: 0px 1px 3px 1px rgba(0, 0, 0, 0.15);\n",
              "    filter: drop-shadow(0px 1px 2px rgba(0, 0, 0, 0.3));\n",
              "    fill: #FFFFFF;\n",
              "  }\n",
              "</style>\n",
              "\n",
              "    <script>\n",
              "      async function quickchart(key) {\n",
              "        const containerElement = document.querySelector('#' + key);\n",
              "        const charts = await google.colab.kernel.invokeFunction(\n",
              "            'suggestCharts', [key], {});\n",
              "      }\n",
              "    </script>\n",
              "\n",
              "      <script>\n",
              "\n",
              "function displayQuickchartButton(domScope) {\n",
              "  let quickchartButtonEl =\n",
              "    domScope.querySelector('#df-f34ca4b5-298e-49a2-a682-fe7c0ffee197 button.colab-df-quickchart');\n",
              "  quickchartButtonEl.style.display =\n",
              "    google.colab.kernel.accessAllowed ? 'block' : 'none';\n",
              "}\n",
              "\n",
              "        displayQuickchartButton(document);\n",
              "      </script>\n",
              "      <style>\n",
              "    .colab-df-container {\n",
              "      display:flex;\n",
              "      flex-wrap:wrap;\n",
              "      gap: 12px;\n",
              "    }\n",
              "\n",
              "    .colab-df-convert {\n",
              "      background-color: #E8F0FE;\n",
              "      border: none;\n",
              "      border-radius: 50%;\n",
              "      cursor: pointer;\n",
              "      display: none;\n",
              "      fill: #1967D2;\n",
              "      height: 32px;\n",
              "      padding: 0 0 0 0;\n",
              "      width: 32px;\n",
              "    }\n",
              "\n",
              "    .colab-df-convert:hover {\n",
              "      background-color: #E2EBFA;\n",
              "      box-shadow: 0px 1px 2px rgba(60, 64, 67, 0.3), 0px 1px 3px 1px rgba(60, 64, 67, 0.15);\n",
              "      fill: #174EA6;\n",
              "    }\n",
              "\n",
              "    [theme=dark] .colab-df-convert {\n",
              "      background-color: #3B4455;\n",
              "      fill: #D2E3FC;\n",
              "    }\n",
              "\n",
              "    [theme=dark] .colab-df-convert:hover {\n",
              "      background-color: #434B5C;\n",
              "      box-shadow: 0px 1px 3px 1px rgba(0, 0, 0, 0.15);\n",
              "      filter: drop-shadow(0px 1px 2px rgba(0, 0, 0, 0.3));\n",
              "      fill: #FFFFFF;\n",
              "    }\n",
              "  </style>\n",
              "\n",
              "      <script>\n",
              "        const buttonEl =\n",
              "          document.querySelector('#df-d2d8efa0-3570-445d-8575-ab310eb7f6a5 button.colab-df-convert');\n",
              "        buttonEl.style.display =\n",
              "          google.colab.kernel.accessAllowed ? 'block' : 'none';\n",
              "\n",
              "        async function convertToInteractive(key) {\n",
              "          const element = document.querySelector('#df-d2d8efa0-3570-445d-8575-ab310eb7f6a5');\n",
              "          const dataTable =\n",
              "            await google.colab.kernel.invokeFunction('convertToInteractive',\n",
              "                                                     [key], {});\n",
              "          if (!dataTable) return;\n",
              "\n",
              "          const docLinkHtml = 'Like what you see? Visit the ' +\n",
              "            '<a target=\"_blank\" href=https://colab.research.google.com/notebooks/data_table.ipynb>data table notebook</a>'\n",
              "            + ' to learn more about interactive tables.';\n",
              "          element.innerHTML = '';\n",
              "          dataTable['output_type'] = 'display_data';\n",
              "          await google.colab.output.renderOutput(dataTable, element);\n",
              "          const docLink = document.createElement('div');\n",
              "          docLink.innerHTML = docLinkHtml;\n",
              "          element.appendChild(docLink);\n",
              "        }\n",
              "      </script>\n",
              "    </div>\n",
              "  </div>\n"
            ]
          },
          "metadata": {},
          "execution_count": 12
        }
      ]
    },
    {
      "cell_type": "markdown",
      "source": [
        "- 만들어진 데이터 프레임은 ETF의 기본 정보들을 알려주는 데이터프레임\n",
        "- ETF들을 구분하는 '단축코드', ETF의 이름을 알려주는 '한글종목약명', ETF가 상장이 된 날짜인 '상장일', ETF를 운용하는 '운용사, ETF의 몇개의 CU로 구성되어 있는 'CU수량'의 컬럼들로 구성되어 있음\n",
        "- 'After_raw' 폴더에 'etf_base_info.pkl' 파일로 저장"
      ],
      "metadata": {
        "id": "4tiuumN4yygn"
      }
    },
    {
      "cell_type": "code",
      "source": [
        "df_etf_base_after.to_pickle('/content/drive/MyDrive/snowball/data/After_raw/etf_base_info.pkl')"
      ],
      "metadata": {
        "id": "1z6v1CF6yyi5"
      },
      "execution_count": 13,
      "outputs": []
    },
    {
      "cell_type": "markdown",
      "source": [
        "## 2-1. PDF 데이터 설명"
      ],
      "metadata": {
        "id": "nEkR3LxZIm24"
      }
    },
    {
      "cell_type": "markdown",
      "source": [
        "### 2-1-1. raw 데이터 확인"
      ],
      "metadata": {
        "id": "0YZKkg173sAb"
      }
    },
    {
      "cell_type": "markdown",
      "source": [
        "1. pdf 파일의 파일명은 'etf코드_조회날짜.csv'로 되어 있음\n",
        "2. 각 pdf 파일들은 다음 과 같은 구조로 되어 있음\n",
        "![image.png](data:image/png;base64,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)"
      ],
      "metadata": {
        "id": "AbAlyWsasYpB"
      }
    },
    {
      "cell_type": "markdown",
      "source": [
        "### 2-1-2. raw 데이터 수정"
      ],
      "metadata": {
        "id": "tzX0rvvgsL4y"
      }
    },
    {
      "cell_type": "markdown",
      "source": [
        "1. pdf파일의 etf코드가 'etf_base_info.pkl' 데이터프레임에서 '단축코드'에 대응하는 pdf 파일들만을 사용(사용 안하는 pdf파일들을 거르기 위해서)\n",
        "2. 사용할 pdf 파일들의 시가총액 구성비중의 합이 100이 되는지 확인\n",
        "3. 모든 pdf 파일들을 통합하여서 하나의 파일을 생성"
      ],
      "metadata": {
        "id": "XapMEC6X4LQD"
      }
    },
    {
      "cell_type": "markdown",
      "source": [
        "#### 2-1-2-1. pdf 파일 필터링"
      ],
      "metadata": {
        "id": "DxNXr46ME6PB"
      }
    },
    {
      "cell_type": "markdown",
      "source": [
        "- pdf파일의 etf코드가 'etf_base_info.pkl' 데이터프레임에서 '단축코드'에 대응하는 pdf 파일들만을 사용"
      ],
      "metadata": {
        "id": "MK_Tfd7nFDoC"
      }
    },
    {
      "cell_type": "code",
      "source": [
        "# 사용하는 etf의 코드들을 리스트로 추출\n",
        "import pandas as pd\n",
        "\n",
        "df_etf_base_after = pd.read_pickle('/content/drive/MyDrive/snowball/data/After_raw/etf_base_info.pkl')\n",
        "etf_code_list = list(df_etf_base_after['단축코드'])\n",
        "etf_code_list[:5]"
      ],
      "metadata": {
        "colab": {
          "base_uri": "https://localhost:8080/"
        },
        "id": "5yH6UjC_4IIQ",
        "outputId": "0bd44765-f9ba-4ce7-bae2-2a4e0029aab3"
      },
      "execution_count": 14,
      "outputs": [
        {
          "output_type": "execute_result",
          "data": {
            "text/plain": [
              "[445690, 442260, 159800, 361580, 285000]"
            ]
          },
          "metadata": {},
          "execution_count": 14
        }
      ]
    },
    {
      "cell_type": "code",
      "source": [
        "# pdf 파일들의 제목들을 확인\n",
        "import os\n",
        "\n",
        "path_dir = '/content/drive/MyDrive/snowball/data/PDF_files' # pdf 파일들이 저장되어 있는 경로 입력\n",
        "file_list = os.listdir(path_dir) # pdf파일 경로에 있는 모든 pdf 파일들 명을 file_list로 저장\n",
        "file_list[:5]"
      ],
      "metadata": {
        "colab": {
          "base_uri": "https://localhost:8080/"
        },
        "id": "EmsTG4TK4INE",
        "outputId": "1d7d0adf-d140-4d47-f205-4df31d9ef2a1"
      },
      "execution_count": 16,
      "outputs": [
        {
          "output_type": "execute_result",
          "data": {
            "text/plain": [
              "['102960_20160201.csv',\n",
              " '102960_20160302.csv',\n",
              " '102960_20160401.csv',\n",
              " '102960_20160502.csv',\n",
              " '102960_20160601.csv']"
            ]
          },
          "metadata": {},
          "execution_count": 16
        }
      ]
    },
    {
      "cell_type": "code",
      "source": [
        "# pdf파일의 etf코드가 'etf_base_info.pkl' 데이터프레임에서 '단축코드'에 대응하는 pdf 파일들만을 거름\n",
        "pdf_file_list = list() # 걸러진(사용할) pdf 파일들의 파일명들을 담을 리스트\n",
        "for pdf_file in file_list: # PDF_files 폴더안에 있는 모든 pdf 파일들에 대해서 적용\n",
        "  pdf_file_code = int(pdf_file.split('_')[0]) # etf 코드를 추출\n",
        "  if pdf_file_code in etf_code_list: # 추출한 etf 코드가 기준을 만족하면\n",
        "    pdf_file_list.append(pdf_file) # 해당 리스트에 파일명을 추가\n",
        "  else:\n",
        "    pass\n"
      ],
      "metadata": {
        "id": "D5SaaL7J4IPX"
      },
      "execution_count": 20,
      "outputs": []
    },
    {
      "cell_type": "code",
      "source": [
        "pdf_file_list[-10:]"
      ],
      "metadata": {
        "colab": {
          "base_uri": "https://localhost:8080/"
        },
        "id": "P7HtKwm8EFXt",
        "outputId": "5828cda3-ebd3-4d2f-bb0e-2dc2c8210d1b"
      },
      "execution_count": 23,
      "outputs": [
        {
          "output_type": "execute_result",
          "data": {
            "text/plain": [
              "['331910_20220701.csv',\n",
              " '331910_20220602.csv',\n",
              " '331910_20220801.csv',\n",
              " '331910_20220901.csv',\n",
              " '331910_20221101.csv',\n",
              " '331910_20221004.csv',\n",
              " '331910_20221201.csv',\n",
              " '331910_20230102.csv',\n",
              " '331910_20230201.csv',\n",
              " '331910_20230302.csv']"
            ]
          },
          "metadata": {},
          "execution_count": 23
        }
      ]
    },
    {
      "cell_type": "markdown",
      "source": [
        "#### 2-1-2-2. pdf파일들 확인"
      ],
      "metadata": {
        "id": "TkgVEBuXFIxv"
      }
    },
    {
      "cell_type": "markdown",
      "source": [
        "- 사용할 pdf 파일들의 시가총액 구성비중의 합이 100이 되는지 확인"
      ],
      "metadata": {
        "id": "V75aYMLoFNI6"
      }
    },
    {
      "cell_type": "code",
      "source": [
        "import pandas as pd\n",
        "def check_pdf_file(filepath):\n",
        "  df_pdf = pd.read_csv(filepath, encoding='cp949')\n",
        "  print(df_pdf.info())\n",
        "\n",
        "check_pdf_file('/content/drive/MyDrive/snowball/data/PDF_files/331910_20220701.csv')"
      ],
      "metadata": {
        "colab": {
          "base_uri": "https://localhost:8080/"
        },
        "id": "7okDTkct4IRd",
        "outputId": "3f91a393-4242-4dec-c3b8-14f6c9301750"
      },
      "execution_count": 25,
      "outputs": [
        {
          "output_type": "stream",
          "name": "stdout",
          "text": [
            "<class 'pandas.core.frame.DataFrame'>\n",
            "RangeIndex: 101 entries, 0 to 100\n",
            "Data columns (total 6 columns):\n",
            " #   Column     Non-Null Count  Dtype  \n",
            "---  ------     --------------  -----  \n",
            " 0   종목코드       101 non-null    object \n",
            " 1   구성종목명      101 non-null    object \n",
            " 2   주식수(계약수)   100 non-null    float64\n",
            " 3   평가금액       100 non-null    float64\n",
            " 4   시가총액       101 non-null    int64  \n",
            " 5   시가총액 구성비중  101 non-null    float64\n",
            "dtypes: float64(3), int64(1), object(2)\n",
            "memory usage: 4.9+ KB\n",
            "None\n"
          ]
        }
      ]
    },
    {
      "cell_type": "markdown",
      "source": [
        "## 2-2. 제무제표 데이터 설명"
      ],
      "metadata": {
        "id": "MRuoH2lGIG_c"
      }
    },
    {
      "cell_type": "markdown",
      "source": [
        "### 2-2-1. 재무제표 원본 데이터 설명"
      ],
      "metadata": {
        "id": "THtWzp-AIHCc"
      }
    },
    {
      "cell_type": "markdown",
      "source": [
        "- 재무 상태표의 경우\n",
        "![image.png](data:image/png;base64,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)\n",
        "- 손익계산서의 경우\n",
        "![image.png](data:image/png;base64,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)\n",
        "- txt 파일들이어서 추후 전처리에 애로사항이 생김으로, 데이터프레임화를 하여서 병합이 필요"
      ],
      "metadata": {
        "id": "cyTe-rzoWyPl"
      }
    },
    {
      "cell_type": "markdown",
      "source": [
        "### 2-2-2. 재무제표 데이터 데이터프레임화"
      ],
      "metadata": {
        "id": "LdvWKgCyIHFW"
      }
    },
    {
      "cell_type": "markdown",
      "source": [
        "## 2-4. ETF 가격 데이터 설명"
      ],
      "metadata": {
        "id": "FWCA73m-Im5y"
      }
    },
    {
      "cell_type": "markdown",
      "source": [
        "# 3.  데이터 탐색 보고서"
      ],
      "metadata": {
        "id": "yC-66M9qFbmJ"
      }
    },
    {
      "cell_type": "markdown",
      "source": [
        "# 4. 데이터 품질 보고서"
      ],
      "metadata": {
        "id": "ilBI9SAKFcL8"
      }
    }
  ]
}