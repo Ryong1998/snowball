{
  "nbformat": 4,
  "nbformat_minor": 0,
  "metadata": {
    "colab": {
      "provenance": [],
      "toc_visible": true,
      "mount_file_id": "1dQbu2UunQrTzidL2MoPWjz2Auq1LsIkT",
      "authorship_tag": "ABX9TyN5wL4ySuTMptdUtBgUhXzv",
      "include_colab_link": true
    },
    "kernelspec": {
      "name": "python3",
      "display_name": "Python 3"
    },
    "language_info": {
      "name": "python"
    }
  },
  "cells": [
    {
      "cell_type": "markdown",
      "metadata": {
        "id": "view-in-github",
        "colab_type": "text"
      },
      "source": [
        "<a href=\"https://colab.research.google.com/github/Ryong1998/snowball/blob/main/2_Data_Preparation.ipynb\" target=\"_parent\"><img src=\"https://colab.research.google.com/assets/colab-badge.svg\" alt=\"Open In Colab\"/></a>"
      ]
    },
    {
      "cell_type": "code",
      "source": [
        "# 드라이브 마운트\n",
        "from google.colab import drive\n",
        "drive.mount('/content/drive')"
      ],
      "metadata": {
        "colab": {
          "base_uri": "https://localhost:8080/"
        },
        "id": "W6UJDFLoPDTh",
        "outputId": "8ca6f81e-6395-46da-acd3-a0b3af9a8a09"
      },
      "execution_count": 1,
      "outputs": [
        {
          "output_type": "stream",
          "name": "stdout",
          "text": [
            "Drive already mounted at /content/drive; to attempt to forcibly remount, call drive.mount(\"/content/drive\", force_remount=True).\n"
          ]
        }
      ]
    },
    {
      "cell_type": "markdown",
      "source": [
        "# 1. 초기 데이터 수집 보고서"
      ],
      "metadata": {
        "id": "V8xCv6z9EbdD"
      }
    },
    {
      "cell_type": "markdown",
      "source": [
        "## 1-1. DART 재무제표 데이터 수집"
      ],
      "metadata": {
        "id": "-f185zTgF4YC"
      }
    },
    {
      "cell_type": "markdown",
      "source": [
        "### 1-1-1. 파일 다운로드 방법"
      ],
      "metadata": {
        "id": "qNBP64Ermsqq"
      }
    },
    {
      "cell_type": "markdown",
      "source": [
        "1. https://dart.fss.or.kr/ 전자공시시스템 사이트 접속\n",
        "2. OpenDART(위쪽 메뉴) -> 재무정보일괄다운로드(좌측 메뉴) 선택\n",
        "3. 2015~2022년 재무상태표, 손익계산서, 현금흐름표를 클릭하여 파일들 다운로드\n",
        "4. 해당 파일들은 zip 파일로 되어 있어서 압축해제 실행\n",
        "5. 압축 해제한 파일은 'data > Finance_report_txt' 폴더에 저장"
      ],
      "metadata": {
        "id": "bSFFcPnDingq"
      }
    },
    {
      "cell_type": "markdown",
      "source": [
        "### 1-1-2. 저장한 파일 정리"
      ],
      "metadata": {
        "id": "URBHjTiymwe1"
      }
    },
    {
      "cell_type": "markdown",
      "source": [
        "1. 저장한 파일들에서 PL은 손익계산서를, BS는 재무상태표를, CF는 현금흐름표를 의미함\n",
        "2. Q는 분기를 의미함(1Q는 1분기, 2Q는 2분기)\n",
        "3. 'Finance_report_txt' 폴더에 있는 각 파일들에 접근하기 위해서는 폴더들을 여러번 왔다갔다 해야 함으로, 파일명을 알기 쉽게 변경해서 손익계산서 파일들은 'PL_report_txt'폴더에, 재무상태표 파일들은 'BS_report_txt'폴더에 복사\n",
        "4. 'PL_report_txt'에 있는 파일들 중 '_1'은 '손익계산서-별도재무제표', '_2'는 '손익계산서-연결재무제표', '_3'은 '포괄손익계산서-별도재무제표', '_4'는 '포괄손익계산서-연결재무제표' 를 뜻함\n",
        "5. 'BS_report_txt'에 있는 파일들 중 '_1'은 '재무상태표-별도재무제표', '_2'는 '재무상태표-연결재무제표'를 뜻함"
      ],
      "metadata": {
        "id": "OulROokonyVv"
      }
    },
    {
      "cell_type": "markdown",
      "source": [
        "\n",
        "## 1-2. 금융지주회사 재무제표 데이터 수집"
      ],
      "metadata": {
        "id": "UfTBCXNhvKuO"
      }
    },
    {
      "cell_type": "markdown",
      "source": [
        "1. https://fisis.fss.or.kr/fss/fsiview/indexw.html 금융통계정보시스템 사이트 접속\n",
        "2. '경영정보(위쪽 메뉴) -> 단순 통계표 조회(하위 메뉴)' 선택\n",
        "3. '금융지주회사(왼쪽 메뉴) -> 재무현황(중간 메뉴) -> 요약연결재무상태표(부채 및 자본), 요약연결손익계산서, 요약연결현금흐름표'를 각각 클릭해서 데이터 조회\n",
        "4. 조회기간은 2015년 3월 ~ 2023년 3월, 모든 지주회사 체크\n",
        "5. 재무상태표는 '부채총계, 자본총계, 자산총계'를 클릭해서 추출한 후 '금융지주 연결재무상태표.xls' 파일로 저장\n",
        "6. 손익계산서는 '영업수익, 영업이익, 연결당기순이익'를 클릭해서 추출한 후 '금융지주 연결손익계산서.xls' 파일로 저장\n",
        "7. 현금흐름표는 '영업활동으로 인한 현금흐름, 투자활동으로 인한 현금흐름, 재무활동으로 인한 현금흐름' 를 클릭해서 추출한 후 '금융지주 현금흐름표.xls' 파일로 저장\n",
        "8. 우리은행의 경우, 2019년 이전의 데이터가 존재하지 않음으로, '경영정보(위쪽 메뉴) -> 단순 통계표 조회(하위 메뉴) -> 국내은(왼쪽 메뉴) -> 재무현황(중간 메뉴) -> 연결재무상태표(부채 및 자본), 연결손익계산서'를 클릭해서 데이터 조회\n",
        "9. 재무상태표는 '부채총계, 자본총계, 자산총계'를 클릭해서 추출한 후 '우리은행 연결재무상태표.xls'로 저장, 손익계산서는 '영업수익, 영업이익, 연결당기순이익'를 클릭해서 추가적으로 추출한 후 '우리은행 연결손익계산서.xls'로 저장\n",
        "10. 금융지주회사들은 네이버 증권을 활용해서 주식코드를 찾은 후 '금융지주 주식코드.csv' 파일로 정리하여서 저장\n",
        "11. 다운로드 받은 파일들은 'Bank_holding' 폴더에 저장\n"
      ],
      "metadata": {
        "id": "Un_k5-BKvXB4"
      }
    },
    {
      "cell_type": "markdown",
      "source": [
        "## 1-3. ETF 기본정보 데이터 수집"
      ],
      "metadata": {
        "id": "G8nC205AF82W"
      }
    },
    {
      "cell_type": "markdown",
      "source": [
        "1. http://data.krx.co.kr/contents/MDC/MAIN/main/index.cmd krx 정보데이터 시스템 사이트 접속\n",
        "2. '증권상품(좌측메뉴) -> ETF -> 전종목기본정보' 선택\n",
        "3. 'data > ETF_base_info' 폴더에 다운로드 받은 파일을 저장(파일명 : 전종목기본정보.csv , 2023년 4월 13일 기준)"
      ],
      "metadata": {
        "id": "dEwSk-U8hWN9"
      }
    },
    {
      "cell_type": "markdown",
      "source": [
        "## 1-4. PDF 데이터 수집(크롤링)"
      ],
      "metadata": {
        "id": "DscpV3eJF858"
      }
    },
    {
      "cell_type": "markdown",
      "source": [
        "1. 각 ETF를 구성하는 주식들의 비율을 ETF 내 기준에 따라 계속해서 변할 것임으로 각 ETF별 PDF 파일들이 필요\n",
        "2. ETF를 구성하는 주식들의 비율이 정확히 언제 변하는지 알기 어려움으로, 각 ETF의 매달 첫번째 개장일의 PDF 파일들을 사용할 예정\n",
        "3. '1. 개장일 추출 -> 2. 매달 첫번째 개장일 조회 -> 3. 해당 일의 PDF 파일 다운' 순으로 진행\n"
      ],
      "metadata": {
        "id": "T8TwS_KztA5l"
      }
    },
    {
      "cell_type": "markdown",
      "source": [
        "### 1-4-1. 개장일 추출"
      ],
      "metadata": {
        "id": "L5E7SnHasg27"
      }
    },
    {
      "cell_type": "markdown",
      "source": [
        "1. http://open.krx.co.kr/contents/MKD/01/0110/01100305/MKD01100305.jsp 사이트로 부터 2015~2023년의 연도별 휴장일들을 추출한뒤 'ETC'폴더에 'krx_holiday.csv' 파일로 저장\n",
        "2.'krx_holiday.csv'을 활용해서 개장일 들을 구한 다음 'ETC'폴더에 'openDate.csv'파일로 저장"
      ],
      "metadata": {
        "id": "IsjB-8YPq-pu"
      }
    },
    {
      "cell_type": "code",
      "source": [
        "import pandas as pd\n",
        "\n",
        "# 휴장일 파일 읽기\n",
        "holiday_df = pd.read_csv(\"/content/drive/MyDrive/snowball/data/ETC/krx_holiday.csv\")\n",
        "print(holiday_df.info())\n",
        "holiday_df.head(10)"
      ],
      "metadata": {
        "colab": {
          "base_uri": "https://localhost:8080/",
          "height": 526
        },
        "id": "U4FG9-vGwxRF",
        "outputId": "1afca84b-3e71-46ad-8897-71a68da06fee"
      },
      "execution_count": null,
      "outputs": [
        {
          "output_type": "stream",
          "name": "stdout",
          "text": [
            "<class 'pandas.core.frame.DataFrame'>\n",
            "RangeIndex: 132 entries, 0 to 131\n",
            "Data columns (total 1 columns):\n",
            " #   Column  Non-Null Count  Dtype \n",
            "---  ------  --------------  ----- \n",
            " 0   Date    132 non-null    object\n",
            "dtypes: object(1)\n",
            "memory usage: 1.2+ KB\n",
            "None\n"
          ]
        },
        {
          "output_type": "execute_result",
          "data": {
            "text/plain": [
              "         Date\n",
              "0  2015-01-01\n",
              "1  2015-02-18\n",
              "2  2015-02-19\n",
              "3  2015-02-20\n",
              "4  2015-05-01\n",
              "5  2015-05-05\n",
              "6  2015-05-25\n",
              "7  2015-08-14\n",
              "8  2015-09-28\n",
              "9  2015-09-29"
            ],
            "text/html": [
              "\n",
              "\n",
              "  <div id=\"df-2866d8df-3275-4798-8695-0da928294560\">\n",
              "    <div class=\"colab-df-container\">\n",
              "      <div>\n",
              "<style scoped>\n",
              "    .dataframe tbody tr th:only-of-type {\n",
              "        vertical-align: middle;\n",
              "    }\n",
              "\n",
              "    .dataframe tbody tr th {\n",
              "        vertical-align: top;\n",
              "    }\n",
              "\n",
              "    .dataframe thead th {\n",
              "        text-align: right;\n",
              "    }\n",
              "</style>\n",
              "<table border=\"1\" class=\"dataframe\">\n",
              "  <thead>\n",
              "    <tr style=\"text-align: right;\">\n",
              "      <th></th>\n",
              "      <th>Date</th>\n",
              "    </tr>\n",
              "  </thead>\n",
              "  <tbody>\n",
              "    <tr>\n",
              "      <th>0</th>\n",
              "      <td>2015-01-01</td>\n",
              "    </tr>\n",
              "    <tr>\n",
              "      <th>1</th>\n",
              "      <td>2015-02-18</td>\n",
              "    </tr>\n",
              "    <tr>\n",
              "      <th>2</th>\n",
              "      <td>2015-02-19</td>\n",
              "    </tr>\n",
              "    <tr>\n",
              "      <th>3</th>\n",
              "      <td>2015-02-20</td>\n",
              "    </tr>\n",
              "    <tr>\n",
              "      <th>4</th>\n",
              "      <td>2015-05-01</td>\n",
              "    </tr>\n",
              "    <tr>\n",
              "      <th>5</th>\n",
              "      <td>2015-05-05</td>\n",
              "    </tr>\n",
              "    <tr>\n",
              "      <th>6</th>\n",
              "      <td>2015-05-25</td>\n",
              "    </tr>\n",
              "    <tr>\n",
              "      <th>7</th>\n",
              "      <td>2015-08-14</td>\n",
              "    </tr>\n",
              "    <tr>\n",
              "      <th>8</th>\n",
              "      <td>2015-09-28</td>\n",
              "    </tr>\n",
              "    <tr>\n",
              "      <th>9</th>\n",
              "      <td>2015-09-29</td>\n",
              "    </tr>\n",
              "  </tbody>\n",
              "</table>\n",
              "</div>\n",
              "      <button class=\"colab-df-convert\" onclick=\"convertToInteractive('df-2866d8df-3275-4798-8695-0da928294560')\"\n",
              "              title=\"Convert this dataframe to an interactive table.\"\n",
              "              style=\"display:none;\">\n",
              "\n",
              "  <svg xmlns=\"http://www.w3.org/2000/svg\" height=\"24px\"viewBox=\"0 0 24 24\"\n",
              "       width=\"24px\">\n",
              "    <path d=\"M0 0h24v24H0V0z\" fill=\"none\"/>\n",
              "    <path d=\"M18.56 5.44l.94 2.06.94-2.06 2.06-.94-2.06-.94-.94-2.06-.94 2.06-2.06.94zm-11 1L8.5 8.5l.94-2.06 2.06-.94-2.06-.94L8.5 2.5l-.94 2.06-2.06.94zm10 10l.94 2.06.94-2.06 2.06-.94-2.06-.94-.94-2.06-.94 2.06-2.06.94z\"/><path d=\"M17.41 7.96l-1.37-1.37c-.4-.4-.92-.59-1.43-.59-.52 0-1.04.2-1.43.59L10.3 9.45l-7.72 7.72c-.78.78-.78 2.05 0 2.83L4 21.41c.39.39.9.59 1.41.59.51 0 1.02-.2 1.41-.59l7.78-7.78 2.81-2.81c.8-.78.8-2.07 0-2.86zM5.41 20L4 18.59l7.72-7.72 1.47 1.35L5.41 20z\"/>\n",
              "  </svg>\n",
              "      </button>\n",
              "\n",
              "\n",
              "\n",
              "    <div id=\"df-dc13b257-53ef-45ef-a75a-cae5f5345821\">\n",
              "      <button class=\"colab-df-quickchart\" onclick=\"quickchart('df-dc13b257-53ef-45ef-a75a-cae5f5345821')\"\n",
              "              title=\"Suggest charts.\"\n",
              "              style=\"display:none;\">\n",
              "\n",
              "<svg xmlns=\"http://www.w3.org/2000/svg\" height=\"24px\"viewBox=\"0 0 24 24\"\n",
              "     width=\"24px\">\n",
              "    <g>\n",
              "        <path d=\"M19 3H5c-1.1 0-2 .9-2 2v14c0 1.1.9 2 2 2h14c1.1 0 2-.9 2-2V5c0-1.1-.9-2-2-2zM9 17H7v-7h2v7zm4 0h-2V7h2v10zm4 0h-2v-4h2v4z\"/>\n",
              "    </g>\n",
              "</svg>\n",
              "      </button>\n",
              "    </div>\n",
              "\n",
              "<style>\n",
              "  .colab-df-quickchart {\n",
              "    background-color: #E8F0FE;\n",
              "    border: none;\n",
              "    border-radius: 50%;\n",
              "    cursor: pointer;\n",
              "    display: none;\n",
              "    fill: #1967D2;\n",
              "    height: 32px;\n",
              "    padding: 0 0 0 0;\n",
              "    width: 32px;\n",
              "  }\n",
              "\n",
              "  .colab-df-quickchart:hover {\n",
              "    background-color: #E2EBFA;\n",
              "    box-shadow: 0px 1px 2px rgba(60, 64, 67, 0.3), 0px 1px 3px 1px rgba(60, 64, 67, 0.15);\n",
              "    fill: #174EA6;\n",
              "  }\n",
              "\n",
              "  [theme=dark] .colab-df-quickchart {\n",
              "    background-color: #3B4455;\n",
              "    fill: #D2E3FC;\n",
              "  }\n",
              "\n",
              "  [theme=dark] .colab-df-quickchart:hover {\n",
              "    background-color: #434B5C;\n",
              "    box-shadow: 0px 1px 3px 1px rgba(0, 0, 0, 0.15);\n",
              "    filter: drop-shadow(0px 1px 2px rgba(0, 0, 0, 0.3));\n",
              "    fill: #FFFFFF;\n",
              "  }\n",
              "</style>\n",
              "\n",
              "    <script>\n",
              "      async function quickchart(key) {\n",
              "        const containerElement = document.querySelector('#' + key);\n",
              "        const charts = await google.colab.kernel.invokeFunction(\n",
              "            'suggestCharts', [key], {});\n",
              "      }\n",
              "    </script>\n",
              "\n",
              "      <script>\n",
              "\n",
              "function displayQuickchartButton(domScope) {\n",
              "  let quickchartButtonEl =\n",
              "    domScope.querySelector('#df-dc13b257-53ef-45ef-a75a-cae5f5345821 button.colab-df-quickchart');\n",
              "  quickchartButtonEl.style.display =\n",
              "    google.colab.kernel.accessAllowed ? 'block' : 'none';\n",
              "}\n",
              "\n",
              "        displayQuickchartButton(document);\n",
              "      </script>\n",
              "      <style>\n",
              "    .colab-df-container {\n",
              "      display:flex;\n",
              "      flex-wrap:wrap;\n",
              "      gap: 12px;\n",
              "    }\n",
              "\n",
              "    .colab-df-convert {\n",
              "      background-color: #E8F0FE;\n",
              "      border: none;\n",
              "      border-radius: 50%;\n",
              "      cursor: pointer;\n",
              "      display: none;\n",
              "      fill: #1967D2;\n",
              "      height: 32px;\n",
              "      padding: 0 0 0 0;\n",
              "      width: 32px;\n",
              "    }\n",
              "\n",
              "    .colab-df-convert:hover {\n",
              "      background-color: #E2EBFA;\n",
              "      box-shadow: 0px 1px 2px rgba(60, 64, 67, 0.3), 0px 1px 3px 1px rgba(60, 64, 67, 0.15);\n",
              "      fill: #174EA6;\n",
              "    }\n",
              "\n",
              "    [theme=dark] .colab-df-convert {\n",
              "      background-color: #3B4455;\n",
              "      fill: #D2E3FC;\n",
              "    }\n",
              "\n",
              "    [theme=dark] .colab-df-convert:hover {\n",
              "      background-color: #434B5C;\n",
              "      box-shadow: 0px 1px 3px 1px rgba(0, 0, 0, 0.15);\n",
              "      filter: drop-shadow(0px 1px 2px rgba(0, 0, 0, 0.3));\n",
              "      fill: #FFFFFF;\n",
              "    }\n",
              "  </style>\n",
              "\n",
              "      <script>\n",
              "        const buttonEl =\n",
              "          document.querySelector('#df-2866d8df-3275-4798-8695-0da928294560 button.colab-df-convert');\n",
              "        buttonEl.style.display =\n",
              "          google.colab.kernel.accessAllowed ? 'block' : 'none';\n",
              "\n",
              "        async function convertToInteractive(key) {\n",
              "          const element = document.querySelector('#df-2866d8df-3275-4798-8695-0da928294560');\n",
              "          const dataTable =\n",
              "            await google.colab.kernel.invokeFunction('convertToInteractive',\n",
              "                                                     [key], {});\n",
              "          if (!dataTable) return;\n",
              "\n",
              "          const docLinkHtml = 'Like what you see? Visit the ' +\n",
              "            '<a target=\"_blank\" href=https://colab.research.google.com/notebooks/data_table.ipynb>data table notebook</a>'\n",
              "            + ' to learn more about interactive tables.';\n",
              "          element.innerHTML = '';\n",
              "          dataTable['output_type'] = 'display_data';\n",
              "          await google.colab.output.renderOutput(dataTable, element);\n",
              "          const docLink = document.createElement('div');\n",
              "          docLink.innerHTML = docLinkHtml;\n",
              "          element.appendChild(docLink);\n",
              "        }\n",
              "      </script>\n",
              "    </div>\n",
              "  </div>\n"
            ]
          },
          "metadata": {},
          "execution_count": 2
        }
      ]
    },
    {
      "cell_type": "code",
      "source": [
        "# 'Date' 열을 날짜 형식으로 변환\n",
        "holiday_df['Date'] = pd.to_datetime(holiday_df['Date'])\n",
        "print(holiday_df.info())"
      ],
      "metadata": {
        "colab": {
          "base_uri": "https://localhost:8080/"
        },
        "id": "zyA74JTyw8AD",
        "outputId": "2215169b-1532-4da6-ee87-809b55b064ec"
      },
      "execution_count": null,
      "outputs": [
        {
          "output_type": "stream",
          "name": "stdout",
          "text": [
            "<class 'pandas.core.frame.DataFrame'>\n",
            "RangeIndex: 132 entries, 0 to 131\n",
            "Data columns (total 1 columns):\n",
            " #   Column  Non-Null Count  Dtype         \n",
            "---  ------  --------------  -----         \n",
            " 0   Date    132 non-null    datetime64[ns]\n",
            "dtypes: datetime64[ns](1)\n",
            "memory usage: 1.2 KB\n",
            "None\n"
          ]
        }
      ]
    },
    {
      "cell_type": "code",
      "source": [
        "# 2015년부터 2023년까지의 날짜 범위 생성\n",
        "date_range = pd.date_range(start='2015-01-01', end='2023-12-31', freq='B')\n",
        "date_range"
      ],
      "metadata": {
        "colab": {
          "base_uri": "https://localhost:8080/"
        },
        "id": "bLXiiKx3xFN0",
        "outputId": "6c53e5ac-34ca-419b-c25a-fb9222f9268a"
      },
      "execution_count": null,
      "outputs": [
        {
          "output_type": "execute_result",
          "data": {
            "text/plain": [
              "DatetimeIndex(['2015-01-01', '2015-01-02', '2015-01-05', '2015-01-06',\n",
              "               '2015-01-07', '2015-01-08', '2015-01-09', '2015-01-12',\n",
              "               '2015-01-13', '2015-01-14',\n",
              "               ...\n",
              "               '2023-12-18', '2023-12-19', '2023-12-20', '2023-12-21',\n",
              "               '2023-12-22', '2023-12-25', '2023-12-26', '2023-12-27',\n",
              "               '2023-12-28', '2023-12-29'],\n",
              "              dtype='datetime64[ns]', length=2347, freq='B')"
            ]
          },
          "metadata": {},
          "execution_count": 4
        }
      ]
    },
    {
      "cell_type": "code",
      "source": [
        "# 주말 제외\n",
        "date_range = date_range[date_range.weekday < 5]\n",
        "\n",
        "# 휴일 제외\n",
        "date_range = date_range[~date_range.isin(holiday_df['Date'])]\n",
        "\n",
        "date_range # 주말과 공휴일을 제외해서 개장일들을 생성"
      ],
      "metadata": {
        "colab": {
          "base_uri": "https://localhost:8080/"
        },
        "id": "230F7REyxFQW",
        "outputId": "a3666b4f-fd37-4e5c-e52c-b2f10113de5b"
      },
      "execution_count": null,
      "outputs": [
        {
          "output_type": "execute_result",
          "data": {
            "text/plain": [
              "DatetimeIndex(['2015-01-02', '2015-01-05', '2015-01-06', '2015-01-07',\n",
              "               '2015-01-08', '2015-01-09', '2015-01-12', '2015-01-13',\n",
              "               '2015-01-14', '2015-01-15',\n",
              "               ...\n",
              "               '2023-12-14', '2023-12-15', '2023-12-18', '2023-12-19',\n",
              "               '2023-12-20', '2023-12-21', '2023-12-22', '2023-12-26',\n",
              "               '2023-12-27', '2023-12-28'],\n",
              "              dtype='datetime64[ns]', length=2215, freq=None)"
            ]
          },
          "metadata": {},
          "execution_count": 5
        }
      ]
    },
    {
      "cell_type": "code",
      "source": [
        "# 날짜로 DataFrame 생성\n",
        "opening_days_df = pd.DataFrame({'Date': date_range})\n",
        "print(opening_days_df.info())\n",
        "opening_days_df.head(5)"
      ],
      "metadata": {
        "colab": {
          "base_uri": "https://localhost:8080/",
          "height": 370
        },
        "id": "-zG3N1bfxNzx",
        "outputId": "84093bcf-1bf1-4c47-9271-458f657e4a1c"
      },
      "execution_count": null,
      "outputs": [
        {
          "output_type": "stream",
          "name": "stdout",
          "text": [
            "<class 'pandas.core.frame.DataFrame'>\n",
            "RangeIndex: 2215 entries, 0 to 2214\n",
            "Data columns (total 1 columns):\n",
            " #   Column  Non-Null Count  Dtype         \n",
            "---  ------  --------------  -----         \n",
            " 0   Date    2215 non-null   datetime64[ns]\n",
            "dtypes: datetime64[ns](1)\n",
            "memory usage: 17.4 KB\n",
            "None\n"
          ]
        },
        {
          "output_type": "execute_result",
          "data": {
            "text/plain": [
              "        Date\n",
              "0 2015-01-02\n",
              "1 2015-01-05\n",
              "2 2015-01-06\n",
              "3 2015-01-07\n",
              "4 2015-01-08"
            ],
            "text/html": [
              "\n",
              "\n",
              "  <div id=\"df-b9164125-d9be-4b4c-bcc8-497744ddb184\">\n",
              "    <div class=\"colab-df-container\">\n",
              "      <div>\n",
              "<style scoped>\n",
              "    .dataframe tbody tr th:only-of-type {\n",
              "        vertical-align: middle;\n",
              "    }\n",
              "\n",
              "    .dataframe tbody tr th {\n",
              "        vertical-align: top;\n",
              "    }\n",
              "\n",
              "    .dataframe thead th {\n",
              "        text-align: right;\n",
              "    }\n",
              "</style>\n",
              "<table border=\"1\" class=\"dataframe\">\n",
              "  <thead>\n",
              "    <tr style=\"text-align: right;\">\n",
              "      <th></th>\n",
              "      <th>Date</th>\n",
              "    </tr>\n",
              "  </thead>\n",
              "  <tbody>\n",
              "    <tr>\n",
              "      <th>0</th>\n",
              "      <td>2015-01-02</td>\n",
              "    </tr>\n",
              "    <tr>\n",
              "      <th>1</th>\n",
              "      <td>2015-01-05</td>\n",
              "    </tr>\n",
              "    <tr>\n",
              "      <th>2</th>\n",
              "      <td>2015-01-06</td>\n",
              "    </tr>\n",
              "    <tr>\n",
              "      <th>3</th>\n",
              "      <td>2015-01-07</td>\n",
              "    </tr>\n",
              "    <tr>\n",
              "      <th>4</th>\n",
              "      <td>2015-01-08</td>\n",
              "    </tr>\n",
              "  </tbody>\n",
              "</table>\n",
              "</div>\n",
              "      <button class=\"colab-df-convert\" onclick=\"convertToInteractive('df-b9164125-d9be-4b4c-bcc8-497744ddb184')\"\n",
              "              title=\"Convert this dataframe to an interactive table.\"\n",
              "              style=\"display:none;\">\n",
              "\n",
              "  <svg xmlns=\"http://www.w3.org/2000/svg\" height=\"24px\"viewBox=\"0 0 24 24\"\n",
              "       width=\"24px\">\n",
              "    <path d=\"M0 0h24v24H0V0z\" fill=\"none\"/>\n",
              "    <path d=\"M18.56 5.44l.94 2.06.94-2.06 2.06-.94-2.06-.94-.94-2.06-.94 2.06-2.06.94zm-11 1L8.5 8.5l.94-2.06 2.06-.94-2.06-.94L8.5 2.5l-.94 2.06-2.06.94zm10 10l.94 2.06.94-2.06 2.06-.94-2.06-.94-.94-2.06-.94 2.06-2.06.94z\"/><path d=\"M17.41 7.96l-1.37-1.37c-.4-.4-.92-.59-1.43-.59-.52 0-1.04.2-1.43.59L10.3 9.45l-7.72 7.72c-.78.78-.78 2.05 0 2.83L4 21.41c.39.39.9.59 1.41.59.51 0 1.02-.2 1.41-.59l7.78-7.78 2.81-2.81c.8-.78.8-2.07 0-2.86zM5.41 20L4 18.59l7.72-7.72 1.47 1.35L5.41 20z\"/>\n",
              "  </svg>\n",
              "      </button>\n",
              "\n",
              "\n",
              "\n",
              "    <div id=\"df-ffd674db-0b8c-4901-b5bb-6f61b9312edc\">\n",
              "      <button class=\"colab-df-quickchart\" onclick=\"quickchart('df-ffd674db-0b8c-4901-b5bb-6f61b9312edc')\"\n",
              "              title=\"Suggest charts.\"\n",
              "              style=\"display:none;\">\n",
              "\n",
              "<svg xmlns=\"http://www.w3.org/2000/svg\" height=\"24px\"viewBox=\"0 0 24 24\"\n",
              "     width=\"24px\">\n",
              "    <g>\n",
              "        <path d=\"M19 3H5c-1.1 0-2 .9-2 2v14c0 1.1.9 2 2 2h14c1.1 0 2-.9 2-2V5c0-1.1-.9-2-2-2zM9 17H7v-7h2v7zm4 0h-2V7h2v10zm4 0h-2v-4h2v4z\"/>\n",
              "    </g>\n",
              "</svg>\n",
              "      </button>\n",
              "    </div>\n",
              "\n",
              "<style>\n",
              "  .colab-df-quickchart {\n",
              "    background-color: #E8F0FE;\n",
              "    border: none;\n",
              "    border-radius: 50%;\n",
              "    cursor: pointer;\n",
              "    display: none;\n",
              "    fill: #1967D2;\n",
              "    height: 32px;\n",
              "    padding: 0 0 0 0;\n",
              "    width: 32px;\n",
              "  }\n",
              "\n",
              "  .colab-df-quickchart:hover {\n",
              "    background-color: #E2EBFA;\n",
              "    box-shadow: 0px 1px 2px rgba(60, 64, 67, 0.3), 0px 1px 3px 1px rgba(60, 64, 67, 0.15);\n",
              "    fill: #174EA6;\n",
              "  }\n",
              "\n",
              "  [theme=dark] .colab-df-quickchart {\n",
              "    background-color: #3B4455;\n",
              "    fill: #D2E3FC;\n",
              "  }\n",
              "\n",
              "  [theme=dark] .colab-df-quickchart:hover {\n",
              "    background-color: #434B5C;\n",
              "    box-shadow: 0px 1px 3px 1px rgba(0, 0, 0, 0.15);\n",
              "    filter: drop-shadow(0px 1px 2px rgba(0, 0, 0, 0.3));\n",
              "    fill: #FFFFFF;\n",
              "  }\n",
              "</style>\n",
              "\n",
              "    <script>\n",
              "      async function quickchart(key) {\n",
              "        const containerElement = document.querySelector('#' + key);\n",
              "        const charts = await google.colab.kernel.invokeFunction(\n",
              "            'suggestCharts', [key], {});\n",
              "      }\n",
              "    </script>\n",
              "\n",
              "      <script>\n",
              "\n",
              "function displayQuickchartButton(domScope) {\n",
              "  let quickchartButtonEl =\n",
              "    domScope.querySelector('#df-ffd674db-0b8c-4901-b5bb-6f61b9312edc button.colab-df-quickchart');\n",
              "  quickchartButtonEl.style.display =\n",
              "    google.colab.kernel.accessAllowed ? 'block' : 'none';\n",
              "}\n",
              "\n",
              "        displayQuickchartButton(document);\n",
              "      </script>\n",
              "      <style>\n",
              "    .colab-df-container {\n",
              "      display:flex;\n",
              "      flex-wrap:wrap;\n",
              "      gap: 12px;\n",
              "    }\n",
              "\n",
              "    .colab-df-convert {\n",
              "      background-color: #E8F0FE;\n",
              "      border: none;\n",
              "      border-radius: 50%;\n",
              "      cursor: pointer;\n",
              "      display: none;\n",
              "      fill: #1967D2;\n",
              "      height: 32px;\n",
              "      padding: 0 0 0 0;\n",
              "      width: 32px;\n",
              "    }\n",
              "\n",
              "    .colab-df-convert:hover {\n",
              "      background-color: #E2EBFA;\n",
              "      box-shadow: 0px 1px 2px rgba(60, 64, 67, 0.3), 0px 1px 3px 1px rgba(60, 64, 67, 0.15);\n",
              "      fill: #174EA6;\n",
              "    }\n",
              "\n",
              "    [theme=dark] .colab-df-convert {\n",
              "      background-color: #3B4455;\n",
              "      fill: #D2E3FC;\n",
              "    }\n",
              "\n",
              "    [theme=dark] .colab-df-convert:hover {\n",
              "      background-color: #434B5C;\n",
              "      box-shadow: 0px 1px 3px 1px rgba(0, 0, 0, 0.15);\n",
              "      filter: drop-shadow(0px 1px 2px rgba(0, 0, 0, 0.3));\n",
              "      fill: #FFFFFF;\n",
              "    }\n",
              "  </style>\n",
              "\n",
              "      <script>\n",
              "        const buttonEl =\n",
              "          document.querySelector('#df-b9164125-d9be-4b4c-bcc8-497744ddb184 button.colab-df-convert');\n",
              "        buttonEl.style.display =\n",
              "          google.colab.kernel.accessAllowed ? 'block' : 'none';\n",
              "\n",
              "        async function convertToInteractive(key) {\n",
              "          const element = document.querySelector('#df-b9164125-d9be-4b4c-bcc8-497744ddb184');\n",
              "          const dataTable =\n",
              "            await google.colab.kernel.invokeFunction('convertToInteractive',\n",
              "                                                     [key], {});\n",
              "          if (!dataTable) return;\n",
              "\n",
              "          const docLinkHtml = 'Like what you see? Visit the ' +\n",
              "            '<a target=\"_blank\" href=https://colab.research.google.com/notebooks/data_table.ipynb>data table notebook</a>'\n",
              "            + ' to learn more about interactive tables.';\n",
              "          element.innerHTML = '';\n",
              "          dataTable['output_type'] = 'display_data';\n",
              "          await google.colab.output.renderOutput(dataTable, element);\n",
              "          const docLink = document.createElement('div');\n",
              "          docLink.innerHTML = docLinkHtml;\n",
              "          element.appendChild(docLink);\n",
              "        }\n",
              "      </script>\n",
              "    </div>\n",
              "  </div>\n"
            ]
          },
          "metadata": {},
          "execution_count": 6
        }
      ]
    },
    {
      "cell_type": "code",
      "source": [
        "# DataFrame을 CSV 파일로 저장\n",
        "opening_days_df.to_csv('/content/drive/MyDrive/snowball/data/ETC/openDate.csv', index=False)"
      ],
      "metadata": {
        "id": "A-Xt9R0AxR6r"
      },
      "execution_count": null,
      "outputs": []
    },
    {
      "cell_type": "markdown",
      "source": [
        "### 1-4-1. '매달 첫번째 개장일 조회' 함수 생성 (by 태현)"
      ],
      "metadata": {
        "id": "htvSu0m2wJ4V"
      }
    },
    {
      "cell_type": "markdown",
      "source": [
        "1. 시작일자, 끝일자, 월초/월말(택1) 3개의 인자를 input으로 입력하면, '시작일자' 와 '끝일자' 사이에 있는 매달 월초/월말 일자를 list 타입으로 return 해주는 함수\n",
        "2. 이를 통해서 ETF의 (상장일자, 현재날짜, 0)을 입력하면 그 기간동안 매월 첫번째 날 ETF의 PDF의 정보를 얻을 수 있음"
      ],
      "metadata": {
        "id": "AftduyPE0Xwu"
      }
    },
    {
      "cell_type": "code",
      "source": [
        "from dateutil.parser import *\n",
        "from dateutil.relativedelta import *\n",
        "from dateutil.rrule import *\n",
        "import warnings\n",
        "import time\n",
        "import pandas as pd\n",
        "from datetime import datetime\n",
        "from datetime import timedelta\n",
        "warnings.simplefilter(action='ignore', category=FutureWarning)  # FutureWaring 제거\n",
        "\n",
        "opendf = pd.read_csv('/content/drive/MyDrive/snowball/data/ETC/openDate.csv')   # 2002-09-13~2023-03-31까지의 개장일 csv파일 읽기\n",
        "opendf['Opendate'] = pd.to_datetime(opendf['Date'], format='%Y-%m-%d', errors='raise')  # 원소를 datetime타입으로 변경\n",
        "datetimeList = []\n",
        "for date in opendf['Opendate']:\n",
        "   date = pd.Timestamp(date).strftime('%Y-%m-%d')\n",
        "   datetimeList.append(datetime.strptime(date, '%Y-%m-%d'))\n",
        "\n",
        "def getPayInDateInfo(start_date, end_date, month_type):  # month_type으로 월초/월말 선택 (월초: 0, 월말: 1)\n",
        "\n",
        "    rtList = []\n",
        "\n",
        "    if month_type == '0':\n",
        "        a = list(rrule(MONTHLY,\n",
        "                       byweekday=(MO, TU, WE, TH, FR),\n",
        "                       bysetpos=1,\n",
        "                       dtstart=parse(start_date),\n",
        "                       until=parse(end_date)))  # 지정된 기간의 매월 첫 평일\n",
        "\n",
        "        for day in a:\n",
        "            while 1: # 개장일 까지\n",
        "                if day not in datetimeList:  # 개장일이 아니면\n",
        "                    day = day + timedelta(days=1) # 하루 +\n",
        "                else: # 개장일인 경우 빠져나감\n",
        "                    break\n",
        "            rtList.append(day.strftime('%Y-%m-%d'))  # yyyy-mm-dd 형식 변환\n",
        "\n",
        "    elif month_type == '1':\n",
        "        a = list(rrule(MONTHLY,\n",
        "                       byweekday=(MO, TU, WE, TH, FR),\n",
        "                       bysetpos=-1,\n",
        "                       dtstart=parse(start_date),\n",
        "                       until=parse(end_date)))  # 지정된 기간의 매월 마지막 평일\n",
        "\n",
        "        for day in a:\n",
        "            while 1:  # 개장일 까지\n",
        "                if day not in datetimeList:  # 개장일이 아니면\n",
        "                    day = day + timedelta(days=-1)  # 하루 +\n",
        "                else:  # 개장일인 경우 빠져나감\n",
        "                    break\n",
        "            rtList.append(day.strftime('%Y-%m-%d'))  # yyyy-mm-dd 형식 변환\n",
        "\n",
        "    return rtList  # 납입 예정일 리스트 출력"
      ],
      "metadata": {
        "id": "LkAihFV8OxeE"
      },
      "execution_count": null,
      "outputs": []
    },
    {
      "cell_type": "markdown",
      "source": [
        "### 1-4-2. 해당 일의 PDF 파일 다운(by 환룡)"
      ],
      "metadata": {
        "id": "IDfsFdxzwW2R"
      }
    },
    {
      "cell_type": "markdown",
      "source": [
        "1. 'http://data.krx.co.kr/contents/MDC/MDI/mdiLoader/index.cmd?menuId=MDC0201030108 사이트 접속 -> 종목명, 조회일자 설정 -> '조회'버튼 클릭 -> '다운로드' 버튼을 클릭하여 csv 파일로 다운' 과정으로 PDF 파일들을 다운로드 함\n",
        "2. ETF들의 PDF 파일들을 다운로드 받으려면 매우 많은 파일들을 다운로드 해야함\n",
        "3. 일일히 다운로드를 하기는 어려움으로 크롤링 기법을 사용\n",
        "4. 동적 웹사이트를 크롤링함으로 selenium 라이브러리 활용\n",
        "5. 기존에는 사이트를 조회한 후, 사이트의 정보를 스크랩해서 정보를 가져오려 했으나, 스크랩 할 경우 PDF의 모든 데이터를 가져올 수 없어서 PDF파일을 직접 다운로드 하는 식으로 파일을 다운로드\n",
        "6. 매우 많은 파일들을 조회해서 다운로드 해야 함으로 멀티쓰레딩을 활용해서 크롤링 코드를 작성\n",
        "7. 파일을 다운로드할 때, 저장되는 파일명이 '랜덤의 파일명'으로 저장이 되서 다운로드한 파일이 어떤 PDF 파일인지 식별이 불가능한 문제 발생 -> Lock()을 활용해서 다운로드한 파일 순서대로 파일명(PDF 파일 식별 가능한 파일명)을 수정하는 기능을 추가\n",
        "8. 'ad.csv' 파일은 '전종목기본정보.csv' 파일에서 '종목코드'와 '상장일자' 만을 추출한 파일\n",
        "9. 크롤링한 PDF 파일들은 'data > PDF_files' 폴더에 저장\n",
        "\n",
        "10. 해당 코드는 로컬 pc 에서 'vscode' ~~~ 에서 실행을 한 코드, 사용한 'chromedriver.exe' 파일은 'ETC' 폴더에 위치\n"
      ],
      "metadata": {
        "id": "_MkX2d6HRQaY"
      }
    },
    {
      "cell_type": "code",
      "source": [
        "from selenium import webdriver\n",
        "from selenium.webdriver.common.keys import Keys\n",
        "# [2022.06.30] find_element_by_() 함수는 find_element(By., ) 과 같은 형태로 함수가 변경됨에 따른 추가 코드\n",
        "from selenium.webdriver.common.by import By\n",
        "from selenium.webdriver.chrome.service import Service\n",
        "from webdriver_manager.chrome import ChromeDriverManager\n",
        "import time\n",
        "import os\n",
        "import shutil\n",
        "import pandas as pd\n",
        "from datetime import datetime\n",
        "from concurrent.futures import ThreadPoolExecutor\n",
        "import csv\n",
        "import threading\n",
        "import random\n",
        "\n",
        "\n",
        "\n",
        "# 여기에 PDF 파일을 저장할 폴더의 경로' 수정!!!\n",
        "Initial_path=\"/content/drive/MyDrive/snowball/data/PDF_files\"\n",
        "\n",
        "# 크롬 드라이버가 설치된 파일경로 설정\n",
        "chromedriver = '/content/drive/MyDrive/snowball/data/ETC/chromedriver.exe' # 윈도우\n",
        "\n",
        "# 파일 다운로드 위치 설정을 위한 코드\n",
        "chromeOptions = webdriver.ChromeOptions() # 크롬 드라이버 옵션 설정\n",
        "prefs = {\"download.default_directory\" : Initial_path} # 파일다운로드 경로 설정\n",
        "chromeOptions.add_experimental_option(\"prefs\",prefs) # 옵션 정의\n",
        "\n",
        "# 크롤링하는 기능을 함수로 선언\n",
        "def crawling_selenium(product_code,product_date):\n",
        "    driver_chrome = webdriver.Chrome(service=Service(chromedriver), options=chromeOptions)  # 설정 반영\n",
        "    driver_chrome.get(\"http://data.krx.co.kr/contents/MDC/MDI/mdiLoader/index.cmd?menuId=MDC0201030108\") # 웹사이트 접속\n",
        "\n",
        "    # 랜덤으로 sleep\n",
        "    rand = random.randrange(3, 6)\n",
        "    time.sleep(rand)\n",
        "\n",
        "\n",
        "    # 금융상품명 검색 버튼 클릭\n",
        "    search_btn = driver_chrome.find_element(By.ID, 'btnisuCd_finder_secuprodisu1_0') # 검색 태그 선택\n",
        "    search_btn.click() # 태그 클릭\n",
        "    # 랜덤으로 sleep\n",
        "    rand = random.randrange(3, 6)\n",
        "    time.sleep(rand)\n",
        "\n",
        "    # 금융상품코드를 통해서 금융상품 선택\n",
        "    search_bar = driver_chrome.find_element(By.CSS_SELECTOR,'#searchText__finder_secuprodisu1_0') # 검색 창 선택\n",
        "    search_bar.clear()\n",
        "    search_bar.send_keys(product_code)\n",
        "    search_bar.send_keys(Keys.RETURN)\n",
        "    # 랜덤으로 sleep\n",
        "    rand = random.randrange(3, 6)\n",
        "    time.sleep(rand)\n",
        "\n",
        "\n",
        "    # 조회날짜 선택\n",
        "    elem = driver_chrome.find_element(By.ID, 'trdDd') # 검색 태그 선택\n",
        "    for _ in range(8):\n",
        "        elem.send_keys(Keys.BACK_SPACE) # clear() 를 입력하면 조회일자가 이상하게 초기화되기에 backspace로 지우는 과정 추가!\n",
        "    elem.send_keys(product_date)\n",
        "    elem.send_keys(Keys.RETURN)\n",
        "    # 랜덤으로 sleep\n",
        "    rand = random.randrange(3, 6)\n",
        "    time.sleep(rand)\n",
        "\n",
        "\n",
        "    # 조회 버튼 클릭\n",
        "    search_btn = driver_chrome.find_element(By.ID, 'jsSearchButton') # 검색 태그 선택\n",
        "    search_btn.click() # 태그 클릭\n",
        "    # 랜덤으로 sleep\n",
        "    rand = random.randrange(3, 6)\n",
        "    time.sleep(rand)\n",
        "\n",
        "\n",
        "    # 조회 버튼 클릭\n",
        "    search_btn = driver_chrome.find_element(By.ID, 'jsSearchButton') # 검색 태그 선택\n",
        "    search_btn.click() # 태그 클릭\n",
        "    # 랜덤으로 sleep\n",
        "    rand = random.randrange(3, 6)\n",
        "    time.sleep(rand)\n",
        "\n",
        "    # 다운로드 버튼 클릭\n",
        "    search_btn = driver_chrome.find_element(By.CLASS_NAME, 'CI-MDI-UNIT-DOWNLOAD') # 검색 태그 선택\n",
        "    search_btn.click() # 태그 클릭\n",
        "    # 랜덤으로 sleep\n",
        "    rand = random.randrange(3, 6)\n",
        "    time.sleep(rand)\n",
        "\n",
        "\n",
        "    product_date = ''.join(product_date.split('-')) # 저장할 '파일명'을 만들기 위해서 변수 선언\n",
        "\n",
        "    # csv 파일 다운로드 클릭 - Lock()기능 구현\n",
        "    _lock.acquire() # 락 키 얻음 - 동기화 이슈로 인해서 lock 필요\n",
        "    search_btn = driver_chrome.find_elements(By.CLASS_NAME, 'ico_filedown') # 검색 태그 선택\n",
        "    search_btn[1].click() # 태그 클릭\n",
        "    time.sleep(2)\n",
        "    # 파일명 수정\n",
        "    filename = max([Initial_path + \"\\\\\" + f for f in os.listdir(Initial_path)],key=os.path.getctime)\n",
        "    shutil.move(filename,os.path.join(Initial_path,str(product_code)+\"_\"+product_date+\".csv\"))\n",
        "    time.sleep(1)\n",
        "    # 드라이버 종료\n",
        "    driver_chrome.quit()\n",
        "\n",
        "    _lock.release() # 락 키 반환 - 동기화 이슈로 인해서 lock 필요\n",
        "\n",
        "\n",
        "\n",
        "\n",
        "\n",
        "\n",
        "if __name__ == '__main__':\n",
        "\n",
        "    # ad.csv 파일이 있는 경로로 수정 필요!\n",
        "    df = pd.read_csv(\"/content/drive/MyDrive/snowball/data/ETC/ad.csv\")\n",
        "    code_list = list(df['code'])\n",
        "    date_list = list(df['date'])\n",
        "    payinDate_dict_bm = dict()\n",
        "    # print('after ad.csv')\n",
        "    for i in range(len(code_list)):\n",
        "        payinDate_dict_bm[code_list[i]] = getPayInDateInfo(date_list[i],\n",
        "                                                                       datetime.today().strftime('%Y-%m-%d'), '0')\n",
        "    product_code_list = []\n",
        "    product_date_list = []\n",
        "    for stock_code in payinDate_dict_bm.keys():\n",
        "        for search_date in payinDate_dict_bm[stock_code]:\n",
        "            product_code_list.append(stock_code)\n",
        "            product_date_list.append(search_date)\n",
        "\n",
        "\n",
        "    _lock = threading.Lock() # lock을 사용하기 위해서 선언\n",
        "    # max_workers의 개수는 컴퓨터 사양에 맞게 수정\n",
        "    # max_workers의 개수가 많을 수록 동시에 띄우는 창이 많아짐!\n",
        "    with ThreadPoolExecutor(max_workers=5) as executor: # 멀티스레드 실행\n",
        "        # produt_code_list[] 와 product_date_list[] 슬라이싱들은 범위를 같게해서 해야함\n",
        "        executor.map(crawling_selenium, product_code_list, product_date_list)\n"
      ],
      "metadata": {
        "id": "l00wog7RUtLc"
      },
      "execution_count": null,
      "outputs": []
    },
    {
      "cell_type": "markdown",
      "source": [
        "## 1-5. ETF 가격 데이터 수집(크롤링) - 수정 필요"
      ],
      "metadata": {
        "id": "jPyPzZZJF89G"
      }
    },
    {
      "cell_type": "markdown",
      "source": [
        "- '기간 내 모든 일자(개장 일자들) 조회' -> '모든 일자에 대응하는 모든 ETF 들의 가격'을 추출하는 순서로 진행"
      ],
      "metadata": {
        "id": "kCmmeOFNGMk7"
      }
    },
    {
      "cell_type": "markdown",
      "source": [
        "#### 1-5-1. '기간 내 모든 일자 조회' 함수 생성(by 태현)"
      ],
      "metadata": {
        "id": "wDTq-w99G7n6"
      }
    },
    {
      "cell_type": "markdown",
      "source": [
        "- pd.Timestamp와 'openDate.csv' 파일을 참조해서 기간내 모든 일자들을 추출"
      ],
      "metadata": {
        "id": "SwGC4OUWH-lz"
      }
    },
    {
      "cell_type": "code",
      "source": [
        "from dateutil.parser import *\n",
        "from dateutil.relativedelta import *\n",
        "from dateutil.rrule import *\n",
        "import warnings\n",
        "import time\n",
        "import pandas as pd\n",
        "from datetime import datetime\n",
        "from datetime import timedelta\n",
        "warnings.simplefilter(action='ignore', category=FutureWarning)  # FutureWaring 제거\n",
        "\n",
        "opendf = pd.read_csv('/content/drive/MyDrive/snowball/data/ETC/openDate.csv')   # 2002-09-13~2023-03-31까지의 개장일 csv파일 읽기\n",
        "opendf['Opendate'] = pd.to_datetime(opendf['Date'], format='%Y-%m-%d', errors='raise')  # 원소를 datetime타입으로 변경\n",
        "datetimeList = []\n",
        "for date in opendf['Opendate']:\n",
        "   date = pd.Timestamp(date).strftime('%Y-%m-%d')\n",
        "   datetimeList.append(datetime.strptime(date, '%Y-%m-%d'))\n",
        "\n",
        "\n",
        "def getDailyDateInfo(start_date, end_date):\n",
        "    rtList = []\n",
        "\n",
        "    for day in opendf['Opendate'][start_date:end_date]:\n",
        "        rtList.append(pd.Timestamp(day).strftime('%Y-%m-%d'))\n",
        "\n",
        "    return rtList\n"
      ],
      "metadata": {
        "id": "XLuekiKPGpbn"
      },
      "execution_count": null,
      "outputs": []
    },
    {
      "cell_type": "markdown",
      "source": [
        "#### 1-5-2. '모든 일자에 대응하는 모든 ETF 들의 가격' 추출"
      ],
      "metadata": {
        "id": "WiCPDG3yG7E4"
      }
    },
    {
      "cell_type": "markdown",
      "source": [
        "1. '1-4-2 해당 일의 PDF 파일 다운' 코드를 대부분 참조(사이트와 클릭 태그만 일부분 수정)\n",
        "2. 'http://data.krx.co.kr/contents/MDC/MDI/mdiLoader/index.cmd?menuId=MDC0201030101' 홈페이지가 동적 홈페이지 임으로,  셀레니움을 통해 ETF들의 종가를 추출\n",
        "3. 크폴링한 파일들은 'data > ETF_closing_price' 폴더에 저장"
      ],
      "metadata": {
        "id": "dOII4h3kIfWz"
      }
    },
    {
      "cell_type": "code",
      "source": [
        "from selenium import webdriver\n",
        "from selenium.webdriver.common.keys import Keys\n",
        "# [2022.06.30] find_element_by_() 함수는 find_element(By., ) 과 같은 형태로 함수가 변경됨에 따른 추가 코드\n",
        "from selenium.webdriver.common.by import By\n",
        "from selenium.webdriver.chrome.service import Service\n",
        "from webdriver_manager.chrome import ChromeDriverManager\n",
        "import time\n",
        "import os\n",
        "import shutil\n",
        "import pandas as pd\n",
        "from datetime import datetime\n",
        "from concurrent.futures import ThreadPoolExecutor\n",
        "import csv\n",
        "import threading\n",
        "import random\n",
        "\n",
        "# 필독!!!!!!!!!!!\n",
        "# 여기에 '파일을 저장할 폴더의 경로' 수정!!!\n",
        "Initial_path = \"/content/drive/MyDrive/snowball/data/ETF_closing_price\"\n",
        "\n",
        "# # 필독!!!!!!!!!!!\n",
        "# # 크롬 드라이버가 설치된 파일경로 설정\n",
        "chromedriver ='/content/drive/MyDrive/snowball/data/ETC/chromedriver.exe'  # 윈도우\n",
        "\n",
        "# 파일 다운로드 위치 설정을 위한 코드\n",
        "chromeOptions = webdriver.ChromeOptions()  # 크롬 드라이버 옵션 설정\n",
        "prefs = {\"download.default_directory\": Initial_path}  # 파일다운로드 경로 설정\n",
        "chromeOptions.add_experimental_option(\"prefs\", prefs)  # 옵션 정의\n",
        "\n",
        "def crawling_selenium(product_date):\n",
        "    driver_chrome = webdriver.Chrome(service=Service(chromedriver), options=chromeOptions)  # 설정 반영\n",
        "    driver_chrome.get(\"http://data.krx.co.kr/contents/MDC/MDI/mdiLoader/index.cmd?menuId=MDC0201030101\")\n",
        "\n",
        "    # 랜덤으로 sleep\n",
        "    rand = random.randrange(3, 6)\n",
        "    time.sleep(rand)\n",
        "\n",
        "    # 조회날짜 선택\n",
        "    elem = driver_chrome.find_element(By.ID, 'trdDd')  # 검색 태그 선택\n",
        "    for _ in range(8):\n",
        "        elem.send_keys(Keys.BACK_SPACE)  # clear() 를 입력하면 조회일자가 이상하게 초기화되기에 backspace로 지우는 과정 추가!\n",
        "    elem.send_keys(product_date)\n",
        "    elem.send_keys(Keys.RETURN)\n",
        "    # 랜덤으로 sleep\n",
        "    rand = random.randrange(3, 6)\n",
        "    time.sleep(rand)\n",
        "\n",
        "    # 조회 버튼 클릭\n",
        "    search_btn = driver_chrome.find_element(By.ID, 'jsSearchButton')  # 검색 태그 선택\n",
        "    search_btn.click()  # 태그 클릭\n",
        "    # 랜덤으로 sleep\n",
        "    rand = random.randrange(3, 6)\n",
        "    time.sleep(rand)\n",
        "\n",
        "    # 조회 버튼 클릭\n",
        "    search_btn = driver_chrome.find_element(By.ID, 'jsSearchButton')  # 검색 태그 선택\n",
        "    search_btn.click()  # 태그 클릭\n",
        "    # 랜덤으로 sleep\n",
        "    rand = random.randrange(3, 6)\n",
        "    time.sleep(rand)\n",
        "\n",
        "    # 다운로드 버튼 클릭\n",
        "    search_btn = driver_chrome.find_element(By.CLASS_NAME, 'CI-MDI-UNIT-DOWNLOAD')  # 검색 태그 선택\n",
        "    search_btn.click()  # 태그 클릭\n",
        "    # 랜덤으로 sleep\n",
        "    rand = random.randrange(3, 6)\n",
        "    time.sleep(rand)\n",
        "\n",
        "    product_date = ''.join(product_date.split('-'))\n",
        "\n",
        "    # csv 파일 다운로드 클릭\n",
        "    _lock.acquire()  # 락 키 얻음 - 동기화 이슈로 인해서 lock 필요\n",
        "    search_btn = driver_chrome.find_elements(By.CLASS_NAME, 'ico_filedown')  # 검색 태그 선택\n",
        "    search_btn[1].click()  # 태그 클릭\n",
        "    time.sleep(2)\n",
        "    # 파일명 수정\n",
        "    filename = max([Initial_path + \"\\\\\" + f for f in os.listdir(Initial_path)], key=os.path.getctime)\n",
        "    shutil.move(filename, os.path.join(Initial_path, \"ETF_\" + product_date + \".csv\"))\n",
        "    time.sleep(1)\n",
        "    # 드라이버 종료\n",
        "    driver_chrome.quit()\n",
        "\n",
        "    _lock.release()  # 락 키 반환 - 동기화 이슈로 인해서 lock 필요\n",
        "\n",
        "\n",
        "if __name__ == '__main__':\n",
        "    date_list = getDailyDateInfo('2015-01-01', datetime.today().strftime('%Y-%m-%d')) # ETF 종가 파일 다운받을 날짜 리스트 생성\n",
        "    print('after create date list')\n",
        "\n",
        "    _lock = threading.Lock()\n",
        "\n",
        "    # 필독!!!!\n",
        "    # max_workers의 개수는 컴퓨터 사양에 맞게 수정하면 됨!! 10개정도로 하면 될듯?\n",
        "    # max_workers의 개수가 많을 수록 동시에 띄우는 창이 많아짐!\n",
        "    with ThreadPoolExecutor(max_workers=1) as executor:\n",
        "        executor.map(crawling_selenium, date_list)\n"
      ],
      "metadata": {
        "id": "I0CSWg4VE8Fs"
      },
      "execution_count": null,
      "outputs": []
    },
    {
      "cell_type": "markdown",
      "source": [
        "## 1-6. 주식 가격 데이터 수집(크롤링)"
      ],
      "metadata": {
        "id": "4ekic9SrF9AG"
      }
    },
    {
      "cell_type": "markdown",
      "source": [
        "1. '1-5.ETF 가격 데이터 수집(크롤링)'와 거의 동일\n",
        "2. 코드가 거의 동일하기에 추가적으로 코드는 첨부X\n",
        "3. 'http://data.krx.co.kr/contents/MDC/MDI/mdiLoader/index.cmd?menuId=MDC0201020101' 홈페이지에서 '시장구분 - 전체' 주식의 모든 시세 정보를 크롤링\n",
        "4. 크롤링한 파일들은 'data > Stock_closing_price' 폴더에 저장"
      ],
      "metadata": {
        "id": "xGWxQIAUF9Uc"
      }
    },
    {
      "cell_type": "markdown",
      "source": [
        "# 2. 데이터 설명 리포트"
      ],
      "metadata": {
        "id": "_XmXN6WhEnyt"
      }
    },
    {
      "cell_type": "markdown",
      "source": [
        "## 2-1. 제무제표 데이터 설명"
      ],
      "metadata": {
        "id": "MRuoH2lGIG_c"
      }
    },
    {
      "cell_type": "markdown",
      "source": [
        "### 2-1-1. 재무제표 원본 데이터 설명"
      ],
      "metadata": {
        "id": "THtWzp-AIHCc"
      }
    },
    {
      "cell_type": "markdown",
      "source": [
        "### 2-1-2. 재무제표 데이터 데이터프레임화"
      ],
      "metadata": {
        "id": "LdvWKgCyIHFW"
      }
    },
    {
      "cell_type": "markdown",
      "source": [
        "## 2-2. ETF 기본정보 데이터 설명"
      ],
      "metadata": {
        "id": "EQcGQnzGImz9"
      }
    },
    {
      "cell_type": "markdown",
      "source": [
        "## 2-3. PDF 데이터 설명"
      ],
      "metadata": {
        "id": "nEkR3LxZIm24"
      }
    },
    {
      "cell_type": "markdown",
      "source": [
        "## 2-4. ETF 가격 데이터 설명"
      ],
      "metadata": {
        "id": "FWCA73m-Im5y"
      }
    },
    {
      "cell_type": "markdown",
      "source": [
        "# 3.  데이터 탐색 보고서"
      ],
      "metadata": {
        "id": "yC-66M9qFbmJ"
      }
    },
    {
      "cell_type": "markdown",
      "source": [
        "# 4. 데이터 품질 보고서"
      ],
      "metadata": {
        "id": "ilBI9SAKFcL8"
      }
    }
  ]
}