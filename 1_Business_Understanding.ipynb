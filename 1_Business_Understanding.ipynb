{
  "nbformat": 4,
  "nbformat_minor": 0,
  "metadata": {
    "colab": {
      "provenance": [],
      "authorship_tag": "ABX9TyNPDlLm4JZjzruGlP+FsB8U",
      "include_colab_link": true
    },
    "kernelspec": {
      "name": "python3",
      "display_name": "Python 3"
    },
    "language_info": {
      "name": "python"
    }
  },
  "cells": [
    {
      "cell_type": "markdown",
      "metadata": {
        "id": "view-in-github",
        "colab_type": "text"
      },
      "source": [
        "<a href=\"https://colab.research.google.com/github/Ryong1998/snowball/blob/main/1_Business_Understanding.ipynb\" target=\"_parent\"><img src=\"https://colab.research.google.com/assets/colab-badge.svg\" alt=\"Open In Colab\"/></a>"
      ]
    },
    {
      "cell_type": "markdown",
      "source": [
        "# 0. 문서 작성 이유"
      ],
      "metadata": {
        "id": "r-AJygPkmaBT"
      }
    },
    {
      "cell_type": "markdown",
      "source": [
        "- 개인프로젝트를 진행하면서, 설계를 하고 그에 따라 프로젝트를 진행하는 것이 효율적으로 프로젝트가 진행됨을 느낌\n",
        "- 이전부터 진행중인 연금상품 분석 관련 프로젝트를 CRISP-DM 방법론에 의거하여 수정한 후 프로젝트를 계속해서 진행할 예정"
      ],
      "metadata": {
        "id": "FIbdDWs6meyZ"
      }
    },
    {
      "cell_type": "markdown",
      "source": [
        "# 1. 비즈니스 목표 설정"
      ],
      "metadata": {
        "id": "NNXftt4cme4K"
      }
    },
    {
      "cell_type": "markdown",
      "source": [
        "## 1-1. 주요 목표\n",
        "- 이 프로젝트는 'IRP'와 '개인연금'등 '연금계좌'에서 운영할 수 있는 연금상품들을 분석해서 사용자가 금융상품을 선택함에 있어 도움이 될수 있는 기준치들를 제공하고, 더 나아가 사용자에 맞는 금융상품을 추천하는 것을 목표로 함"
      ],
      "metadata": {
        "id": "7cSIssLdme7F"
      }
    },
    {
      "cell_type": "markdown",
      "source": [
        "## 1-2. 비즈니스 질문"
      ],
      "metadata": {
        "id": "EEpgaWQmme9-"
      }
    },
    {
      "cell_type": "markdown",
      "source": [
        "- 어떤 '금융상품의 평가기준' 들이 '포트폴리오의 수익률'에 영향을 미칠까?\n",
        "- 연금제도를 활용했을 때와 활용하지 않았을 때의 수익률은 얼머나 차이가 날까?\n",
        "- '연금상품 평가기준'외에 IRP와 개인연금을 운용하는 방식(납입 방법, 리밸런싱 주기, 투자 기간 등)도 수익률에 영향을 줄까?\n",
        "- '연금상품의 개수' 가 수익률에 영항을 줄까?"
      ],
      "metadata": {
        "id": "NDGNo2FP9NYa"
      }
    },
    {
      "cell_type": "markdown",
      "source": [
        "# 2. 인벤토리 자원 목록"
      ],
      "metadata": {
        "id": "QKJJHG8s-Z0I"
      }
    },
    {
      "cell_type": "markdown",
      "source": [
        "인력\n",
        "- 데이터 분석 준비 학생1, 풀스택 준비 학생1, AI 준비 학생 1\n",
        "\n",
        "데이터\n",
        "- mongodb를 활용해 데이터 저장\n",
        "\n",
        "컴퓨팅 리소스\n",
        "- 로컬 pc\n",
        "  - 장치 이름\tDESKTOP-1TN7JCQ\n",
        "  - 프로세서\t11th Gen Intel(R) Core(TM) i7-1165G7 @ 2.80GHz   2.80 GHz\n",
        "  - 설치된 RAM\t16.0GB(15.7GB 사용 가능)\n",
        "- colab 환경"
      ],
      "metadata": {
        "id": "Y_rpULry-kRQ"
      }
    },
    {
      "cell_type": "code",
      "source": [
        "# colab 환경 컴퓨팅 리소스\n",
        "#운영체제 확인\n",
        "!cat /etc/issue\n",
        "\n",
        "#0. CPU 정보 확인\n",
        "!cat /proc/cpuinfo\n",
        "\n",
        "#1. CPU 코어 전체 개수 확인\n",
        "!grep -c processor /proc/cpuinfo\n",
        "\n",
        "#2. 물리 CPU 수 확인\n",
        "!grep \"physical id\" /proc/cpuinfo | sort -u | wc -l\n",
        "\n",
        "# 3.CPU당 물리 코어 수 확인\n",
        "!grep \"cpu cores\" /proc/cpuinfo | tail -1\n",
        "\n",
        "#메모리 확인\n",
        "!free -h\n",
        "\n",
        "#런타임 유형 변경 후 gpu 확인\n",
        "!nvidia-smi"
      ],
      "metadata": {
        "colab": {
          "base_uri": "https://localhost:8080/"
        },
        "id": "Qgxkwhu2g_3r",
        "outputId": "5cd591fe-f31a-4725-9148-1724db5e79e8"
      },
      "execution_count": 1,
      "outputs": [
        {
          "output_type": "stream",
          "name": "stdout",
          "text": [
            "Ubuntu 22.04.2 LTS \\n \\l\n",
            "\n",
            "processor\t: 0\n",
            "vendor_id\t: GenuineIntel\n",
            "cpu family\t: 6\n",
            "model\t\t: 79\n",
            "model name\t: Intel(R) Xeon(R) CPU @ 2.20GHz\n",
            "stepping\t: 0\n",
            "microcode\t: 0xffffffff\n",
            "cpu MHz\t\t: 2200.162\n",
            "cache size\t: 56320 KB\n",
            "physical id\t: 0\n",
            "siblings\t: 2\n",
            "core id\t\t: 0\n",
            "cpu cores\t: 1\n",
            "apicid\t\t: 0\n",
            "initial apicid\t: 0\n",
            "fpu\t\t: yes\n",
            "fpu_exception\t: yes\n",
            "cpuid level\t: 13\n",
            "wp\t\t: yes\n",
            "flags\t\t: fpu vme de pse tsc msr pae mce cx8 apic sep mtrr pge mca cmov pat pse36 clflush mmx fxsr sse sse2 ss ht syscall nx pdpe1gb rdtscp lm constant_tsc rep_good nopl xtopology nonstop_tsc cpuid tsc_known_freq pni pclmulqdq ssse3 fma cx16 pcid sse4_1 sse4_2 x2apic movbe popcnt aes xsave avx f16c rdrand hypervisor lahf_lm abm 3dnowprefetch invpcid_single ssbd ibrs ibpb stibp fsgsbase tsc_adjust bmi1 hle avx2 smep bmi2 erms invpcid rtm rdseed adx smap xsaveopt arat md_clear arch_capabilities\n",
            "bugs\t\t: cpu_meltdown spectre_v1 spectre_v2 spec_store_bypass l1tf mds swapgs taa mmio_stale_data retbleed\n",
            "bogomips\t: 4400.32\n",
            "clflush size\t: 64\n",
            "cache_alignment\t: 64\n",
            "address sizes\t: 46 bits physical, 48 bits virtual\n",
            "power management:\n",
            "\n",
            "processor\t: 1\n",
            "vendor_id\t: GenuineIntel\n",
            "cpu family\t: 6\n",
            "model\t\t: 79\n",
            "model name\t: Intel(R) Xeon(R) CPU @ 2.20GHz\n",
            "stepping\t: 0\n",
            "microcode\t: 0xffffffff\n",
            "cpu MHz\t\t: 2200.162\n",
            "cache size\t: 56320 KB\n",
            "physical id\t: 0\n",
            "siblings\t: 2\n",
            "core id\t\t: 0\n",
            "cpu cores\t: 1\n",
            "apicid\t\t: 1\n",
            "initial apicid\t: 1\n",
            "fpu\t\t: yes\n",
            "fpu_exception\t: yes\n",
            "cpuid level\t: 13\n",
            "wp\t\t: yes\n",
            "flags\t\t: fpu vme de pse tsc msr pae mce cx8 apic sep mtrr pge mca cmov pat pse36 clflush mmx fxsr sse sse2 ss ht syscall nx pdpe1gb rdtscp lm constant_tsc rep_good nopl xtopology nonstop_tsc cpuid tsc_known_freq pni pclmulqdq ssse3 fma cx16 pcid sse4_1 sse4_2 x2apic movbe popcnt aes xsave avx f16c rdrand hypervisor lahf_lm abm 3dnowprefetch invpcid_single ssbd ibrs ibpb stibp fsgsbase tsc_adjust bmi1 hle avx2 smep bmi2 erms invpcid rtm rdseed adx smap xsaveopt arat md_clear arch_capabilities\n",
            "bugs\t\t: cpu_meltdown spectre_v1 spectre_v2 spec_store_bypass l1tf mds swapgs taa mmio_stale_data retbleed\n",
            "bogomips\t: 4400.32\n",
            "clflush size\t: 64\n",
            "cache_alignment\t: 64\n",
            "address sizes\t: 46 bits physical, 48 bits virtual\n",
            "power management:\n",
            "\n",
            "2\n",
            "1\n",
            "cpu cores\t: 1\n",
            "               total        used        free      shared  buff/cache   available\n",
            "Mem:            12Gi       574Mi       7.5Gi       1.0Mi       4.6Gi        11Gi\n",
            "Swap:             0B          0B          0B\n",
            "/bin/bash: line 1: nvidia-smi: command not found\n"
          ]
        }
      ]
    },
    {
      "cell_type": "markdown",
      "source": [
        "\n",
        "소프트웨어\n",
        "- 파이썬, 코랩, 주피터 노트북 활용"
      ],
      "metadata": {
        "id": "BfSlcssyhNKw"
      }
    },
    {
      "cell_type": "markdown",
      "source": [
        "# 4. 용어"
      ],
      "metadata": {
        "id": "7CaVDSQS_0Rx"
      }
    },
    {
      "cell_type": "markdown",
      "source": [
        "## 4-1. 비즈니스 용어집"
      ],
      "metadata": {
        "id": "B32fEkPOKSxa"
      }
    },
    {
      "cell_type": "markdown",
      "source": [
        "금융상품\n",
        "- 금융시장에서 거래되는 모든 상품들을 통칭하는 말로, 주식, 리츠, 채권, 파생상풍, etf 등 다양한 종류가 존재\n",
        "\n",
        "리츠\n",
        "- 부동산 간접 투자 상품의 하나. 공모를 통해 일반 투자자들로부터 자금을 모은 후, 이 자금을 부동산과 부동산 관련 유가 증권에 투자한 뒤 운용 수익을 투자자들에게 배당하는 금융상품\n",
        "\n",
        "채권\n",
        "- 국가, 지방 자치 단체, 은행, 회사 따위가 사업에 필요한 자금을 차입하기 위하여 발행하는 유가 증권인 금융상품\n",
        "- 공채, 국채, 사채, 지방채 등이 있음\n",
        "\n",
        "주식\n",
        "- 주주의 출자에 대하여 교부하는 유가 증권인 금융상품\n",
        "\n",
        "재무제표\n",
        "- 기업이 회계 연도가 끝나는 때에 결산 보고를 하기 위하여 작성하는 여러 가지 종류의 회계 보고서로 손익계산서, 재무상태표, 현금흐름표로 구성\n",
        "\n",
        "- 손익계산서\n",
        "  - 한 회계 기간에 기업의 모든 비용과 수익을 비교하여서 손익의 정도를 밝히는 계산서\n",
        "  - 매출, 영업이익, 순이익 등의 지표들로 구성\n",
        "\n",
        "- 재무상태표\n",
        "  - 기업이 결산 때에 재정 상태를 한눈에 볼 수 있게 도식화한 표\n",
        "  - 자산, 부채, 유동자산, 유동 부채등으로 구성\n",
        "\n",
        "- 현금흐름표\n",
        "  - 정한 기간 동안의 기업의 현금 흐름을 나타내는 표\n",
        "  - 영업활동으로 인한 현금흐름, 재무활동으로 인한 현금흐름, 투자활동으로 인한 현금흐름 등이 있음\n",
        "\n",
        "주식 가치평가 지표\n",
        "- 주식의 거래가격 정보, 재무제표의 정보들을 활용해서 만든 지표들\n",
        "- 펀더멘탈 지표, 벨류 지표, 모멘텀 지표로 크게 분류 가능\n",
        "- 펀더멘탈 지표\n",
        "  - 해당 주식의 재무제표 정보만을 이용해서 만든 가치평가 지표\n",
        "  - 영업이익률, 순이익률, 부채비율 등이 있음\n",
        "- 벨류 지표\n",
        "  - 해당 주식의 거래가격 정보와 재무제표의 정보를 조합해서 만든 가치평가 지표\n",
        "  - PER, PBR, PSR 등이 있음\n",
        "- 모멘텀 지표\n",
        "  - 해당 주식의 거래가격 정보만을 이용해서 만든 가치평가 지표\n",
        "  - 20일 평균이동선 대비 상승정도 등이 있음\n",
        "\n",
        "ETF\n",
        "- 특정 주가 지수에 따라 수익률이 결정되는 인덱스 펀드를 주식처럼 사고팔 수 있게 증권 시장에 상장한 펀드\n",
        "- 주식을 과일이라 한다면, ETF는 과일바구니라 할 수 있음\n",
        "\n",
        "PDF\n",
        "- Portfolio Deposit File 의 약자\n",
        "- ETF를 구성하는 금융상품들이 어떤 비율로 구성되어 있는지 나타내는 표\n",
        "- ETF가 과일바구니라면, 과일바구니의 과일들이 어떤 구성으로 되어 있는지 나타낸 것이 PDF라 할 수 있음\n",
        "\n",
        "연금계좌\n",
        "- 연금을 운용할 때 도움이 되는 계좌로, 세제혜택 등의 혜택이 있음\n",
        "- IRP, 연금저축펀드 등이 있음\n",
        "- IRP(퇴직연금)\n",
        "  - 근로자의 퇴직금을 자신 명의의 퇴직 계좌에 적립해 연금 등 노후자금으로 활용할 수 있게 하는 제도로,  퇴직하지 않아도 누구나 개설할 수 있다.\n",
        "\n",
        "- 연금저축펀드(개인연금)\n",
        "  - 개인이 노후를 대비하여 가입하는 상품. 연금저축은 운용기관에 따라 연금저축신탁(은행), 연금저축보험(보험사), 연금저축펀드(증권사)로 나뉜다\n",
        "\n",
        "\n",
        "연금상품\n",
        "- 연금계좌에서 담을 수 있는 금융상품\n",
        "- ETF(파생상품 등 제외), 리츠, 예금 등이 있음\n",
        "\n",
        "\n",
        "ETF 가치평가 지표\n",
        "- '주식 가치평가 지표'를 ETF에 적용시킨 지표\n",
        "- ETF 중 주식으로만 이루어진 ETF에 적용 가능\n"
      ],
      "metadata": {
        "id": "dUH6HFAYKX6f"
      }
    },
    {
      "cell_type": "markdown",
      "source": [
        "## 4-2. 데이터 마이닝 용어집"
      ],
      "metadata": {
        "id": "e3zZoB88KYMq"
      }
    },
    {
      "cell_type": "markdown",
      "source": [
        "연금상품 평가기준\n",
        "- '시물레이션 기능'에서 선택하는 'ETF 가치평가 지표'\n",
        "\n",
        "리밸런싱\n",
        "- 정해진 일정 주기마다 연금계좌에 '연금상품 평가기준'에 따른 '연금상품'들의 비중을 목표비중으로 조정하는 것\n",
        "\n",
        "리밸런싱 주기\n",
        "- 리밸런싱을 실행하는 주기\n",
        "\n",
        "납입밥법\n",
        "- 연금계좌에 돈을 납입하는 방식\n",
        "- 월초납입, 월말납입 등이 있음\n",
        "\n",
        "시뮬레이션 기간\n",
        "- '시물레이션 기능'을 실행하는 시물레이션 기간\n",
        "\n",
        "투자 전략\n",
        "- '납입금액' 중 어느정도의 비중을 '연금상품 평가기준'에 맞게 구매할 지 정하는 기준\n",
        "- '연금상품 평가기준'을 설정할 수도, 특정 '연금상품'을 직접 지정할 수도 있음\n",
        "\n",
        "포트폴리오\n",
        "- 투자 전략들과 리밸런싱 주기, 납입방법, 시뮬레이션 기간등을 조합한 '최종 연금계좌 투자전략'\n",
        "\n",
        "시뮬레이션 기능\n",
        "- 포트폴리오를 실제데이터에 적용했을 때, 어떤 결과가 나왔을 지 확인하는 기능\n",
        "\n",
        "포트폴리오 결과\n",
        "- 시뮬레이션 기능 적용했을 때 나오는 수익률, MDD 등의 지표들\n",
        "\n",
        "크롤링\n",
        "- ㅇ\n",
        "\n",
        "데이터프레임\n",
        "- ㅇ\n",
        "\n",
        "동시성\n",
        "- ㅇ\n",
        "\n",
        "병렬성\n",
        "- ㅇ\n",
        "\n",
        "\n"
      ],
      "metadata": {
        "id": "dMexrWZTKYUe"
      }
    },
    {
      "cell_type": "markdown",
      "source": [
        "# 5. 요구사항, 가정 및 제약"
      ],
      "metadata": {
        "id": "KGaneC1VIdNG"
      }
    },
    {
      "cell_type": "markdown",
      "source": [
        "- 사용자가 '투자기준 및 방법', '기간', '납입 금액'등을 입력하면 실행결과를 시뮬레이션 해주는 '시뮬레이션 코드'가 필요\n",
        "- 프로젝트의 마감은 2023년 9월 까지 예정\n",
        "- KRX에서 확보가능하고 필요한 데이터들(pdf 파일들, ETF 기본정보, 금융상품 거래가격 등)을 크롤링 및 다운로드 하여 사용 : 데이터 셋들의 크기는 10GB 이하의 데이터들을 확보\n",
        "- DART 에서 2015년 4분기 이후 재무제표 데이터들만이 확보 가능\n",
        "- KRX와 DART는 신뢰할만한 기관\n",
        "- 확보한 데이터들은 2022년 12월 31일 까지의 데이터들로 한정\n",
        "- ETF 중 국내주식, 주식형, 파생X 의 조건들을 갖춘 ETf들에 대해서만 'ETF 가치평가 지표'를 생성"
      ],
      "metadata": {
        "id": "oQoAx0nyA1XR"
      }
    },
    {
      "cell_type": "markdown",
      "source": [
        "# 6. 위험 및 우연성"
      ],
      "metadata": {
        "id": "UX58TPWueESm"
      }
    },
    {
      "cell_type": "markdown",
      "source": [
        "## 6-1. 위험요소\n",
        "- 데이터를 확보함에 있어 필요한 모든 주식들, 모든 etf 들의 정보들(ex - 재무제표, pdf 파일들)이 없거나 결측치가 있을 수 있음\n",
        "- 데이터를 다운로드 받는데 많은 파일들이 필요하기에 시간이 많이 걸릴 수 있음\n",
        "- 도메인 지식의 부족 또는 착오로 인해서 진행과정에 문제가 있을 수 있음\n"
      ],
      "metadata": {
        "id": "B7k1UMYKeHFC"
      }
    },
    {
      "cell_type": "markdown",
      "source": [
        "## 6-2. 비상계획\n",
        "- 정보들이 없는 경우, dart와 krx의 다른 자료들을 추가적으로 조사해보고 그래도 없는 경우는 null 값으로 처리\n",
        "- 시간이 많이 걸리는 부분은 os 지식을 활용해서 동시성, 병령성 프로그래밍 등을 활용해서 파일을 다운로드\n",
        "- 도메인 지식의 오류가 있는 경우를 대비해서 프로젝트 기간을 보수적으로 산정"
      ],
      "metadata": {
        "id": "VVafZ8LUeVsx"
      }
    },
    {
      "cell_type": "markdown",
      "source": [
        "# 7. 비즈니스 성공 기준"
      ],
      "metadata": {
        "id": "_DhFqSwFgFS3"
      }
    },
    {
      "cell_type": "markdown",
      "source": [
        "- 포트폴리오의 '시뮬레이션 기능'을 통해 가장 높은 수익률 기록하는 포트폴리오를 찾는 것이 목표\n",
        "- 최종적으로는 만든 최적의 포트폴리오를 직접 연금계좌 운용에 적용"
      ],
      "metadata": {
        "id": "4VqVWiWckvfG"
      }
    },
    {
      "cell_type": "markdown",
      "source": [
        "# 8. 데이터 마이닝 성공 기준"
      ],
      "metadata": {
        "id": "9bcFzACsgrKq"
      }
    },
    {
      "cell_type": "markdown",
      "source": [
        "- 'ETF 가치평가 지표'의 생성\n",
        "- '시뮬레이션 기능'을 제공하는 코드 작성\n",
        "- 최적의 '포트폴리오 결과'를 찾기 위한 머신러닝 모델 생성"
      ],
      "metadata": {
        "id": "t1ekGFGpklLp"
      }
    },
    {
      "cell_type": "markdown",
      "source": [
        "# 9. 프로젝트 계획"
      ],
      "metadata": {
        "id": "9il3zM4ak0_v"
      }
    },
    {
      "cell_type": "markdown",
      "source": [
        "1. 필요한 데이터 확보\n",
        "\n",
        "2. 'ETF 가치평가 지표'의 생성\n",
        "\n",
        "3. '시뮬레이션 기능'을 제공하는 코드 작성\n",
        "\n",
        "4. 머신러닝 모델 생성\n",
        "\n",
        "순으로 프로젝트 진행 예정"
      ],
      "metadata": {
        "id": "yDZrXXHik2Zb"
      }
    },
    {
      "cell_type": "markdown",
      "source": [
        "# 10. 도구 및 기법의 초기 평가"
      ],
      "metadata": {
        "id": "depbfQr8k3HO"
      }
    },
    {
      "cell_type": "markdown",
      "source": [],
      "metadata": {
        "id": "GLfkyMM5k7Hb"
      }
    }
  ]
}